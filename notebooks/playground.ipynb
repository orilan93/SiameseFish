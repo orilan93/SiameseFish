{
 "cells": [
  {
   "cell_type": "code",
   "execution_count": 6,
   "metadata": {
    "collapsed": true,
    "pycharm": {
     "name": "#%%\n"
    }
   },
   "outputs": [],
   "source": [
    "import pandas as pd\n",
    "import os\n",
    "import glob\n",
    "\n",
    "META_FILE = 'E:\\\\Mugshots\\\\photoFeltGrønngylt2.csv'\n",
    "DATASET_DIRECTORY = '../../data/dataset_condensed'"
   ]
  },
  {
   "cell_type": "code",
   "execution_count": 4,
   "outputs": [
    {
     "data": {
      "text/plain": "     RowNumber     pit    species  length  sex  spawning  recap  photostart  \\\n0           74  209144  grønngylt     153    m       NaN    0.0        18.0   \n1          112  209633  grønngylt     179    m       1.0    0.0        17.0   \n2          130  209814  grønngylt     189    m       NaN    0.0        19.0   \n3          149  209984  grønngylt     142    m       NaN    0.0        24.0   \n4          148  209983  grønngylt     187    m       NaN    0.0        26.0   \n...        ...     ...        ...     ...  ...       ...    ...         ...   \n3450      1281  421945   bergnebb     112    f       0.0    NaN      1134.0   \n3451      2678  430857   bergnebb     117    m       0.0    NaN      1136.0   \n3452       883  421106   berggylt     260  NaN       0.0    NaN      1138.0   \n3453     extra  424916  grønngylt     132    f       1.0    NaN       696.0   \n3454      2101  424334  grønngylt     123    m       0.0    0.0       698.0   \n\n      photostop        date  ... crypto  skade løpernummer    dataset  \\\n0          19.0  02.08.2017  ...    NaN    NaN        21.0  FieldMain   \n1           NaN  02.08.2017  ...    NaN    NaN        20.0  FieldMain   \n2          21.0  03.08.2017  ...    NaN    NaN       476.0  FieldMain   \n3          25.0  03.08.2017  ...    NaN    NaN       482.0  FieldMain   \n4          27.0  03.08.2017  ...    NaN    NaN       494.0  FieldMain   \n...         ...         ...  ...    ...    ...         ...        ...   \n3450     1135.0  30.10.2019  ...    NaN    NaN       292.0    LabMain   \n3451     1137.0  30.10.2019  ...    NaN    NaN       293.0    LabMain   \n3452     1139.0  30.10.2019  ...    NaN    NaN       294.0    LabMain   \n3453      697.0  15.05.2018  ...    NaN    NaN      7249.0  FieldMain   \n3454      699.0  15.05.2018  ...    NaN    NaN      7249.0  FieldMain   \n\n      photostart2  photostop2 nfotos  photoObs  photostartold  photostopOld  \n0            18.0        19.0    2.0         2            NaN           NaN  \n1            17.0         NaN    NaN         1            NaN           NaN  \n2            19.0        21.0    3.0         1            NaN           NaN  \n3            24.0        25.0    2.0         1            NaN           NaN  \n4            26.0        27.0    2.0         1            NaN           NaN  \n...           ...         ...    ...       ...            ...           ...  \n3450       1134.0      1135.0    2.0         2            NaN           NaN  \n3451       1136.0      1137.0    2.0         2            NaN           NaN  \n3452       1138.0      1139.0    2.0         2            NaN           NaN  \n3453        696.0       697.0    2.0         2         not in        not in  \n3454        698.0       699.0    2.0         3            696           697  \n\n[3455 rows x 23 columns]",
      "text/html": "<div>\n<style scoped>\n    .dataframe tbody tr th:only-of-type {\n        vertical-align: middle;\n    }\n\n    .dataframe tbody tr th {\n        vertical-align: top;\n    }\n\n    .dataframe thead th {\n        text-align: right;\n    }\n</style>\n<table border=\"1\" class=\"dataframe\">\n  <thead>\n    <tr style=\"text-align: right;\">\n      <th></th>\n      <th>RowNumber</th>\n      <th>pit</th>\n      <th>species</th>\n      <th>length</th>\n      <th>sex</th>\n      <th>spawning</th>\n      <th>recap</th>\n      <th>photostart</th>\n      <th>photostop</th>\n      <th>date</th>\n      <th>...</th>\n      <th>crypto</th>\n      <th>skade</th>\n      <th>løpernummer</th>\n      <th>dataset</th>\n      <th>photostart2</th>\n      <th>photostop2</th>\n      <th>nfotos</th>\n      <th>photoObs</th>\n      <th>photostartold</th>\n      <th>photostopOld</th>\n    </tr>\n  </thead>\n  <tbody>\n    <tr>\n      <th>0</th>\n      <td>74</td>\n      <td>209144</td>\n      <td>grønngylt</td>\n      <td>153</td>\n      <td>m</td>\n      <td>NaN</td>\n      <td>0.0</td>\n      <td>18.0</td>\n      <td>19.0</td>\n      <td>02.08.2017</td>\n      <td>...</td>\n      <td>NaN</td>\n      <td>NaN</td>\n      <td>21.0</td>\n      <td>FieldMain</td>\n      <td>18.0</td>\n      <td>19.0</td>\n      <td>2.0</td>\n      <td>2</td>\n      <td>NaN</td>\n      <td>NaN</td>\n    </tr>\n    <tr>\n      <th>1</th>\n      <td>112</td>\n      <td>209633</td>\n      <td>grønngylt</td>\n      <td>179</td>\n      <td>m</td>\n      <td>1.0</td>\n      <td>0.0</td>\n      <td>17.0</td>\n      <td>NaN</td>\n      <td>02.08.2017</td>\n      <td>...</td>\n      <td>NaN</td>\n      <td>NaN</td>\n      <td>20.0</td>\n      <td>FieldMain</td>\n      <td>17.0</td>\n      <td>NaN</td>\n      <td>NaN</td>\n      <td>1</td>\n      <td>NaN</td>\n      <td>NaN</td>\n    </tr>\n    <tr>\n      <th>2</th>\n      <td>130</td>\n      <td>209814</td>\n      <td>grønngylt</td>\n      <td>189</td>\n      <td>m</td>\n      <td>NaN</td>\n      <td>0.0</td>\n      <td>19.0</td>\n      <td>21.0</td>\n      <td>03.08.2017</td>\n      <td>...</td>\n      <td>NaN</td>\n      <td>NaN</td>\n      <td>476.0</td>\n      <td>FieldMain</td>\n      <td>19.0</td>\n      <td>21.0</td>\n      <td>3.0</td>\n      <td>1</td>\n      <td>NaN</td>\n      <td>NaN</td>\n    </tr>\n    <tr>\n      <th>3</th>\n      <td>149</td>\n      <td>209984</td>\n      <td>grønngylt</td>\n      <td>142</td>\n      <td>m</td>\n      <td>NaN</td>\n      <td>0.0</td>\n      <td>24.0</td>\n      <td>25.0</td>\n      <td>03.08.2017</td>\n      <td>...</td>\n      <td>NaN</td>\n      <td>NaN</td>\n      <td>482.0</td>\n      <td>FieldMain</td>\n      <td>24.0</td>\n      <td>25.0</td>\n      <td>2.0</td>\n      <td>1</td>\n      <td>NaN</td>\n      <td>NaN</td>\n    </tr>\n    <tr>\n      <th>4</th>\n      <td>148</td>\n      <td>209983</td>\n      <td>grønngylt</td>\n      <td>187</td>\n      <td>m</td>\n      <td>NaN</td>\n      <td>0.0</td>\n      <td>26.0</td>\n      <td>27.0</td>\n      <td>03.08.2017</td>\n      <td>...</td>\n      <td>NaN</td>\n      <td>NaN</td>\n      <td>494.0</td>\n      <td>FieldMain</td>\n      <td>26.0</td>\n      <td>27.0</td>\n      <td>2.0</td>\n      <td>1</td>\n      <td>NaN</td>\n      <td>NaN</td>\n    </tr>\n    <tr>\n      <th>...</th>\n      <td>...</td>\n      <td>...</td>\n      <td>...</td>\n      <td>...</td>\n      <td>...</td>\n      <td>...</td>\n      <td>...</td>\n      <td>...</td>\n      <td>...</td>\n      <td>...</td>\n      <td>...</td>\n      <td>...</td>\n      <td>...</td>\n      <td>...</td>\n      <td>...</td>\n      <td>...</td>\n      <td>...</td>\n      <td>...</td>\n      <td>...</td>\n      <td>...</td>\n      <td>...</td>\n    </tr>\n    <tr>\n      <th>3450</th>\n      <td>1281</td>\n      <td>421945</td>\n      <td>bergnebb</td>\n      <td>112</td>\n      <td>f</td>\n      <td>0.0</td>\n      <td>NaN</td>\n      <td>1134.0</td>\n      <td>1135.0</td>\n      <td>30.10.2019</td>\n      <td>...</td>\n      <td>NaN</td>\n      <td>NaN</td>\n      <td>292.0</td>\n      <td>LabMain</td>\n      <td>1134.0</td>\n      <td>1135.0</td>\n      <td>2.0</td>\n      <td>2</td>\n      <td>NaN</td>\n      <td>NaN</td>\n    </tr>\n    <tr>\n      <th>3451</th>\n      <td>2678</td>\n      <td>430857</td>\n      <td>bergnebb</td>\n      <td>117</td>\n      <td>m</td>\n      <td>0.0</td>\n      <td>NaN</td>\n      <td>1136.0</td>\n      <td>1137.0</td>\n      <td>30.10.2019</td>\n      <td>...</td>\n      <td>NaN</td>\n      <td>NaN</td>\n      <td>293.0</td>\n      <td>LabMain</td>\n      <td>1136.0</td>\n      <td>1137.0</td>\n      <td>2.0</td>\n      <td>2</td>\n      <td>NaN</td>\n      <td>NaN</td>\n    </tr>\n    <tr>\n      <th>3452</th>\n      <td>883</td>\n      <td>421106</td>\n      <td>berggylt</td>\n      <td>260</td>\n      <td>NaN</td>\n      <td>0.0</td>\n      <td>NaN</td>\n      <td>1138.0</td>\n      <td>1139.0</td>\n      <td>30.10.2019</td>\n      <td>...</td>\n      <td>NaN</td>\n      <td>NaN</td>\n      <td>294.0</td>\n      <td>LabMain</td>\n      <td>1138.0</td>\n      <td>1139.0</td>\n      <td>2.0</td>\n      <td>2</td>\n      <td>NaN</td>\n      <td>NaN</td>\n    </tr>\n    <tr>\n      <th>3453</th>\n      <td>extra</td>\n      <td>424916</td>\n      <td>grønngylt</td>\n      <td>132</td>\n      <td>f</td>\n      <td>1.0</td>\n      <td>NaN</td>\n      <td>696.0</td>\n      <td>697.0</td>\n      <td>15.05.2018</td>\n      <td>...</td>\n      <td>NaN</td>\n      <td>NaN</td>\n      <td>7249.0</td>\n      <td>FieldMain</td>\n      <td>696.0</td>\n      <td>697.0</td>\n      <td>2.0</td>\n      <td>2</td>\n      <td>not in</td>\n      <td>not in</td>\n    </tr>\n    <tr>\n      <th>3454</th>\n      <td>2101</td>\n      <td>424334</td>\n      <td>grønngylt</td>\n      <td>123</td>\n      <td>m</td>\n      <td>0.0</td>\n      <td>0.0</td>\n      <td>698.0</td>\n      <td>699.0</td>\n      <td>15.05.2018</td>\n      <td>...</td>\n      <td>NaN</td>\n      <td>NaN</td>\n      <td>7249.0</td>\n      <td>FieldMain</td>\n      <td>698.0</td>\n      <td>699.0</td>\n      <td>2.0</td>\n      <td>3</td>\n      <td>696</td>\n      <td>697</td>\n    </tr>\n  </tbody>\n</table>\n<p>3455 rows × 23 columns</p>\n</div>"
     },
     "execution_count": 4,
     "metadata": {},
     "output_type": "execute_result"
    }
   ],
   "source": [
    "df = pd.read_csv(META_FILE, sep=';')\n",
    "df"
   ],
   "metadata": {
    "collapsed": false,
    "pycharm": {
     "name": "#%%\n"
    }
   }
  },
  {
   "cell_type": "code",
   "execution_count": 10,
   "outputs": [
    {
     "data": {
      "text/plain": "'204295'"
     },
     "execution_count": 10,
     "metadata": {},
     "output_type": "execute_result"
    }
   ],
   "source": [
    "jpg_files = glob.glob(DATASET_DIRECTORY + \"\\\\*.jpg\")\n",
    "pits = [os.path.splitext(os.path.basename(jpg_file))[0].split('_')[0] for jpg_file in jpg_files]\n",
    "pits[0]"
   ],
   "metadata": {
    "collapsed": false,
    "pycharm": {
     "name": "#%%\n"
    }
   }
  },
  {
   "cell_type": "code",
   "execution_count": 13,
   "outputs": [
    {
     "data": {
      "text/plain": "     RowNumber     pit    species  length sex  spawning  recap  photostart  \\\n0           74  209144  grønngylt     153   m       NaN    0.0        18.0   \n1          112  209633  grønngylt     179   m       1.0    0.0        17.0   \n2          130  209814  grønngylt     189   m       NaN    0.0        19.0   \n3          149  209984  grønngylt     142   m       NaN    0.0        24.0   \n4          148  209983  grønngylt     187   m       NaN    0.0        26.0   \n...        ...     ...        ...     ...  ..       ...    ...         ...   \n3447      2840  433687   bergnebb     123   m       0.0    NaN      1128.0   \n3448        23  201325   bergnebb     115   m       0.0    NaN      1130.0   \n3449      2808  433386   bergnebb     117   m       0.0    NaN      1132.0   \n3451      2678  430857   bergnebb     117   m       0.0    NaN      1136.0   \n3454      2101  424334  grønngylt     123   m       0.0    0.0       698.0   \n\n      photostop        date  ... crypto  skade løpernummer    dataset  \\\n0          19.0  02.08.2017  ...    NaN    NaN        21.0  FieldMain   \n1           NaN  02.08.2017  ...    NaN    NaN        20.0  FieldMain   \n2          21.0  03.08.2017  ...    NaN    NaN       476.0  FieldMain   \n3          25.0  03.08.2017  ...    NaN    NaN       482.0  FieldMain   \n4          27.0  03.08.2017  ...    NaN    NaN       494.0  FieldMain   \n...         ...         ...  ...    ...    ...         ...        ...   \n3447     1129.0  30.10.2019  ...    NaN    NaN       289.0    LabMain   \n3448     1131.0  30.10.2019  ...    NaN    NaN       290.0    LabMain   \n3449     1133.0  30.10.2019  ...    NaN    NaN       291.0    LabMain   \n3451     1137.0  30.10.2019  ...    NaN    NaN       293.0    LabMain   \n3454      699.0  15.05.2018  ...    NaN    NaN      7249.0  FieldMain   \n\n      photostart2  photostop2 nfotos  photoObs  photostartold  photostopOld  \n0            18.0        19.0    2.0         2            NaN           NaN  \n1            17.0         NaN    NaN         1            NaN           NaN  \n2            19.0        21.0    3.0         1            NaN           NaN  \n3            24.0        25.0    2.0         1            NaN           NaN  \n4            26.0        27.0    2.0         1            NaN           NaN  \n...           ...         ...    ...       ...            ...           ...  \n3447       1128.0      1129.0    2.0         2            NaN           NaN  \n3448       1130.0      1131.0    2.0         1            NaN           NaN  \n3449       1132.0      1133.0    2.0         1            NaN           NaN  \n3451       1136.0      1137.0    2.0         2            NaN           NaN  \n3454        698.0       699.0    2.0         3            696           697  \n\n[1602 rows x 23 columns]",
      "text/html": "<div>\n<style scoped>\n    .dataframe tbody tr th:only-of-type {\n        vertical-align: middle;\n    }\n\n    .dataframe tbody tr th {\n        vertical-align: top;\n    }\n\n    .dataframe thead th {\n        text-align: right;\n    }\n</style>\n<table border=\"1\" class=\"dataframe\">\n  <thead>\n    <tr style=\"text-align: right;\">\n      <th></th>\n      <th>RowNumber</th>\n      <th>pit</th>\n      <th>species</th>\n      <th>length</th>\n      <th>sex</th>\n      <th>spawning</th>\n      <th>recap</th>\n      <th>photostart</th>\n      <th>photostop</th>\n      <th>date</th>\n      <th>...</th>\n      <th>crypto</th>\n      <th>skade</th>\n      <th>løpernummer</th>\n      <th>dataset</th>\n      <th>photostart2</th>\n      <th>photostop2</th>\n      <th>nfotos</th>\n      <th>photoObs</th>\n      <th>photostartold</th>\n      <th>photostopOld</th>\n    </tr>\n  </thead>\n  <tbody>\n    <tr>\n      <th>0</th>\n      <td>74</td>\n      <td>209144</td>\n      <td>grønngylt</td>\n      <td>153</td>\n      <td>m</td>\n      <td>NaN</td>\n      <td>0.0</td>\n      <td>18.0</td>\n      <td>19.0</td>\n      <td>02.08.2017</td>\n      <td>...</td>\n      <td>NaN</td>\n      <td>NaN</td>\n      <td>21.0</td>\n      <td>FieldMain</td>\n      <td>18.0</td>\n      <td>19.0</td>\n      <td>2.0</td>\n      <td>2</td>\n      <td>NaN</td>\n      <td>NaN</td>\n    </tr>\n    <tr>\n      <th>1</th>\n      <td>112</td>\n      <td>209633</td>\n      <td>grønngylt</td>\n      <td>179</td>\n      <td>m</td>\n      <td>1.0</td>\n      <td>0.0</td>\n      <td>17.0</td>\n      <td>NaN</td>\n      <td>02.08.2017</td>\n      <td>...</td>\n      <td>NaN</td>\n      <td>NaN</td>\n      <td>20.0</td>\n      <td>FieldMain</td>\n      <td>17.0</td>\n      <td>NaN</td>\n      <td>NaN</td>\n      <td>1</td>\n      <td>NaN</td>\n      <td>NaN</td>\n    </tr>\n    <tr>\n      <th>2</th>\n      <td>130</td>\n      <td>209814</td>\n      <td>grønngylt</td>\n      <td>189</td>\n      <td>m</td>\n      <td>NaN</td>\n      <td>0.0</td>\n      <td>19.0</td>\n      <td>21.0</td>\n      <td>03.08.2017</td>\n      <td>...</td>\n      <td>NaN</td>\n      <td>NaN</td>\n      <td>476.0</td>\n      <td>FieldMain</td>\n      <td>19.0</td>\n      <td>21.0</td>\n      <td>3.0</td>\n      <td>1</td>\n      <td>NaN</td>\n      <td>NaN</td>\n    </tr>\n    <tr>\n      <th>3</th>\n      <td>149</td>\n      <td>209984</td>\n      <td>grønngylt</td>\n      <td>142</td>\n      <td>m</td>\n      <td>NaN</td>\n      <td>0.0</td>\n      <td>24.0</td>\n      <td>25.0</td>\n      <td>03.08.2017</td>\n      <td>...</td>\n      <td>NaN</td>\n      <td>NaN</td>\n      <td>482.0</td>\n      <td>FieldMain</td>\n      <td>24.0</td>\n      <td>25.0</td>\n      <td>2.0</td>\n      <td>1</td>\n      <td>NaN</td>\n      <td>NaN</td>\n    </tr>\n    <tr>\n      <th>4</th>\n      <td>148</td>\n      <td>209983</td>\n      <td>grønngylt</td>\n      <td>187</td>\n      <td>m</td>\n      <td>NaN</td>\n      <td>0.0</td>\n      <td>26.0</td>\n      <td>27.0</td>\n      <td>03.08.2017</td>\n      <td>...</td>\n      <td>NaN</td>\n      <td>NaN</td>\n      <td>494.0</td>\n      <td>FieldMain</td>\n      <td>26.0</td>\n      <td>27.0</td>\n      <td>2.0</td>\n      <td>1</td>\n      <td>NaN</td>\n      <td>NaN</td>\n    </tr>\n    <tr>\n      <th>...</th>\n      <td>...</td>\n      <td>...</td>\n      <td>...</td>\n      <td>...</td>\n      <td>...</td>\n      <td>...</td>\n      <td>...</td>\n      <td>...</td>\n      <td>...</td>\n      <td>...</td>\n      <td>...</td>\n      <td>...</td>\n      <td>...</td>\n      <td>...</td>\n      <td>...</td>\n      <td>...</td>\n      <td>...</td>\n      <td>...</td>\n      <td>...</td>\n      <td>...</td>\n      <td>...</td>\n    </tr>\n    <tr>\n      <th>3447</th>\n      <td>2840</td>\n      <td>433687</td>\n      <td>bergnebb</td>\n      <td>123</td>\n      <td>m</td>\n      <td>0.0</td>\n      <td>NaN</td>\n      <td>1128.0</td>\n      <td>1129.0</td>\n      <td>30.10.2019</td>\n      <td>...</td>\n      <td>NaN</td>\n      <td>NaN</td>\n      <td>289.0</td>\n      <td>LabMain</td>\n      <td>1128.0</td>\n      <td>1129.0</td>\n      <td>2.0</td>\n      <td>2</td>\n      <td>NaN</td>\n      <td>NaN</td>\n    </tr>\n    <tr>\n      <th>3448</th>\n      <td>23</td>\n      <td>201325</td>\n      <td>bergnebb</td>\n      <td>115</td>\n      <td>m</td>\n      <td>0.0</td>\n      <td>NaN</td>\n      <td>1130.0</td>\n      <td>1131.0</td>\n      <td>30.10.2019</td>\n      <td>...</td>\n      <td>NaN</td>\n      <td>NaN</td>\n      <td>290.0</td>\n      <td>LabMain</td>\n      <td>1130.0</td>\n      <td>1131.0</td>\n      <td>2.0</td>\n      <td>1</td>\n      <td>NaN</td>\n      <td>NaN</td>\n    </tr>\n    <tr>\n      <th>3449</th>\n      <td>2808</td>\n      <td>433386</td>\n      <td>bergnebb</td>\n      <td>117</td>\n      <td>m</td>\n      <td>0.0</td>\n      <td>NaN</td>\n      <td>1132.0</td>\n      <td>1133.0</td>\n      <td>30.10.2019</td>\n      <td>...</td>\n      <td>NaN</td>\n      <td>NaN</td>\n      <td>291.0</td>\n      <td>LabMain</td>\n      <td>1132.0</td>\n      <td>1133.0</td>\n      <td>2.0</td>\n      <td>1</td>\n      <td>NaN</td>\n      <td>NaN</td>\n    </tr>\n    <tr>\n      <th>3451</th>\n      <td>2678</td>\n      <td>430857</td>\n      <td>bergnebb</td>\n      <td>117</td>\n      <td>m</td>\n      <td>0.0</td>\n      <td>NaN</td>\n      <td>1136.0</td>\n      <td>1137.0</td>\n      <td>30.10.2019</td>\n      <td>...</td>\n      <td>NaN</td>\n      <td>NaN</td>\n      <td>293.0</td>\n      <td>LabMain</td>\n      <td>1136.0</td>\n      <td>1137.0</td>\n      <td>2.0</td>\n      <td>2</td>\n      <td>NaN</td>\n      <td>NaN</td>\n    </tr>\n    <tr>\n      <th>3454</th>\n      <td>2101</td>\n      <td>424334</td>\n      <td>grønngylt</td>\n      <td>123</td>\n      <td>m</td>\n      <td>0.0</td>\n      <td>0.0</td>\n      <td>698.0</td>\n      <td>699.0</td>\n      <td>15.05.2018</td>\n      <td>...</td>\n      <td>NaN</td>\n      <td>NaN</td>\n      <td>7249.0</td>\n      <td>FieldMain</td>\n      <td>698.0</td>\n      <td>699.0</td>\n      <td>2.0</td>\n      <td>3</td>\n      <td>696</td>\n      <td>697</td>\n    </tr>\n  </tbody>\n</table>\n<p>1602 rows × 23 columns</p>\n</div>"
     },
     "execution_count": 13,
     "metadata": {},
     "output_type": "execute_result"
    }
   ],
   "source": [
    "df_males = df[df['sex'] == 'm']\n",
    "df_males"
   ],
   "metadata": {
    "collapsed": false,
    "pycharm": {
     "name": "#%%\n"
    }
   }
  },
  {
   "cell_type": "code",
   "execution_count": 14,
   "outputs": [
    {
     "data": {
      "text/plain": "     RowNumber     pit    species  length sex  spawning  recap  photostart  \\\n9          119  209700  grønngylt     130   m       NaN    0.0         2.0   \n72        2250  424816  grønngylt     117   m       0.0    1.0       513.0   \n176       2055  424216  grønngylt     184   m       0.0    1.0       739.0   \n612       2003  423995  grønngylt     132   m       1.0    0.0      1402.0   \n661       1683  423193  grønngylt     116   m       0.0    0.0      1507.0   \n...        ...     ...        ...     ...  ..       ...    ...         ...   \n3412      1327  422009  grønngylt     142   m       0.0    NaN      1057.0   \n3414      1023  421446  grønngylt     136   m       0.0    NaN      1061.0   \n3427      1125  421666  grønngylt     137   m       0.0    NaN      1088.0   \n3437       936  421212  grønngylt     134   m       0.0    NaN      1108.0   \n3442       909  421171  grønngylt     108   m       0.0    NaN      1118.0   \n\n      photostop        date  ... crypto  skade løpernummer    dataset  \\\n9           NaN  11.08.2017  ...    NaN    NaN      1427.0  FieldMain   \n72        514.0  14.05.2018  ...    NaN    NaN      6855.0  FieldMain   \n176       740.0  16.05.2018  ...    NaN    NaN      7295.0  FieldMain   \n612      1403.0  03.07.2018  ...    NaN    NaN      8660.0  FieldMain   \n661      1508.0  03.07.2018  ...    NaN    NaN      8804.0  FieldMain   \n...         ...         ...  ...    ...    ...         ...        ...   \n3412     1058.0  30.10.2019  ...    NaN    NaN       254.0    LabMain   \n3414     1062.0  30.10.2019  ...    NaN    NaN       256.0    LabMain   \n3427     1089.0  30.10.2019  ...    NaN    NaN       269.0    LabMain   \n3437     1109.0  30.10.2019  ...    NaN    NaN       279.0    LabMain   \n3442     1119.0  30.10.2019  ...    NaN    NaN       284.0    LabMain   \n\n      photostart2  photostop2 nfotos  photoObs  photostartold  photostopOld  \n9             2.0         NaN    NaN         3            NaN           NaN  \n72          513.0       514.0    2.0         3            NaN           NaN  \n176         739.0       740.0    2.0         3            NaN           NaN  \n612        1402.0      1403.0    2.0         2            NaN           NaN  \n661        1507.0      1508.0    2.0         2            NaN           NaN  \n...           ...         ...    ...       ...            ...           ...  \n3412       1057.0      1058.0    2.0         3            NaN           NaN  \n3414       1061.0      1062.0    2.0         2            NaN           NaN  \n3427       1088.0      1089.0    2.0         2            NaN           NaN  \n3437       1108.0      1109.0    2.0         2            NaN           NaN  \n3442       1118.0      1119.0    2.0         2            NaN           NaN  \n\n[163 rows x 23 columns]",
      "text/html": "<div>\n<style scoped>\n    .dataframe tbody tr th:only-of-type {\n        vertical-align: middle;\n    }\n\n    .dataframe tbody tr th {\n        vertical-align: top;\n    }\n\n    .dataframe thead th {\n        text-align: right;\n    }\n</style>\n<table border=\"1\" class=\"dataframe\">\n  <thead>\n    <tr style=\"text-align: right;\">\n      <th></th>\n      <th>RowNumber</th>\n      <th>pit</th>\n      <th>species</th>\n      <th>length</th>\n      <th>sex</th>\n      <th>spawning</th>\n      <th>recap</th>\n      <th>photostart</th>\n      <th>photostop</th>\n      <th>date</th>\n      <th>...</th>\n      <th>crypto</th>\n      <th>skade</th>\n      <th>løpernummer</th>\n      <th>dataset</th>\n      <th>photostart2</th>\n      <th>photostop2</th>\n      <th>nfotos</th>\n      <th>photoObs</th>\n      <th>photostartold</th>\n      <th>photostopOld</th>\n    </tr>\n  </thead>\n  <tbody>\n    <tr>\n      <th>9</th>\n      <td>119</td>\n      <td>209700</td>\n      <td>grønngylt</td>\n      <td>130</td>\n      <td>m</td>\n      <td>NaN</td>\n      <td>0.0</td>\n      <td>2.0</td>\n      <td>NaN</td>\n      <td>11.08.2017</td>\n      <td>...</td>\n      <td>NaN</td>\n      <td>NaN</td>\n      <td>1427.0</td>\n      <td>FieldMain</td>\n      <td>2.0</td>\n      <td>NaN</td>\n      <td>NaN</td>\n      <td>3</td>\n      <td>NaN</td>\n      <td>NaN</td>\n    </tr>\n    <tr>\n      <th>72</th>\n      <td>2250</td>\n      <td>424816</td>\n      <td>grønngylt</td>\n      <td>117</td>\n      <td>m</td>\n      <td>0.0</td>\n      <td>1.0</td>\n      <td>513.0</td>\n      <td>514.0</td>\n      <td>14.05.2018</td>\n      <td>...</td>\n      <td>NaN</td>\n      <td>NaN</td>\n      <td>6855.0</td>\n      <td>FieldMain</td>\n      <td>513.0</td>\n      <td>514.0</td>\n      <td>2.0</td>\n      <td>3</td>\n      <td>NaN</td>\n      <td>NaN</td>\n    </tr>\n    <tr>\n      <th>176</th>\n      <td>2055</td>\n      <td>424216</td>\n      <td>grønngylt</td>\n      <td>184</td>\n      <td>m</td>\n      <td>0.0</td>\n      <td>1.0</td>\n      <td>739.0</td>\n      <td>740.0</td>\n      <td>16.05.2018</td>\n      <td>...</td>\n      <td>NaN</td>\n      <td>NaN</td>\n      <td>7295.0</td>\n      <td>FieldMain</td>\n      <td>739.0</td>\n      <td>740.0</td>\n      <td>2.0</td>\n      <td>3</td>\n      <td>NaN</td>\n      <td>NaN</td>\n    </tr>\n    <tr>\n      <th>612</th>\n      <td>2003</td>\n      <td>423995</td>\n      <td>grønngylt</td>\n      <td>132</td>\n      <td>m</td>\n      <td>1.0</td>\n      <td>0.0</td>\n      <td>1402.0</td>\n      <td>1403.0</td>\n      <td>03.07.2018</td>\n      <td>...</td>\n      <td>NaN</td>\n      <td>NaN</td>\n      <td>8660.0</td>\n      <td>FieldMain</td>\n      <td>1402.0</td>\n      <td>1403.0</td>\n      <td>2.0</td>\n      <td>2</td>\n      <td>NaN</td>\n      <td>NaN</td>\n    </tr>\n    <tr>\n      <th>661</th>\n      <td>1683</td>\n      <td>423193</td>\n      <td>grønngylt</td>\n      <td>116</td>\n      <td>m</td>\n      <td>0.0</td>\n      <td>0.0</td>\n      <td>1507.0</td>\n      <td>1508.0</td>\n      <td>03.07.2018</td>\n      <td>...</td>\n      <td>NaN</td>\n      <td>NaN</td>\n      <td>8804.0</td>\n      <td>FieldMain</td>\n      <td>1507.0</td>\n      <td>1508.0</td>\n      <td>2.0</td>\n      <td>2</td>\n      <td>NaN</td>\n      <td>NaN</td>\n    </tr>\n    <tr>\n      <th>...</th>\n      <td>...</td>\n      <td>...</td>\n      <td>...</td>\n      <td>...</td>\n      <td>...</td>\n      <td>...</td>\n      <td>...</td>\n      <td>...</td>\n      <td>...</td>\n      <td>...</td>\n      <td>...</td>\n      <td>...</td>\n      <td>...</td>\n      <td>...</td>\n      <td>...</td>\n      <td>...</td>\n      <td>...</td>\n      <td>...</td>\n      <td>...</td>\n      <td>...</td>\n      <td>...</td>\n    </tr>\n    <tr>\n      <th>3412</th>\n      <td>1327</td>\n      <td>422009</td>\n      <td>grønngylt</td>\n      <td>142</td>\n      <td>m</td>\n      <td>0.0</td>\n      <td>NaN</td>\n      <td>1057.0</td>\n      <td>1058.0</td>\n      <td>30.10.2019</td>\n      <td>...</td>\n      <td>NaN</td>\n      <td>NaN</td>\n      <td>254.0</td>\n      <td>LabMain</td>\n      <td>1057.0</td>\n      <td>1058.0</td>\n      <td>2.0</td>\n      <td>3</td>\n      <td>NaN</td>\n      <td>NaN</td>\n    </tr>\n    <tr>\n      <th>3414</th>\n      <td>1023</td>\n      <td>421446</td>\n      <td>grønngylt</td>\n      <td>136</td>\n      <td>m</td>\n      <td>0.0</td>\n      <td>NaN</td>\n      <td>1061.0</td>\n      <td>1062.0</td>\n      <td>30.10.2019</td>\n      <td>...</td>\n      <td>NaN</td>\n      <td>NaN</td>\n      <td>256.0</td>\n      <td>LabMain</td>\n      <td>1061.0</td>\n      <td>1062.0</td>\n      <td>2.0</td>\n      <td>2</td>\n      <td>NaN</td>\n      <td>NaN</td>\n    </tr>\n    <tr>\n      <th>3427</th>\n      <td>1125</td>\n      <td>421666</td>\n      <td>grønngylt</td>\n      <td>137</td>\n      <td>m</td>\n      <td>0.0</td>\n      <td>NaN</td>\n      <td>1088.0</td>\n      <td>1089.0</td>\n      <td>30.10.2019</td>\n      <td>...</td>\n      <td>NaN</td>\n      <td>NaN</td>\n      <td>269.0</td>\n      <td>LabMain</td>\n      <td>1088.0</td>\n      <td>1089.0</td>\n      <td>2.0</td>\n      <td>2</td>\n      <td>NaN</td>\n      <td>NaN</td>\n    </tr>\n    <tr>\n      <th>3437</th>\n      <td>936</td>\n      <td>421212</td>\n      <td>grønngylt</td>\n      <td>134</td>\n      <td>m</td>\n      <td>0.0</td>\n      <td>NaN</td>\n      <td>1108.0</td>\n      <td>1109.0</td>\n      <td>30.10.2019</td>\n      <td>...</td>\n      <td>NaN</td>\n      <td>NaN</td>\n      <td>279.0</td>\n      <td>LabMain</td>\n      <td>1108.0</td>\n      <td>1109.0</td>\n      <td>2.0</td>\n      <td>2</td>\n      <td>NaN</td>\n      <td>NaN</td>\n    </tr>\n    <tr>\n      <th>3442</th>\n      <td>909</td>\n      <td>421171</td>\n      <td>grønngylt</td>\n      <td>108</td>\n      <td>m</td>\n      <td>0.0</td>\n      <td>NaN</td>\n      <td>1118.0</td>\n      <td>1119.0</td>\n      <td>30.10.2019</td>\n      <td>...</td>\n      <td>NaN</td>\n      <td>NaN</td>\n      <td>284.0</td>\n      <td>LabMain</td>\n      <td>1118.0</td>\n      <td>1119.0</td>\n      <td>2.0</td>\n      <td>2</td>\n      <td>NaN</td>\n      <td>NaN</td>\n    </tr>\n  </tbody>\n</table>\n<p>163 rows × 23 columns</p>\n</div>"
     },
     "execution_count": 14,
     "metadata": {},
     "output_type": "execute_result"
    }
   ],
   "source": [
    "df_filtered = df_males[df_males['pit'].isin(pits)]\n",
    "df_filtered"
   ],
   "metadata": {
    "collapsed": false,
    "pycharm": {
     "name": "#%%\n"
    }
   }
  },
  {
   "cell_type": "code",
   "execution_count": 24,
   "outputs": [
    {
     "data": {
      "text/plain": "'209700'"
     },
     "execution_count": 24,
     "metadata": {},
     "output_type": "execute_result"
    }
   ],
   "source": [
    "male_pits = df_filtered['pit'].tolist()\n",
    "male_pits[0]"
   ],
   "metadata": {
    "collapsed": false,
    "pycharm": {
     "name": "#%%\n"
    }
   }
  },
  {
   "cell_type": "code",
   "execution_count": 25,
   "outputs": [
    {
     "data": {
      "text/plain": "['D:\\\\Jobb\\\\Siamese Fish\\\\data\\\\dataset_condensed\\\\209700_0.jpg',\n 'D:\\\\Jobb\\\\Siamese Fish\\\\data\\\\dataset_condensed\\\\209700_0.txt',\n 'D:\\\\Jobb\\\\Siamese Fish\\\\data\\\\dataset_condensed\\\\209700_1.jpg',\n 'D:\\\\Jobb\\\\Siamese Fish\\\\data\\\\dataset_condensed\\\\209700_1.txt',\n 'D:\\\\Jobb\\\\Siamese Fish\\\\data\\\\dataset_condensed\\\\209700_2.jpg',\n 'D:\\\\Jobb\\\\Siamese Fish\\\\data\\\\dataset_condensed\\\\209700_2.txt',\n 'D:\\\\Jobb\\\\Siamese Fish\\\\data\\\\dataset_condensed\\\\209700_3.jpg',\n 'D:\\\\Jobb\\\\Siamese Fish\\\\data\\\\dataset_condensed\\\\209700_3.txt']"
     },
     "execution_count": 25,
     "metadata": {},
     "output_type": "execute_result"
    }
   ],
   "source": [
    "pit_0 = male_pits[0]\n",
    "g = DATASET_DIRECTORY + \"\\\\\" + pit_0 + \"*\"\n",
    "files = glob.glob(g)\n",
    "files"
   ],
   "metadata": {
    "collapsed": false,
    "pycharm": {
     "name": "#%%\n"
    }
   }
  },
  {
   "cell_type": "code",
   "execution_count": null,
   "outputs": [],
   "source": [],
   "metadata": {
    "collapsed": false,
    "pycharm": {
     "name": "#%%\n"
    }
   }
  }
 ],
 "metadata": {
  "kernelspec": {
   "display_name": "Python 3",
   "language": "python",
   "name": "python3"
  },
  "language_info": {
   "codemirror_mode": {
    "name": "ipython",
    "version": 2
   },
   "file_extension": ".py",
   "mimetype": "text/x-python",
   "name": "python",
   "nbconvert_exporter": "python",
   "pygments_lexer": "ipython2",
   "version": "2.7.6"
  }
 },
 "nbformat": 4,
 "nbformat_minor": 0
}