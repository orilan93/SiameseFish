{
 "cells": [
  {
   "cell_type": "code",
   "execution_count": 1,
   "metadata": {
    "collapsed": true
   },
   "outputs": [],
   "source": [
    "import numpy as np\n",
    "import os\n",
    "import pandas as pd\n",
    "import tensorflow as tf\n",
    "from predictions import evaluate, predict_k"
   ]
  },
  {
   "cell_type": "code",
   "execution_count": 2,
   "outputs": [
    {
     "name": "stdout",
     "output_type": "stream",
     "text": [
      "..\\..\\data\\merged\\head\\boosted\\train\\*.jpg\n",
      "..\\..\\data\\merged\\head\\boosted\\test\\*.jpg\n"
     ]
    }
   ],
   "source": [
    "from data import get_images\n",
    "from config import IMG_SIZE\n",
    "\n",
    "DATASET_DIR = os.path.join('..', '..', 'data', 'merged', 'head', 'boosted')\n",
    "with open(\"../../data/classes_direction.txt\") as file:\n",
    "    classes = [line.strip() for line in file]\n",
    "\n",
    "X_train, y_train = get_images(os.path.join(DATASET_DIR, \"train\"), classes, IMG_SIZE)\n",
    "X_train, y_train = np.array(X_train), np.array(y_train)\n",
    "X_train = tf.keras.applications.inception_v3.preprocess_input(X_train)\n",
    "\n",
    "X_test, y_test = get_images(os.path.join(DATASET_DIR, \"test\"), classes, IMG_SIZE)\n",
    "X_test, y_test = np.array(X_test), np.array(y_test)\n",
    "X_test = tf.keras.applications.inception_v3.preprocess_input(X_test)"
   ],
   "metadata": {
    "collapsed": false,
    "pycharm": {
     "name": "#%%\n"
    }
   }
  },
  {
   "cell_type": "code",
   "execution_count": 3,
   "outputs": [
    {
     "name": "stdout",
     "output_type": "stream",
     "text": [
      "32 dropped\n"
     ]
    }
   ],
   "source": [
    "drop_indices = []\n",
    "# Set y to -1 if record does not exist in the training set\n",
    "for i, y_test_i in enumerate(y_test):\n",
    "    if y_test_i not in y_train:\n",
    "        y_test[i] = -1\n",
    "        drop_indices.append(i)\n",
    "\n",
    "print(\"{} dropped\".format(len(drop_indices)))\n",
    "\n",
    "# Remove new observations from dataset\n",
    "X_test = np.delete(X_test, drop_indices, axis=0)\n",
    "y_test = np.delete(y_test, drop_indices, axis=0)"
   ],
   "metadata": {
    "collapsed": false,
    "pycharm": {
     "name": "#%%\n"
    }
   }
  },
  {
   "cell_type": "code",
   "execution_count": 4,
   "outputs": [],
   "source": [
    "import models\n",
    "from data import get_embeddings\n",
    "from config import DESCRIPTOR_SIZE\n",
    "\n",
    "def load_estimator(path):\n",
    "\n",
    "    # Load model\n",
    "    model = models.triplet_network_ohnm\n",
    "    model.load_weights(path)\n",
    "\n",
    "    # Stores support set embeddings into a dataframe\n",
    "    X_embeddings, y_embeddings = get_embeddings(model, X_train, y_train)\n",
    "    columns = [\"x\" + str(i) for i in range(DESCRIPTOR_SIZE)] + [\"y\"]\n",
    "    df = pd.DataFrame(np.column_stack([X_embeddings, y_embeddings]), columns=columns)\n",
    "    df[columns[:-1]] = df[columns[:-1]].apply(pd.to_numeric)\n",
    "    df = df.astype({\"y\": int})\n",
    "\n",
    "    return model, df"
   ],
   "metadata": {
    "collapsed": false,
    "pycharm": {
     "name": "#%%\n"
    }
   }
  },
  {
   "cell_type": "code",
   "execution_count": 5,
   "outputs": [
    {
     "name": "stdout",
     "output_type": "stream",
     "text": [
      "Accuracy:  0.31746031746031744 \n",
      "mAcc@5:  0.5238095238095238 \n",
      "MAP@5:  0.3851851851851852 \n",
      "F1:  0.19503546099290783 \n",
      "New:  0\n",
      "AUC:  0.9811254245978338\n"
     ]
    },
    {
     "data": {
      "text/plain": "<Figure size 432x288 with 1 Axes>",
      "image/png": "[encoded data removed]"
     },
     "metadata": {
      "needs_background": "light"
     },
     "output_type": "display_data"
    }
   ],
   "source": [
    "model, df = load_estimator(os.path.join('..', '..', 'experiments', 'merged_head_wo_quad', 'embedding'))\n",
    "y_pred = predict_k(model, df, X_test, k=len(df), metric='euclidean', predict_new=False)\n",
    "evaluate(y_pred, y_test, accuracy_curve=True)"
   ],
   "metadata": {
    "collapsed": false,
    "pycharm": {
     "name": "#%%\n"
    }
   }
  },
  {
   "cell_type": "code",
   "execution_count": 6,
   "outputs": [
    {
     "name": "stdout",
     "output_type": "stream",
     "text": [
      "Accuracy:  0.49206349206349204 \n",
      "mAcc@5:  0.7619047619047619 \n",
      "MAP@5:  0.5904761904761905 \n",
      "F1:  0.3371647509578544 \n",
      "New:  0\n",
      "AUC:  0.9917857676942469\n"
     ]
    },
    {
     "data": {
      "text/plain": "<Figure size 432x288 with 1 Axes>",
      "image/png": "[encoded data removed]"
     },
     "metadata": {
      "needs_background": "light"
     },
     "output_type": "display_data"
    }
   ],
   "source": [
    "model, df = load_estimator(os.path.join('..', '..', 'experiments', 'merged_head', 'embedding'))\n",
    "y_pred = predict_k(model, df, X_test, k=len(df), metric='euclidean', predict_new=False)\n",
    "evaluate(y_pred, y_test, accuracy_curve=True)\n",
    "\n"
   ],
   "metadata": {
    "collapsed": false,
    "pycharm": {
     "name": "#%%\n"
    }
   }
  }
 ],
 "metadata": {
  "kernelspec": {
   "display_name": "Python 3",
   "language": "python",
   "name": "python3"
  },
  "language_info": {
   "codemirror_mode": {
    "name": "ipython",
    "version": 2
   },
   "file_extension": ".py",
   "mimetype": "text/x-python",
   "name": "python",
   "nbconvert_exporter": "python",
   "pygments_lexer": "ipython2",
   "version": "2.7.6"
  }
 },
 "nbformat": 4,
 "nbformat_minor": 0
}