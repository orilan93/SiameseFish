{
 "cells": [
  {
   "cell_type": "code",
   "execution_count": 222,
   "outputs": [],
   "source": [
    "import pandas as pd\n",
    "import numpy as np\n",
    "import matplotlib.pyplot as plt\n",
    "import matplotlib.image as mpimg\n",
    "import os\n",
    "\n",
    "predictions_path = r\"../predictions.csv\"\n",
    "dataset_path = r\"../../data/dataset_direction.csv\""
   ],
   "metadata": {
    "collapsed": false,
    "pycharm": {
     "name": "#%%\n"
    }
   }
  },
  {
   "cell_type": "code",
   "execution_count": 223,
   "outputs": [],
   "source": [
    "# Metadata\n",
    "df1 = pd.read_csv(dataset_path, encoding='latin-1')\n",
    "#df1.head()"
   ],
   "metadata": {
    "collapsed": false,
    "pycharm": {
     "name": "#%%\n"
    }
   }
  },
  {
   "cell_type": "code",
   "execution_count": 224,
   "outputs": [],
   "source": [
    "# Predictions\n",
    "df2 = pd.read_csv(predictions_path, encoding='utf-8')\n",
    "#df2.head()"
   ],
   "metadata": {
    "collapsed": false,
    "pycharm": {
     "name": "#%%\n"
    }
   }
  },
  {
   "cell_type": "code",
   "execution_count": 225,
   "outputs": [
    {
     "data": {
      "text/plain": "      pit  lÃ¸pernummer     species  length sex  spawning  recap prefix  \\\n0  201506         127.0  grÃ¸nngylt   138.0   f       0.0    NaN   P502   \n1  201506         127.0  grÃ¸nngylt   138.0   f       0.0    NaN   P502   \n2  202037        7355.0  grÃ¸nngylt   120.0   m       0.0    1.0  _1160   \n3  204295       12011.0  grÃ¸nngylt   149.0   m       0.0    1.0   P906   \n4  209127       25103.0  grÃ¸nngylt   181.0   f       2.0    1.0   P629   \n\n   photostart  photostop  ... p1477 p1478  p1479 p1480  support_exact  \\\n0        1391     1392.0  ...   382   799    261   261     421429_l_2   \n1        1391     1392.0  ...   516   603    623   402     421533_r_1   \n2         801      802.0  ...   757   757    739   739     202037_r_2   \n3        1023     1024.0  ...   940   788    788   940     422268_r_2   \n4        3672     3673.0  ...   838   827     18   205     420868_r_2   \n\n   query_exact correct_exact support_exact_at_correct  rank   y  \n0   201506_l_2    201506_l_1               201506_l_1    16   1  \n1   201506_r_2    201506_r_1               201506_r_1     4   0  \n2   202037_r_1    202037_r_2               202037_r_2     1   4  \n3   204295_r_2    204295_r_1               204295_r_1    50   6  \n4   209127_r_1    209127_r_2               209127_r_2    38  10  \n\n[5 rows x 1514 columns]",
      "text/html": "<div>\n<style scoped>\n    .dataframe tbody tr th:only-of-type {\n        vertical-align: middle;\n    }\n\n    .dataframe tbody tr th {\n        vertical-align: top;\n    }\n\n    .dataframe thead th {\n        text-align: right;\n    }\n</style>\n<table border=\"1\" class=\"dataframe\">\n  <thead>\n    <tr style=\"text-align: right;\">\n      <th></th>\n      <th>pit</th>\n      <th>lÃ¸pernummer</th>\n      <th>species</th>\n      <th>length</th>\n      <th>sex</th>\n      <th>spawning</th>\n      <th>recap</th>\n      <th>prefix</th>\n      <th>photostart</th>\n      <th>photostop</th>\n      <th>...</th>\n      <th>p1477</th>\n      <th>p1478</th>\n      <th>p1479</th>\n      <th>p1480</th>\n      <th>support_exact</th>\n      <th>query_exact</th>\n      <th>correct_exact</th>\n      <th>support_exact_at_correct</th>\n      <th>rank</th>\n      <th>y</th>\n    </tr>\n  </thead>\n  <tbody>\n    <tr>\n      <th>0</th>\n      <td>201506</td>\n      <td>127.0</td>\n      <td>grÃ¸nngylt</td>\n      <td>138.0</td>\n      <td>f</td>\n      <td>0.0</td>\n      <td>NaN</td>\n      <td>P502</td>\n      <td>1391</td>\n      <td>1392.0</td>\n      <td>...</td>\n      <td>382</td>\n      <td>799</td>\n      <td>261</td>\n      <td>261</td>\n      <td>421429_l_2</td>\n      <td>201506_l_2</td>\n      <td>201506_l_1</td>\n      <td>201506_l_1</td>\n      <td>16</td>\n      <td>1</td>\n    </tr>\n    <tr>\n      <th>1</th>\n      <td>201506</td>\n      <td>127.0</td>\n      <td>grÃ¸nngylt</td>\n      <td>138.0</td>\n      <td>f</td>\n      <td>0.0</td>\n      <td>NaN</td>\n      <td>P502</td>\n      <td>1391</td>\n      <td>1392.0</td>\n      <td>...</td>\n      <td>516</td>\n      <td>603</td>\n      <td>623</td>\n      <td>402</td>\n      <td>421533_r_1</td>\n      <td>201506_r_2</td>\n      <td>201506_r_1</td>\n      <td>201506_r_1</td>\n      <td>4</td>\n      <td>0</td>\n    </tr>\n    <tr>\n      <th>2</th>\n      <td>202037</td>\n      <td>7355.0</td>\n      <td>grÃ¸nngylt</td>\n      <td>120.0</td>\n      <td>m</td>\n      <td>0.0</td>\n      <td>1.0</td>\n      <td>_1160</td>\n      <td>801</td>\n      <td>802.0</td>\n      <td>...</td>\n      <td>757</td>\n      <td>757</td>\n      <td>739</td>\n      <td>739</td>\n      <td>202037_r_2</td>\n      <td>202037_r_1</td>\n      <td>202037_r_2</td>\n      <td>202037_r_2</td>\n      <td>1</td>\n      <td>4</td>\n    </tr>\n    <tr>\n      <th>3</th>\n      <td>204295</td>\n      <td>12011.0</td>\n      <td>grÃ¸nngylt</td>\n      <td>149.0</td>\n      <td>m</td>\n      <td>0.0</td>\n      <td>1.0</td>\n      <td>P906</td>\n      <td>1023</td>\n      <td>1024.0</td>\n      <td>...</td>\n      <td>940</td>\n      <td>788</td>\n      <td>788</td>\n      <td>940</td>\n      <td>422268_r_2</td>\n      <td>204295_r_2</td>\n      <td>204295_r_1</td>\n      <td>204295_r_1</td>\n      <td>50</td>\n      <td>6</td>\n    </tr>\n    <tr>\n      <th>4</th>\n      <td>209127</td>\n      <td>25103.0</td>\n      <td>grÃ¸nngylt</td>\n      <td>181.0</td>\n      <td>f</td>\n      <td>2.0</td>\n      <td>1.0</td>\n      <td>P629</td>\n      <td>3672</td>\n      <td>3673.0</td>\n      <td>...</td>\n      <td>838</td>\n      <td>827</td>\n      <td>18</td>\n      <td>205</td>\n      <td>420868_r_2</td>\n      <td>209127_r_1</td>\n      <td>209127_r_2</td>\n      <td>209127_r_2</td>\n      <td>38</td>\n      <td>10</td>\n    </tr>\n  </tbody>\n</table>\n<p>5 rows × 1514 columns</p>\n</div>"
     },
     "execution_count": 225,
     "metadata": {},
     "output_type": "execute_result"
    }
   ],
   "source": [
    "# Metadata and predictions combined,\n",
    "df = df1.merge(df2, left_on='dir_filename', right_on='filename')\n",
    "df.head()"
   ],
   "metadata": {
    "collapsed": false,
    "pycharm": {
     "name": "#%%\n"
    }
   }
  },
  {
   "cell_type": "code",
   "execution_count": 226,
   "outputs": [
    {
     "data": {
      "text/plain": "{0.0: 181,\n 0.5: 90,\n 1.0: 194,\n 1.5: 32,\n 2.0: 75,\n 3.0: 3,\n 5.0: 34,\n 6.0: 43,\n 6.5: 21,\n 7.0: 45,\n 7.5: 8,\n 8.0: 8,\n 8.5: 14}"
     },
     "execution_count": 226,
     "metadata": {},
     "output_type": "execute_result"
    }
   ],
   "source": [
    "# Gets the amount of image pairs grouped by period difference\n",
    "\n",
    "def get_pit_dir(filename):\n",
    "    \"\"\"Transforms filename into a tag that contains both pit and direction.\"\"\"\n",
    "    basename = os.path.basename(filename)\n",
    "    pit_dir = \"_\".join(basename.split(\"_\")[:-1])\n",
    "    return basename, pit_dir\n",
    "\n",
    "df_f3 = df1[~df1['Period'].isin([\"0\", \"May\", \"Oct\"])]\n",
    "df_f3 = df_f3[df_f3['dir_filename'].str.len() > 0]\n",
    "\n",
    "a = []\n",
    "b = []\n",
    "dist = []\n",
    "\n",
    "for i, row in df_f3.iterrows():\n",
    "    basename, pit_dir = get_pit_dir(row[\"dir_filename\"])\n",
    "\n",
    "    if basename in a + b:\n",
    "        continue\n",
    "\n",
    "    pit = row[\"pit\"]\n",
    "    period = float(row[\"Period\"].replace(',', '.'))\n",
    "    df_sub = df_f3[df_f3[\"pit\"] == pit]\n",
    "\n",
    "    for i2, row2 in df_sub.iterrows():\n",
    "        basename2, pit_dir2 = get_pit_dir(row2[\"dir_filename\"])\n",
    "        if pit_dir2 != pit_dir:\n",
    "            continue\n",
    "        if basename == basename2:\n",
    "            continue\n",
    "        period2 = float(row2[\"Period\"].replace(',', '.'))\n",
    "        diff = abs(period - period2)\n",
    "\n",
    "        a.append(basename)\n",
    "        b.append(basename2)\n",
    "        dist.append(diff)\n",
    "\n",
    "result = np.column_stack([a, b, dist])\n",
    "unique_total, counts_total = np.unique(result[:,2], return_counts=True)\n",
    "unique_total = unique_total.astype(np.float)\n",
    "dict(zip(unique_total, counts_total))"
   ],
   "metadata": {
    "collapsed": false,
    "pycharm": {
     "name": "#%%\n"
    }
   }
  },
  {
   "cell_type": "code",
   "execution_count": 227,
   "outputs": [
    {
     "data": {
      "text/plain": "      pit  lÃ¸pernummer     species  length sex  spawning  recap prefix  \\\n0  201506         127.0  grÃ¸nngylt   138.0   f       0.0    NaN   P502   \n1  201506         127.0  grÃ¸nngylt   138.0   f       0.0    NaN   P502   \n2  202037        7355.0  grÃ¸nngylt   120.0   m       0.0    1.0  _1160   \n3  204295       12011.0  grÃ¸nngylt   149.0   m       0.0    1.0   P906   \n4  209127       25103.0  grÃ¸nngylt   181.0   f       2.0    1.0   P629   \n\n   photostart  photostop  ... p1477 p1478  p1479 p1480  support_exact  \\\n0        1391     1392.0  ...   382   799    261   261     421429_l_2   \n1        1391     1392.0  ...   516   603    623   402     421533_r_1   \n2         801      802.0  ...   757   757    739   739     202037_r_2   \n3        1023     1024.0  ...   940   788    788   940     422268_r_2   \n4        3672     3673.0  ...   838   827     18   205     420868_r_2   \n\n   query_exact correct_exact support_exact_at_correct  rank   y  \n0   201506_l_2    201506_l_1               201506_l_1    16   1  \n1   201506_r_2    201506_r_1               201506_r_1     4   0  \n2   202037_r_1    202037_r_2               202037_r_2     1   4  \n3   204295_r_2    204295_r_1               204295_r_1    50   6  \n4   209127_r_1    209127_r_2               209127_r_2    38  10  \n\n[5 rows x 1514 columns]",
      "text/html": "<div>\n<style scoped>\n    .dataframe tbody tr th:only-of-type {\n        vertical-align: middle;\n    }\n\n    .dataframe tbody tr th {\n        vertical-align: top;\n    }\n\n    .dataframe thead th {\n        text-align: right;\n    }\n</style>\n<table border=\"1\" class=\"dataframe\">\n  <thead>\n    <tr style=\"text-align: right;\">\n      <th></th>\n      <th>pit</th>\n      <th>lÃ¸pernummer</th>\n      <th>species</th>\n      <th>length</th>\n      <th>sex</th>\n      <th>spawning</th>\n      <th>recap</th>\n      <th>prefix</th>\n      <th>photostart</th>\n      <th>photostop</th>\n      <th>...</th>\n      <th>p1477</th>\n      <th>p1478</th>\n      <th>p1479</th>\n      <th>p1480</th>\n      <th>support_exact</th>\n      <th>query_exact</th>\n      <th>correct_exact</th>\n      <th>support_exact_at_correct</th>\n      <th>rank</th>\n      <th>y</th>\n    </tr>\n  </thead>\n  <tbody>\n    <tr>\n      <th>0</th>\n      <td>201506</td>\n      <td>127.0</td>\n      <td>grÃ¸nngylt</td>\n      <td>138.0</td>\n      <td>f</td>\n      <td>0.0</td>\n      <td>NaN</td>\n      <td>P502</td>\n      <td>1391</td>\n      <td>1392.0</td>\n      <td>...</td>\n      <td>382</td>\n      <td>799</td>\n      <td>261</td>\n      <td>261</td>\n      <td>421429_l_2</td>\n      <td>201506_l_2</td>\n      <td>201506_l_1</td>\n      <td>201506_l_1</td>\n      <td>16</td>\n      <td>1</td>\n    </tr>\n    <tr>\n      <th>1</th>\n      <td>201506</td>\n      <td>127.0</td>\n      <td>grÃ¸nngylt</td>\n      <td>138.0</td>\n      <td>f</td>\n      <td>0.0</td>\n      <td>NaN</td>\n      <td>P502</td>\n      <td>1391</td>\n      <td>1392.0</td>\n      <td>...</td>\n      <td>516</td>\n      <td>603</td>\n      <td>623</td>\n      <td>402</td>\n      <td>421533_r_1</td>\n      <td>201506_r_2</td>\n      <td>201506_r_1</td>\n      <td>201506_r_1</td>\n      <td>4</td>\n      <td>0</td>\n    </tr>\n    <tr>\n      <th>2</th>\n      <td>202037</td>\n      <td>7355.0</td>\n      <td>grÃ¸nngylt</td>\n      <td>120.0</td>\n      <td>m</td>\n      <td>0.0</td>\n      <td>1.0</td>\n      <td>_1160</td>\n      <td>801</td>\n      <td>802.0</td>\n      <td>...</td>\n      <td>757</td>\n      <td>757</td>\n      <td>739</td>\n      <td>739</td>\n      <td>202037_r_2</td>\n      <td>202037_r_1</td>\n      <td>202037_r_2</td>\n      <td>202037_r_2</td>\n      <td>1</td>\n      <td>4</td>\n    </tr>\n    <tr>\n      <th>3</th>\n      <td>204295</td>\n      <td>12011.0</td>\n      <td>grÃ¸nngylt</td>\n      <td>149.0</td>\n      <td>m</td>\n      <td>0.0</td>\n      <td>1.0</td>\n      <td>P906</td>\n      <td>1023</td>\n      <td>1024.0</td>\n      <td>...</td>\n      <td>940</td>\n      <td>788</td>\n      <td>788</td>\n      <td>940</td>\n      <td>422268_r_2</td>\n      <td>204295_r_2</td>\n      <td>204295_r_1</td>\n      <td>204295_r_1</td>\n      <td>50</td>\n      <td>6</td>\n    </tr>\n    <tr>\n      <th>4</th>\n      <td>209127</td>\n      <td>25103.0</td>\n      <td>grÃ¸nngylt</td>\n      <td>181.0</td>\n      <td>f</td>\n      <td>2.0</td>\n      <td>1.0</td>\n      <td>P629</td>\n      <td>3672</td>\n      <td>3673.0</td>\n      <td>...</td>\n      <td>838</td>\n      <td>827</td>\n      <td>18</td>\n      <td>205</td>\n      <td>420868_r_2</td>\n      <td>209127_r_1</td>\n      <td>209127_r_2</td>\n      <td>209127_r_2</td>\n      <td>38</td>\n      <td>10</td>\n    </tr>\n  </tbody>\n</table>\n<p>5 rows × 1514 columns</p>\n</div>"
     },
     "execution_count": 227,
     "metadata": {},
     "output_type": "execute_result"
    }
   ],
   "source": [
    "# Filter correct on first try\n",
    "\n",
    "df_f = df.copy() #df[df[\"rank\"] == 1]\n",
    "df_f.head()"
   ],
   "metadata": {
    "collapsed": false,
    "pycharm": {
     "name": "#%%\n"
    }
   }
  },
  {
   "cell_type": "code",
   "execution_count": 228,
   "outputs": [
    {
     "data": {
      "text/plain": "        pit  lÃ¸pernummer     species  length sex  spawning  recap   prefix  \\\n0    201506         127.0  grÃ¸nngylt   138.0   f       0.0    NaN     P502   \n1    201506         127.0  grÃ¸nngylt   138.0   f       0.0    NaN     P502   \n2    202037        7355.0  grÃ¸nngylt   120.0   m       0.0    1.0    _1160   \n3    204295       12011.0  grÃ¸nngylt   149.0   m       0.0    1.0     P906   \n4    209127       25103.0  grÃ¸nngylt   181.0   f       2.0    1.0     P629   \n..      ...           ...         ...     ...  ..       ...    ...      ...   \n459  434580           NaN  GrÃ¸nngylt   163.0   m       NaN    NaN  P820000   \n460  434125           NaN  GrÃ¸nngylt   122.0   f       NaN    NaN  P820000   \n461  434125           NaN  GrÃ¸nngylt   122.0   f       NaN    NaN  P820000   \n462  426276           NaN  GrÃ¸nngylt   172.0   f       NaN    NaN   P82400   \n463  434128           NaN  GrÃ¸nngylt   174.0   m       NaN    NaN   P82400   \n\n     photostart  photostop  ... support_exact query_exact  correct_exact  \\\n0          1391     1392.0  ...    421429_l_2  201506_l_2     201506_l_1   \n1          1391     1392.0  ...    421533_r_1  201506_r_2     201506_r_1   \n2           801      802.0  ...    202037_r_2  202037_r_1     202037_r_2   \n3          1023     1024.0  ...    422268_r_2  204295_r_2     204295_r_1   \n4          3672     3673.0  ...    420868_r_2  209127_r_1     209127_r_2   \n..          ...        ...  ...           ...         ...            ...   \n459           2        3.0  ...    434580_r_2  434580_r_3     434580_r_2   \n460           4        5.0  ...    434125_r_1  434125_r_2     434125_r_1   \n461           4        5.0  ...    434046_r_2  434125_r_3     434125_r_1   \n462          53        NaN  ...    426276_r_3  426276_r_4     426276_r_3   \n463          75        NaN  ...    434128_r_1  434128_r_2     434128_r_1   \n\n    support_exact_at_correct  rank    y period_query period_support  \\\n0                 201506_l_1    16    1          May            May   \n1                 201506_r_1     4    0          May            May   \n2                 202037_r_2     1    4            2              3   \n3                 204295_r_1    50    6            4              4   \n4                 209127_r_2    38   10           10              4   \n..                       ...   ...  ...          ...            ...   \n459               434580_r_2     1  857            0              0   \n460               434125_r_1     1  849            0              0   \n461               434125_r_1     2  849            0              0   \n462               426276_r_3     1  570            0              0   \n463               434128_r_1     1  850            0              0   \n\n     period_correct  period_support_at_correct  \n0               Oct                        Oct  \n1               Oct                        Oct  \n2                 3                          3  \n3                 3                          3  \n4                 4                          4  \n..              ...                        ...  \n459               0                          0  \n460               0                          0  \n461               0                          0  \n462               0                          0  \n463               0                          0  \n\n[464 rows x 1518 columns]",
      "text/html": "<div>\n<style scoped>\n    .dataframe tbody tr th:only-of-type {\n        vertical-align: middle;\n    }\n\n    .dataframe tbody tr th {\n        vertical-align: top;\n    }\n\n    .dataframe thead th {\n        text-align: right;\n    }\n</style>\n<table border=\"1\" class=\"dataframe\">\n  <thead>\n    <tr style=\"text-align: right;\">\n      <th></th>\n      <th>pit</th>\n      <th>lÃ¸pernummer</th>\n      <th>species</th>\n      <th>length</th>\n      <th>sex</th>\n      <th>spawning</th>\n      <th>recap</th>\n      <th>prefix</th>\n      <th>photostart</th>\n      <th>photostop</th>\n      <th>...</th>\n      <th>support_exact</th>\n      <th>query_exact</th>\n      <th>correct_exact</th>\n      <th>support_exact_at_correct</th>\n      <th>rank</th>\n      <th>y</th>\n      <th>period_query</th>\n      <th>period_support</th>\n      <th>period_correct</th>\n      <th>period_support_at_correct</th>\n    </tr>\n  </thead>\n  <tbody>\n    <tr>\n      <th>0</th>\n      <td>201506</td>\n      <td>127.0</td>\n      <td>grÃ¸nngylt</td>\n      <td>138.0</td>\n      <td>f</td>\n      <td>0.0</td>\n      <td>NaN</td>\n      <td>P502</td>\n      <td>1391</td>\n      <td>1392.0</td>\n      <td>...</td>\n      <td>421429_l_2</td>\n      <td>201506_l_2</td>\n      <td>201506_l_1</td>\n      <td>201506_l_1</td>\n      <td>16</td>\n      <td>1</td>\n      <td>May</td>\n      <td>May</td>\n      <td>Oct</td>\n      <td>Oct</td>\n    </tr>\n    <tr>\n      <th>1</th>\n      <td>201506</td>\n      <td>127.0</td>\n      <td>grÃ¸nngylt</td>\n      <td>138.0</td>\n      <td>f</td>\n      <td>0.0</td>\n      <td>NaN</td>\n      <td>P502</td>\n      <td>1391</td>\n      <td>1392.0</td>\n      <td>...</td>\n      <td>421533_r_1</td>\n      <td>201506_r_2</td>\n      <td>201506_r_1</td>\n      <td>201506_r_1</td>\n      <td>4</td>\n      <td>0</td>\n      <td>May</td>\n      <td>May</td>\n      <td>Oct</td>\n      <td>Oct</td>\n    </tr>\n    <tr>\n      <th>2</th>\n      <td>202037</td>\n      <td>7355.0</td>\n      <td>grÃ¸nngylt</td>\n      <td>120.0</td>\n      <td>m</td>\n      <td>0.0</td>\n      <td>1.0</td>\n      <td>_1160</td>\n      <td>801</td>\n      <td>802.0</td>\n      <td>...</td>\n      <td>202037_r_2</td>\n      <td>202037_r_1</td>\n      <td>202037_r_2</td>\n      <td>202037_r_2</td>\n      <td>1</td>\n      <td>4</td>\n      <td>2</td>\n      <td>3</td>\n      <td>3</td>\n      <td>3</td>\n    </tr>\n    <tr>\n      <th>3</th>\n      <td>204295</td>\n      <td>12011.0</td>\n      <td>grÃ¸nngylt</td>\n      <td>149.0</td>\n      <td>m</td>\n      <td>0.0</td>\n      <td>1.0</td>\n      <td>P906</td>\n      <td>1023</td>\n      <td>1024.0</td>\n      <td>...</td>\n      <td>422268_r_2</td>\n      <td>204295_r_2</td>\n      <td>204295_r_1</td>\n      <td>204295_r_1</td>\n      <td>50</td>\n      <td>6</td>\n      <td>4</td>\n      <td>4</td>\n      <td>3</td>\n      <td>3</td>\n    </tr>\n    <tr>\n      <th>4</th>\n      <td>209127</td>\n      <td>25103.0</td>\n      <td>grÃ¸nngylt</td>\n      <td>181.0</td>\n      <td>f</td>\n      <td>2.0</td>\n      <td>1.0</td>\n      <td>P629</td>\n      <td>3672</td>\n      <td>3673.0</td>\n      <td>...</td>\n      <td>420868_r_2</td>\n      <td>209127_r_1</td>\n      <td>209127_r_2</td>\n      <td>209127_r_2</td>\n      <td>38</td>\n      <td>10</td>\n      <td>10</td>\n      <td>4</td>\n      <td>4</td>\n      <td>4</td>\n    </tr>\n    <tr>\n      <th>...</th>\n      <td>...</td>\n      <td>...</td>\n      <td>...</td>\n      <td>...</td>\n      <td>...</td>\n      <td>...</td>\n      <td>...</td>\n      <td>...</td>\n      <td>...</td>\n      <td>...</td>\n      <td>...</td>\n      <td>...</td>\n      <td>...</td>\n      <td>...</td>\n      <td>...</td>\n      <td>...</td>\n      <td>...</td>\n      <td>...</td>\n      <td>...</td>\n      <td>...</td>\n      <td>...</td>\n    </tr>\n    <tr>\n      <th>459</th>\n      <td>434580</td>\n      <td>NaN</td>\n      <td>GrÃ¸nngylt</td>\n      <td>163.0</td>\n      <td>m</td>\n      <td>NaN</td>\n      <td>NaN</td>\n      <td>P820000</td>\n      <td>2</td>\n      <td>3.0</td>\n      <td>...</td>\n      <td>434580_r_2</td>\n      <td>434580_r_3</td>\n      <td>434580_r_2</td>\n      <td>434580_r_2</td>\n      <td>1</td>\n      <td>857</td>\n      <td>0</td>\n      <td>0</td>\n      <td>0</td>\n      <td>0</td>\n    </tr>\n    <tr>\n      <th>460</th>\n      <td>434125</td>\n      <td>NaN</td>\n      <td>GrÃ¸nngylt</td>\n      <td>122.0</td>\n      <td>f</td>\n      <td>NaN</td>\n      <td>NaN</td>\n      <td>P820000</td>\n      <td>4</td>\n      <td>5.0</td>\n      <td>...</td>\n      <td>434125_r_1</td>\n      <td>434125_r_2</td>\n      <td>434125_r_1</td>\n      <td>434125_r_1</td>\n      <td>1</td>\n      <td>849</td>\n      <td>0</td>\n      <td>0</td>\n      <td>0</td>\n      <td>0</td>\n    </tr>\n    <tr>\n      <th>461</th>\n      <td>434125</td>\n      <td>NaN</td>\n      <td>GrÃ¸nngylt</td>\n      <td>122.0</td>\n      <td>f</td>\n      <td>NaN</td>\n      <td>NaN</td>\n      <td>P820000</td>\n      <td>4</td>\n      <td>5.0</td>\n      <td>...</td>\n      <td>434046_r_2</td>\n      <td>434125_r_3</td>\n      <td>434125_r_1</td>\n      <td>434125_r_1</td>\n      <td>2</td>\n      <td>849</td>\n      <td>0</td>\n      <td>0</td>\n      <td>0</td>\n      <td>0</td>\n    </tr>\n    <tr>\n      <th>462</th>\n      <td>426276</td>\n      <td>NaN</td>\n      <td>GrÃ¸nngylt</td>\n      <td>172.0</td>\n      <td>f</td>\n      <td>NaN</td>\n      <td>NaN</td>\n      <td>P82400</td>\n      <td>53</td>\n      <td>NaN</td>\n      <td>...</td>\n      <td>426276_r_3</td>\n      <td>426276_r_4</td>\n      <td>426276_r_3</td>\n      <td>426276_r_3</td>\n      <td>1</td>\n      <td>570</td>\n      <td>0</td>\n      <td>0</td>\n      <td>0</td>\n      <td>0</td>\n    </tr>\n    <tr>\n      <th>463</th>\n      <td>434128</td>\n      <td>NaN</td>\n      <td>GrÃ¸nngylt</td>\n      <td>174.0</td>\n      <td>m</td>\n      <td>NaN</td>\n      <td>NaN</td>\n      <td>P82400</td>\n      <td>75</td>\n      <td>NaN</td>\n      <td>...</td>\n      <td>434128_r_1</td>\n      <td>434128_r_2</td>\n      <td>434128_r_1</td>\n      <td>434128_r_1</td>\n      <td>1</td>\n      <td>850</td>\n      <td>0</td>\n      <td>0</td>\n      <td>0</td>\n      <td>0</td>\n    </tr>\n  </tbody>\n</table>\n<p>464 rows × 1518 columns</p>\n</div>"
     },
     "execution_count": 228,
     "metadata": {},
     "output_type": "execute_result"
    }
   ],
   "source": [
    "# Gets the period for each image\n",
    "\n",
    "def find_period_support(row):\n",
    "    filename = row[\"support_exact\"] + \".jpg\"\n",
    "    period = df1[df1[\"dir_filename\"] == filename][\"Period\"]\n",
    "    return list(period)[0]\n",
    "\n",
    "\n",
    "def find_period_query(row):\n",
    "    filename = row[\"query_exact\"] + \".jpg\"\n",
    "    period = df1[df1[\"dir_filename\"] == filename][\"Period\"]\n",
    "    return list(period)[0]\n",
    "\n",
    "\n",
    "def find_period_correct(row):\n",
    "    filename = row[\"correct_exact\"] + \".jpg\"\n",
    "    period = df1[df1[\"dir_filename\"] == filename][\"Period\"]\n",
    "    return list(period)[0]\n",
    "\n",
    "\n",
    "def find_period_support_at_correct(row):\n",
    "    filename = row[\"support_exact_at_correct\"] + \".jpg\"\n",
    "    period = df1[df1[\"dir_filename\"] == filename][\"Period\"]\n",
    "    return list(period)[0]\n",
    "\n",
    "\n",
    "df_f[\"period_query\"] = df_f.apply(find_period_query, axis=1)\n",
    "df_f[\"period_support\"] = df_f.apply(find_period_support, axis=1)\n",
    "df_f[\"period_correct\"] = df_f.apply(find_period_correct, axis=1)\n",
    "df_f[\"period_support_at_correct\"] = df_f.apply(find_period_support_at_correct, axis=1)\n",
    "\n",
    "df_f"
   ],
   "metadata": {
    "collapsed": false,
    "pycharm": {
     "name": "#%%\n"
    }
   }
  },
  {
   "cell_type": "code",
   "execution_count": 229,
   "outputs": [
    {
     "data": {
      "text/plain": "        pit  lÃ¸pernummer     species  length sex  spawning  recap prefix  \\\n2    202037        7355.0  grÃ¸nngylt   120.0   m       0.0    1.0  _1160   \n3    204295       12011.0  grÃ¸nngylt   149.0   m       0.0    1.0   P906   \n4    209127       25103.0  grÃ¸nngylt   181.0   f       2.0    1.0   P629   \n5    209127       11814.0  grÃ¸nngylt   170.0   f       0.0    1.0  P9050   \n6    209526         128.0  grÃ¸nngylt   130.0   f       1.0    1.0  P5300   \n..      ...           ...         ...     ...  ..       ...    ...    ...   \n445   67201         185.0  grÃ¸nngylt   133.0   s       2.0    1.0  P5300   \n446   67201        7519.0  grÃ¸nngylt   133.0   s       0.0    1.0  _1160   \n447   67510       28129.0  grÃ¸nngylt   163.0   f       0.0    1.0   P831   \n448   67510       28129.0  grÃ¸nngylt   163.0   f       0.0    1.0   P831   \n449   67516        9057.0  grÃ¸nngylt   157.0   f       1.0    1.0   P703   \n\n     photostart  photostop  ... support_exact_at_correct rank     y  \\\n2           801      802.0  ...               202037_r_2    1     4   \n3          1023     1024.0  ...               204295_r_1   50     6   \n4          3672     3673.0  ...               209127_r_2   38    10   \n5           843      844.0  ...               209127_l_1    2     9   \n6           345      346.0  ...               209526_l_1    6    13   \n..          ...        ...  ...                      ...  ...   ...   \n445         414      415.0  ...                67201_l_3    3   997   \n446         996      997.0  ...                67201_l_3    1   997   \n447        6210     6211.0  ...                67510_l_2   21   999   \n448        6210     6211.0  ...                67510_r_2    6  1000   \n449        1534     1535.0  ...                67516_l_1    1  1001   \n\n    period_query  period_support  period_correct period_support_at_correct  \\\n2            2.0             3.0             3.0                       3.0   \n3            4.0             4.0             3.0                       3.0   \n4           10.0             4.0             4.0                       4.0   \n5            4.0             4.0            10.0                      10.0   \n6            2.5             3.0            10.0                      10.0   \n..           ...             ...             ...                       ...   \n445          2.5            10.0             2.0                       2.0   \n446          2.0             2.0             2.0                       2.0   \n447         11.0             2.0             2.5                       2.5   \n448         11.0             3.0             2.5                       2.5   \n449          3.0             4.0             4.0                       4.0   \n\n    period_difference  period_difference_5  correct_difference  \n2                 1.0                  1.0                 1.0  \n3                 NaN                  NaN                 1.0  \n4                 NaN                  NaN                 6.0  \n5                 NaN                  6.0                 6.0  \n6                 NaN                  NaN                 7.5  \n..                ...                  ...                 ...  \n445               NaN                  0.5                 0.5  \n446               0.0                  0.0                 0.0  \n447               NaN                  NaN                 8.5  \n448               NaN                  NaN                 8.5  \n449               1.0                  1.0                 1.0  \n\n[283 rows x 1521 columns]",
      "text/html": "<div>\n<style scoped>\n    .dataframe tbody tr th:only-of-type {\n        vertical-align: middle;\n    }\n\n    .dataframe tbody tr th {\n        vertical-align: top;\n    }\n\n    .dataframe thead th {\n        text-align: right;\n    }\n</style>\n<table border=\"1\" class=\"dataframe\">\n  <thead>\n    <tr style=\"text-align: right;\">\n      <th></th>\n      <th>pit</th>\n      <th>lÃ¸pernummer</th>\n      <th>species</th>\n      <th>length</th>\n      <th>sex</th>\n      <th>spawning</th>\n      <th>recap</th>\n      <th>prefix</th>\n      <th>photostart</th>\n      <th>photostop</th>\n      <th>...</th>\n      <th>support_exact_at_correct</th>\n      <th>rank</th>\n      <th>y</th>\n      <th>period_query</th>\n      <th>period_support</th>\n      <th>period_correct</th>\n      <th>period_support_at_correct</th>\n      <th>period_difference</th>\n      <th>period_difference_5</th>\n      <th>correct_difference</th>\n    </tr>\n  </thead>\n  <tbody>\n    <tr>\n      <th>2</th>\n      <td>202037</td>\n      <td>7355.0</td>\n      <td>grÃ¸nngylt</td>\n      <td>120.0</td>\n      <td>m</td>\n      <td>0.0</td>\n      <td>1.0</td>\n      <td>_1160</td>\n      <td>801</td>\n      <td>802.0</td>\n      <td>...</td>\n      <td>202037_r_2</td>\n      <td>1</td>\n      <td>4</td>\n      <td>2.0</td>\n      <td>3.0</td>\n      <td>3.0</td>\n      <td>3.0</td>\n      <td>1.0</td>\n      <td>1.0</td>\n      <td>1.0</td>\n    </tr>\n    <tr>\n      <th>3</th>\n      <td>204295</td>\n      <td>12011.0</td>\n      <td>grÃ¸nngylt</td>\n      <td>149.0</td>\n      <td>m</td>\n      <td>0.0</td>\n      <td>1.0</td>\n      <td>P906</td>\n      <td>1023</td>\n      <td>1024.0</td>\n      <td>...</td>\n      <td>204295_r_1</td>\n      <td>50</td>\n      <td>6</td>\n      <td>4.0</td>\n      <td>4.0</td>\n      <td>3.0</td>\n      <td>3.0</td>\n      <td>NaN</td>\n      <td>NaN</td>\n      <td>1.0</td>\n    </tr>\n    <tr>\n      <th>4</th>\n      <td>209127</td>\n      <td>25103.0</td>\n      <td>grÃ¸nngylt</td>\n      <td>181.0</td>\n      <td>f</td>\n      <td>2.0</td>\n      <td>1.0</td>\n      <td>P629</td>\n      <td>3672</td>\n      <td>3673.0</td>\n      <td>...</td>\n      <td>209127_r_2</td>\n      <td>38</td>\n      <td>10</td>\n      <td>10.0</td>\n      <td>4.0</td>\n      <td>4.0</td>\n      <td>4.0</td>\n      <td>NaN</td>\n      <td>NaN</td>\n      <td>6.0</td>\n    </tr>\n    <tr>\n      <th>5</th>\n      <td>209127</td>\n      <td>11814.0</td>\n      <td>grÃ¸nngylt</td>\n      <td>170.0</td>\n      <td>f</td>\n      <td>0.0</td>\n      <td>1.0</td>\n      <td>P9050</td>\n      <td>843</td>\n      <td>844.0</td>\n      <td>...</td>\n      <td>209127_l_1</td>\n      <td>2</td>\n      <td>9</td>\n      <td>4.0</td>\n      <td>4.0</td>\n      <td>10.0</td>\n      <td>10.0</td>\n      <td>NaN</td>\n      <td>6.0</td>\n      <td>6.0</td>\n    </tr>\n    <tr>\n      <th>6</th>\n      <td>209526</td>\n      <td>128.0</td>\n      <td>grÃ¸nngylt</td>\n      <td>130.0</td>\n      <td>f</td>\n      <td>1.0</td>\n      <td>1.0</td>\n      <td>P5300</td>\n      <td>345</td>\n      <td>346.0</td>\n      <td>...</td>\n      <td>209526_l_1</td>\n      <td>6</td>\n      <td>13</td>\n      <td>2.5</td>\n      <td>3.0</td>\n      <td>10.0</td>\n      <td>10.0</td>\n      <td>NaN</td>\n      <td>NaN</td>\n      <td>7.5</td>\n    </tr>\n    <tr>\n      <th>...</th>\n      <td>...</td>\n      <td>...</td>\n      <td>...</td>\n      <td>...</td>\n      <td>...</td>\n      <td>...</td>\n      <td>...</td>\n      <td>...</td>\n      <td>...</td>\n      <td>...</td>\n      <td>...</td>\n      <td>...</td>\n      <td>...</td>\n      <td>...</td>\n      <td>...</td>\n      <td>...</td>\n      <td>...</td>\n      <td>...</td>\n      <td>...</td>\n      <td>...</td>\n      <td>...</td>\n    </tr>\n    <tr>\n      <th>445</th>\n      <td>67201</td>\n      <td>185.0</td>\n      <td>grÃ¸nngylt</td>\n      <td>133.0</td>\n      <td>s</td>\n      <td>2.0</td>\n      <td>1.0</td>\n      <td>P5300</td>\n      <td>414</td>\n      <td>415.0</td>\n      <td>...</td>\n      <td>67201_l_3</td>\n      <td>3</td>\n      <td>997</td>\n      <td>2.5</td>\n      <td>10.0</td>\n      <td>2.0</td>\n      <td>2.0</td>\n      <td>NaN</td>\n      <td>0.5</td>\n      <td>0.5</td>\n    </tr>\n    <tr>\n      <th>446</th>\n      <td>67201</td>\n      <td>7519.0</td>\n      <td>grÃ¸nngylt</td>\n      <td>133.0</td>\n      <td>s</td>\n      <td>0.0</td>\n      <td>1.0</td>\n      <td>_1160</td>\n      <td>996</td>\n      <td>997.0</td>\n      <td>...</td>\n      <td>67201_l_3</td>\n      <td>1</td>\n      <td>997</td>\n      <td>2.0</td>\n      <td>2.0</td>\n      <td>2.0</td>\n      <td>2.0</td>\n      <td>0.0</td>\n      <td>0.0</td>\n      <td>0.0</td>\n    </tr>\n    <tr>\n      <th>447</th>\n      <td>67510</td>\n      <td>28129.0</td>\n      <td>grÃ¸nngylt</td>\n      <td>163.0</td>\n      <td>f</td>\n      <td>0.0</td>\n      <td>1.0</td>\n      <td>P831</td>\n      <td>6210</td>\n      <td>6211.0</td>\n      <td>...</td>\n      <td>67510_l_2</td>\n      <td>21</td>\n      <td>999</td>\n      <td>11.0</td>\n      <td>2.0</td>\n      <td>2.5</td>\n      <td>2.5</td>\n      <td>NaN</td>\n      <td>NaN</td>\n      <td>8.5</td>\n    </tr>\n    <tr>\n      <th>448</th>\n      <td>67510</td>\n      <td>28129.0</td>\n      <td>grÃ¸nngylt</td>\n      <td>163.0</td>\n      <td>f</td>\n      <td>0.0</td>\n      <td>1.0</td>\n      <td>P831</td>\n      <td>6210</td>\n      <td>6211.0</td>\n      <td>...</td>\n      <td>67510_r_2</td>\n      <td>6</td>\n      <td>1000</td>\n      <td>11.0</td>\n      <td>3.0</td>\n      <td>2.5</td>\n      <td>2.5</td>\n      <td>NaN</td>\n      <td>NaN</td>\n      <td>8.5</td>\n    </tr>\n    <tr>\n      <th>449</th>\n      <td>67516</td>\n      <td>9057.0</td>\n      <td>grÃ¸nngylt</td>\n      <td>157.0</td>\n      <td>f</td>\n      <td>1.0</td>\n      <td>1.0</td>\n      <td>P703</td>\n      <td>1534</td>\n      <td>1535.0</td>\n      <td>...</td>\n      <td>67516_l_1</td>\n      <td>1</td>\n      <td>1001</td>\n      <td>3.0</td>\n      <td>4.0</td>\n      <td>4.0</td>\n      <td>4.0</td>\n      <td>1.0</td>\n      <td>1.0</td>\n      <td>1.0</td>\n    </tr>\n  </tbody>\n</table>\n<p>283 rows × 1521 columns</p>\n</div>"
     },
     "execution_count": 229,
     "metadata": {},
     "output_type": "execute_result"
    }
   ],
   "source": [
    "# Filter out non-numeric periods and calculate difference\n",
    "\n",
    "df_f2 = df_f[~df_f['period_query'].isin([\"0\", \"May\", \"Oct\"])]\n",
    "df_f2 = df_f2[~df_f2['period_support'].isin([\"0\", \"May\", \"Oct\"])]\n",
    "df_f2 = df_f2[~df_f2['period_correct'].isin([\"0\", \"May\", \"Oct\"])]\n",
    "df_f2 = df_f2[~df_f2['period_support_at_correct'].isin([\"0\", \"May\", \"Oct\"])]\n",
    "\n",
    "df_f2[\"period_query\"] = df_f2[\"period_query\"].str.replace(',', '.')\n",
    "df_f2[\"period_support\"] = df_f2[\"period_support\"].str.replace(',', '.')\n",
    "df_f2[\"period_correct\"] = df_f2[\"period_correct\"].str.replace(',', '.')\n",
    "df_f2[\"period_support_at_correct\"] = df_f2[\"period_support_at_correct\"].str.replace(',', '.')\n",
    "\n",
    "df_f2 = df_f2.astype({\"period_query\": float, \"period_support\": float, \"period_correct\": float, \"period_support_at_correct\": float})\n",
    "\n",
    "\n",
    "def rank1_difference(row):\n",
    "    if row[\"rank\"] <= 1:\n",
    "        return np.abs(row[\"period_query\"] - row[\"period_support\"])\n",
    "    else:\n",
    "        return np.NaN\n",
    "\n",
    "\n",
    "def rank5_difference(row):\n",
    "    if row[\"rank\"] <= 5:\n",
    "        return np.abs(row[\"period_query\"] - row[\"period_support_at_correct\"])\n",
    "    else:\n",
    "        return np.NaN\n",
    "\n",
    "\n",
    "df_f2[\"period_difference\"] = df_f2.apply(rank1_difference, axis=1)\n",
    "df_f2[\"period_difference_5\"] = df_f2.apply(rank5_difference, axis=1)\n",
    "df_f2[\"correct_difference\"] = np.abs(df_f2[\"period_query\"] - df_f2[\"period_correct\"])\n",
    "\n",
    "df_f2"
   ],
   "metadata": {
    "collapsed": false,
    "pycharm": {
     "name": "#%%\n"
    }
   }
  },
  {
   "cell_type": "code",
   "execution_count": 230,
   "outputs": [
    {
     "data": {
      "text/plain": "correct_difference\n0.0    71\n0.5    31\n1.0    81\n1.5     9\n2.0    29\n3.0     1\n5.0    12\n6.0    15\n6.5     6\n7.0    17\n7.5     2\n8.0     4\n8.5     3\nName: y, dtype: int64"
     },
     "execution_count": 230,
     "metadata": {},
     "output_type": "execute_result"
    }
   ],
   "source": [
    "count_correct = df_f2.groupby(\"correct_difference\").y.nunique()\n",
    "count_correct"
   ],
   "metadata": {
    "collapsed": false,
    "pycharm": {
     "name": "#%%\n"
    }
   }
  },
  {
   "cell_type": "code",
   "execution_count": 231,
   "outputs": [
    {
     "data": {
      "text/plain": "period_difference\n0.0    45\n0.5    13\n1.0    33\n1.5     2\n2.0     8\n3.0     0\n5.0     1\n6.0     1\n6.5     3\n7.0     2\n7.5     1\n8.0     1\n8.5     0\nName: y, dtype: int64"
     },
     "execution_count": 231,
     "metadata": {},
     "output_type": "execute_result"
    }
   ],
   "source": [
    "# Group by period intervals\n",
    "\n",
    "count_guess = df_f2.groupby(\"period_difference\").y.nunique()\n",
    "for u in count_correct.index:\n",
    "    if u not in count_guess.index:\n",
    "        count_guess[u] = 0\n",
    "count_guess = count_guess.sort_index()\n",
    "guesses = count_guess.to_numpy()\n",
    "count_guess"
   ],
   "metadata": {
    "collapsed": false,
    "pycharm": {
     "name": "#%%\n"
    }
   }
  },
  {
   "cell_type": "code",
   "execution_count": 232,
   "outputs": [
    {
     "data": {
      "text/plain": "period_difference_5\n0.0    60\n0.5    22\n1.0    50\n1.5     3\n2.0    12\n3.0     0\n5.0     1\n6.0     3\n6.5     3\n7.0     4\n7.5     1\n8.0     1\n8.5     0\nName: y, dtype: int64"
     },
     "execution_count": 232,
     "metadata": {},
     "output_type": "execute_result"
    }
   ],
   "source": [
    "# Group by period intervals, given 5 tries\n",
    "\n",
    "count_guess_5 = df_f2.groupby(\"period_difference_5\").y.nunique()\n",
    "for u in count_correct.index:\n",
    "    if u not in count_guess_5.index:\n",
    "        count_guess_5[u] = 0\n",
    "count_guess_5 = count_guess_5.sort_index()\n",
    "guesses_5 = count_guess_5.to_numpy()\n",
    "count_guess_5"
   ],
   "metadata": {
    "collapsed": false,
    "pycharm": {
     "name": "#%%\n"
    }
   }
  },
  {
   "cell_type": "code",
   "execution_count": 233,
   "outputs": [
    {
     "data": {
      "text/plain": "                   totalt mulige  riktig på første  andel  riktig på femte  \\\nperiode forskjell                                                            \n0.0                           71                45   0.63               60   \n0.5                           31                13   0.42               22   \n1.0                           81                33   0.41               50   \n1.5                            9                 2   0.22                3   \n2.0                           29                 8   0.28               12   \n3.0                            1                 0   0.00                0   \n5.0                           12                 1   0.08                1   \n6.0                           15                 1   0.07                3   \n6.5                            6                 3   0.50                3   \n7.0                           17                 2   0.12                4   \n7.5                            2                 1   0.50                1   \n8.0                            4                 1   0.25                1   \n8.5                            3                 0   0.00                0   \n\n                   andel@5  \nperiode forskjell           \n0.0                   0.85  \n0.5                   0.71  \n1.0                   0.62  \n1.5                   0.33  \n2.0                   0.41  \n3.0                   0.00  \n5.0                   0.08  \n6.0                   0.20  \n6.5                   0.50  \n7.0                   0.24  \n7.5                   0.50  \n8.0                   0.25  \n8.5                   0.00  ",
      "text/html": "<div>\n<style scoped>\n    .dataframe tbody tr th:only-of-type {\n        vertical-align: middle;\n    }\n\n    .dataframe tbody tr th {\n        vertical-align: top;\n    }\n\n    .dataframe thead th {\n        text-align: right;\n    }\n</style>\n<table border=\"1\" class=\"dataframe\">\n  <thead>\n    <tr style=\"text-align: right;\">\n      <th></th>\n      <th>totalt mulige</th>\n      <th>riktig på første</th>\n      <th>andel</th>\n      <th>riktig på femte</th>\n      <th>andel@5</th>\n    </tr>\n    <tr>\n      <th>periode forskjell</th>\n      <th></th>\n      <th></th>\n      <th></th>\n      <th></th>\n      <th></th>\n    </tr>\n  </thead>\n  <tbody>\n    <tr>\n      <th>0.0</th>\n      <td>71</td>\n      <td>45</td>\n      <td>0.63</td>\n      <td>60</td>\n      <td>0.85</td>\n    </tr>\n    <tr>\n      <th>0.5</th>\n      <td>31</td>\n      <td>13</td>\n      <td>0.42</td>\n      <td>22</td>\n      <td>0.71</td>\n    </tr>\n    <tr>\n      <th>1.0</th>\n      <td>81</td>\n      <td>33</td>\n      <td>0.41</td>\n      <td>50</td>\n      <td>0.62</td>\n    </tr>\n    <tr>\n      <th>1.5</th>\n      <td>9</td>\n      <td>2</td>\n      <td>0.22</td>\n      <td>3</td>\n      <td>0.33</td>\n    </tr>\n    <tr>\n      <th>2.0</th>\n      <td>29</td>\n      <td>8</td>\n      <td>0.28</td>\n      <td>12</td>\n      <td>0.41</td>\n    </tr>\n    <tr>\n      <th>3.0</th>\n      <td>1</td>\n      <td>0</td>\n      <td>0.00</td>\n      <td>0</td>\n      <td>0.00</td>\n    </tr>\n    <tr>\n      <th>5.0</th>\n      <td>12</td>\n      <td>1</td>\n      <td>0.08</td>\n      <td>1</td>\n      <td>0.08</td>\n    </tr>\n    <tr>\n      <th>6.0</th>\n      <td>15</td>\n      <td>1</td>\n      <td>0.07</td>\n      <td>3</td>\n      <td>0.20</td>\n    </tr>\n    <tr>\n      <th>6.5</th>\n      <td>6</td>\n      <td>3</td>\n      <td>0.50</td>\n      <td>3</td>\n      <td>0.50</td>\n    </tr>\n    <tr>\n      <th>7.0</th>\n      <td>17</td>\n      <td>2</td>\n      <td>0.12</td>\n      <td>4</td>\n      <td>0.24</td>\n    </tr>\n    <tr>\n      <th>7.5</th>\n      <td>2</td>\n      <td>1</td>\n      <td>0.50</td>\n      <td>1</td>\n      <td>0.50</td>\n    </tr>\n    <tr>\n      <th>8.0</th>\n      <td>4</td>\n      <td>1</td>\n      <td>0.25</td>\n      <td>1</td>\n      <td>0.25</td>\n    </tr>\n    <tr>\n      <th>8.5</th>\n      <td>3</td>\n      <td>0</td>\n      <td>0.00</td>\n      <td>0</td>\n      <td>0.00</td>\n    </tr>\n  </tbody>\n</table>\n</div>"
     },
     "execution_count": 233,
     "metadata": {},
     "output_type": "execute_result"
    }
   ],
   "source": [
    "# Table of  correct guesses and total guesses\n",
    "\n",
    "df_overview = pd.DataFrame(np.column_stack([count_correct.index, count_correct.to_numpy(), guesses, guesses_5]), columns=[\"periode forskjell\", \"totalt mulige\", \"riktig på første\", \"riktig på femte\"])\n",
    "df_overview = df_overview.set_index(\"periode forskjell\")\n",
    "df_overview.insert(2, \"andel\", df_overview.apply(lambda row: row[\"riktig på første\"] / row[\"totalt mulige\"], axis=1).round(2))\n",
    "df_overview[\"andel@5\"] = df_overview.apply(lambda row: row[\"riktig på femte\"] / row[\"totalt mulige\"], axis=1).round(2)\n",
    "df_overview[\"totalt mulige\"] = df_overview[\"totalt mulige\"].astype(int)\n",
    "df_overview[\"riktig på første\"] = df_overview[\"riktig på første\"].astype(int)\n",
    "df_overview[\"riktig på femte\"] = df_overview[\"riktig på femte\"].astype(int)\n",
    "df_overview"
   ],
   "metadata": {
    "collapsed": false,
    "pycharm": {
     "name": "#%%\n"
    }
   }
  },
  {
   "cell_type": "code",
   "execution_count": 234,
   "outputs": [
    {
     "name": "stdout",
     "output_type": "stream",
     "text": [
      "0.3914590747330961 0.5693950177935944\n"
     ]
    }
   ],
   "source": [
    "acc_1 = df_overview[\"riktig på første\"].sum() / df_overview[\"totalt mulige\"].sum()\n",
    "acc_5 = df_overview[\"riktig på femte\"].sum() / df_overview[\"totalt mulige\"].sum()\n",
    "print(acc_1, acc_5)"
   ],
   "metadata": {
    "collapsed": false,
    "pycharm": {
     "name": "#%%\n"
    }
   }
  },
  {
   "cell_type": "code",
   "execution_count": 235,
   "outputs": [
    {
     "data": {
      "text/plain": "                   total i datasett\nperiode forskjell                  \n0.0                             181\n0.5                              90\n1.0                             194\n1.5                              32\n2.0                              75\n3.0                               3\n5.0                              34\n6.0                              43\n6.5                              21\n7.0                              45\n7.5                               8\n8.0                               8\n8.5                              14",
      "text/html": "<div>\n<style scoped>\n    .dataframe tbody tr th:only-of-type {\n        vertical-align: middle;\n    }\n\n    .dataframe tbody tr th {\n        vertical-align: top;\n    }\n\n    .dataframe thead th {\n        text-align: right;\n    }\n</style>\n<table border=\"1\" class=\"dataframe\">\n  <thead>\n    <tr style=\"text-align: right;\">\n      <th></th>\n      <th>total i datasett</th>\n    </tr>\n    <tr>\n      <th>periode forskjell</th>\n      <th></th>\n    </tr>\n  </thead>\n  <tbody>\n    <tr>\n      <th>0.0</th>\n      <td>181</td>\n    </tr>\n    <tr>\n      <th>0.5</th>\n      <td>90</td>\n    </tr>\n    <tr>\n      <th>1.0</th>\n      <td>194</td>\n    </tr>\n    <tr>\n      <th>1.5</th>\n      <td>32</td>\n    </tr>\n    <tr>\n      <th>2.0</th>\n      <td>75</td>\n    </tr>\n    <tr>\n      <th>3.0</th>\n      <td>3</td>\n    </tr>\n    <tr>\n      <th>5.0</th>\n      <td>34</td>\n    </tr>\n    <tr>\n      <th>6.0</th>\n      <td>43</td>\n    </tr>\n    <tr>\n      <th>6.5</th>\n      <td>21</td>\n    </tr>\n    <tr>\n      <th>7.0</th>\n      <td>45</td>\n    </tr>\n    <tr>\n      <th>7.5</th>\n      <td>8</td>\n    </tr>\n    <tr>\n      <th>8.0</th>\n      <td>8</td>\n    </tr>\n    <tr>\n      <th>8.5</th>\n      <td>14</td>\n    </tr>\n  </tbody>\n</table>\n</div>"
     },
     "execution_count": 235,
     "metadata": {},
     "output_type": "execute_result"
    }
   ],
   "source": [
    "# Table of database distribution\n",
    "\n",
    "df_distribution = pd.DataFrame(np.column_stack([unique_total, counts_total]), columns=[\"periode forskjell\", \"total i datasett\"])\n",
    "df_distribution = df_distribution.set_index(\"periode forskjell\")\n",
    "df_distribution[\"total i datasett\"] = df_distribution[\"total i datasett\"].astype(int)\n",
    "df_distribution"
   ],
   "metadata": {
    "collapsed": false,
    "pycharm": {
     "name": "#%%\n"
    }
   }
  },
  {
   "cell_type": "code",
   "execution_count": 236,
   "outputs": [
    {
     "data": {
      "text/plain": "<Figure size 432x288 with 1 Axes>",
      "image/png": "[encoded data removed]"
     },
     "metadata": {
      "needs_background": "light"
     },
     "output_type": "display_data"
    }
   ],
   "source": [
    "# Plotting the cumulative number of correct given period intervals\n",
    "\n",
    "x = np.arange(0, 9, 0.5)\n",
    "\n",
    "count_guess_full = count_guess.copy()\n",
    "for u in x:\n",
    "    if u not in count_guess_full.index:\n",
    "        count_guess_full[u] = 0\n",
    "count_guess_full = count_guess_full.sort_index()\n",
    "guess_cum = np.cumsum(count_guess_full.to_numpy())\n",
    "\n",
    "count_guess_5_full = count_guess_5.copy()\n",
    "for u in x:\n",
    "    if u not in count_guess_5_full.index:\n",
    "        count_guess_5_full[u] = 0\n",
    "count_guess_5_full = count_guess_5_full.sort_index()\n",
    "guess_5_cum = np.cumsum(count_guess_5_full.to_numpy())\n",
    "\n",
    "count_correct_full = count_correct.copy()\n",
    "for u in x:\n",
    "    if u not in count_correct_full.index:\n",
    "        count_correct_full[u] = 0\n",
    "count_correct_full = count_correct_full.sort_index()\n",
    "correct_cum = np.cumsum(count_correct_full.to_numpy())\n",
    "\n",
    "#plt.plot(unique, total_cum)\n",
    "plt.plot(x, guess_cum)\n",
    "#plt.plot(x, guess_5_cum)\n",
    "plt.xlabel(\"Antall perioder mellom bilder\")\n",
    "plt.ylabel(\"Kumulativ antall korrekte\")\n",
    "plt.ylim(bottom=0)\n",
    "plt.xscale(\"linear\")\n",
    "plt.xticks(np.arange(min(x), max(x)+1, 1.0))\n",
    "plt.savefig(\"fig.png\")\n",
    "plt.show()"
   ],
   "metadata": {
    "collapsed": false,
    "pycharm": {
     "name": "#%%\n"
    }
   }
  },
  {
   "cell_type": "code",
   "execution_count": 236,
   "outputs": [],
   "source": [],
   "metadata": {
    "collapsed": false,
    "pycharm": {
     "name": "#%%\n"
    }
   }
  }
 ],
 "metadata": {
  "kernelspec": {
   "display_name": "Python 3",
   "language": "python",
   "name": "python3"
  },
  "language_info": {
   "codemirror_mode": {
    "name": "ipython",
    "version": 2
   },
   "file_extension": ".py",
   "mimetype": "text/x-python",
   "name": "python",
   "nbconvert_exporter": "python",
   "pygments_lexer": "ipython2",
   "version": "2.7.6"
  }
 },
 "nbformat": 4,
 "nbformat_minor": 0
}