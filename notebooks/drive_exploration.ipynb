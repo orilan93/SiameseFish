{
 "cells": [
  {
   "cell_type": "code",
   "execution_count": 2,
   "metadata": {
    "collapsed": true
   },
   "outputs": [
    {
     "name": "stderr",
     "output_type": "stream",
     "text": [
      "<ipython-input-2-e1e747217013>:10: FutureWarning: The pandas.datetime class is deprecated and will be removed from pandas in a future version. Import from datetime module instead.\n",
      "  dateparser = lambda x: pd.datetime.strptime(x, '%d.%m.%Y')\n"
     ]
    },
    {
     "data": {
      "text/plain": "RowNumber                 object\npit                       object\nspecies                   object\nlength                     int64\nsex                       object\nspawning                 float64\nrecap                    float64\nphotostart               float64\nphotostop                float64\ndate              datetime64[ns]\nPeriod                    object\ndayseq                   float64\narea                      object\ncrypto                   float64\nskade                    float64\nløpernummer              float64\ndataset                   object\nphotostart2              float64\nphotostop2               float64\nnfotos                   float64\nphotoObs                   int64\nPrefix                    object\nphotostartFull            object\nphotostopFull             object\nphotostartold             object\nphotostopOld              object\ndtype: object"
     },
     "execution_count": 2,
     "metadata": {},
     "output_type": "execute_result"
    }
   ],
   "source": [
    "import pandas as pd\n",
    "import os\n",
    "import numpy as np\n",
    "\n",
    "SOURCE_DIR = 'E:\\\\Mugshots'\n",
    "DEST_DIR = '../../data'\n",
    "#FILENAME = 'Metadata.txt'\n",
    "FILENAME = 'photoFeltGrønngylt3.csv'\n",
    "\n",
    "dateparser = lambda x: pd.datetime.strptime(x, '%d.%m.%Y')\n",
    "\n",
    "df = pd.read_csv(os.path.join(SOURCE_DIR, FILENAME),\n",
    "                 encoding='utf-8',\n",
    "                 sep=';',\n",
    "                 parse_dates=['date'],\n",
    "                 date_parser=dateparser)\n",
    "\n",
    "df.dtypes"
   ]
  },
  {
   "cell_type": "code",
   "execution_count": 3,
   "outputs": [
    {
     "data": {
      "text/plain": "  RowNumber     pit    species  length sex  spawning  recap  photostart  \\\n0        74  209144  grønngylt     153   m       NaN    0.0        18.0   \n1       112  209633  grønngylt     179   m       1.0    0.0        17.0   \n2       130  209814  grønngylt     189   m       NaN    0.0        19.0   \n3       149  209984  grønngylt     142   m       NaN    0.0        24.0   \n4       148  209983  grønngylt     187   m       NaN    0.0        26.0   \n\n   photostop       date  ...    dataset  photostart2 photostop2  nfotos  \\\n0       19.0 2017-08-02  ...  FieldMain         18.0       19.0     2.0   \n1        NaN 2017-08-02  ...  FieldMain         17.0        NaN     NaN   \n2       21.0 2017-08-03  ...  FieldMain         19.0       21.0     3.0   \n3       25.0 2017-08-03  ...  FieldMain         24.0       25.0     2.0   \n4       27.0 2017-08-03  ...  FieldMain         26.0       27.0     2.0   \n\n   photoObs  Prefix photostartFull  photostopFull  photostartold  photostopOld  \n0         2     NaN            NaN            NaN            NaN           NaN  \n1         1     NaN            NaN            NaN            NaN           NaN  \n2         1     NaN            NaN            NaN            NaN           NaN  \n3         1     NaN            NaN            NaN            NaN           NaN  \n4         1     NaN            NaN            NaN            NaN           NaN  \n\n[5 rows x 26 columns]",
      "text/html": "<div>\n<style scoped>\n    .dataframe tbody tr th:only-of-type {\n        vertical-align: middle;\n    }\n\n    .dataframe tbody tr th {\n        vertical-align: top;\n    }\n\n    .dataframe thead th {\n        text-align: right;\n    }\n</style>\n<table border=\"1\" class=\"dataframe\">\n  <thead>\n    <tr style=\"text-align: right;\">\n      <th></th>\n      <th>RowNumber</th>\n      <th>pit</th>\n      <th>species</th>\n      <th>length</th>\n      <th>sex</th>\n      <th>spawning</th>\n      <th>recap</th>\n      <th>photostart</th>\n      <th>photostop</th>\n      <th>date</th>\n      <th>...</th>\n      <th>dataset</th>\n      <th>photostart2</th>\n      <th>photostop2</th>\n      <th>nfotos</th>\n      <th>photoObs</th>\n      <th>Prefix</th>\n      <th>photostartFull</th>\n      <th>photostopFull</th>\n      <th>photostartold</th>\n      <th>photostopOld</th>\n    </tr>\n  </thead>\n  <tbody>\n    <tr>\n      <th>0</th>\n      <td>74</td>\n      <td>209144</td>\n      <td>grønngylt</td>\n      <td>153</td>\n      <td>m</td>\n      <td>NaN</td>\n      <td>0.0</td>\n      <td>18.0</td>\n      <td>19.0</td>\n      <td>2017-08-02</td>\n      <td>...</td>\n      <td>FieldMain</td>\n      <td>18.0</td>\n      <td>19.0</td>\n      <td>2.0</td>\n      <td>2</td>\n      <td>NaN</td>\n      <td>NaN</td>\n      <td>NaN</td>\n      <td>NaN</td>\n      <td>NaN</td>\n    </tr>\n    <tr>\n      <th>1</th>\n      <td>112</td>\n      <td>209633</td>\n      <td>grønngylt</td>\n      <td>179</td>\n      <td>m</td>\n      <td>1.0</td>\n      <td>0.0</td>\n      <td>17.0</td>\n      <td>NaN</td>\n      <td>2017-08-02</td>\n      <td>...</td>\n      <td>FieldMain</td>\n      <td>17.0</td>\n      <td>NaN</td>\n      <td>NaN</td>\n      <td>1</td>\n      <td>NaN</td>\n      <td>NaN</td>\n      <td>NaN</td>\n      <td>NaN</td>\n      <td>NaN</td>\n    </tr>\n    <tr>\n      <th>2</th>\n      <td>130</td>\n      <td>209814</td>\n      <td>grønngylt</td>\n      <td>189</td>\n      <td>m</td>\n      <td>NaN</td>\n      <td>0.0</td>\n      <td>19.0</td>\n      <td>21.0</td>\n      <td>2017-08-03</td>\n      <td>...</td>\n      <td>FieldMain</td>\n      <td>19.0</td>\n      <td>21.0</td>\n      <td>3.0</td>\n      <td>1</td>\n      <td>NaN</td>\n      <td>NaN</td>\n      <td>NaN</td>\n      <td>NaN</td>\n      <td>NaN</td>\n    </tr>\n    <tr>\n      <th>3</th>\n      <td>149</td>\n      <td>209984</td>\n      <td>grønngylt</td>\n      <td>142</td>\n      <td>m</td>\n      <td>NaN</td>\n      <td>0.0</td>\n      <td>24.0</td>\n      <td>25.0</td>\n      <td>2017-08-03</td>\n      <td>...</td>\n      <td>FieldMain</td>\n      <td>24.0</td>\n      <td>25.0</td>\n      <td>2.0</td>\n      <td>1</td>\n      <td>NaN</td>\n      <td>NaN</td>\n      <td>NaN</td>\n      <td>NaN</td>\n      <td>NaN</td>\n    </tr>\n    <tr>\n      <th>4</th>\n      <td>148</td>\n      <td>209983</td>\n      <td>grønngylt</td>\n      <td>187</td>\n      <td>m</td>\n      <td>NaN</td>\n      <td>0.0</td>\n      <td>26.0</td>\n      <td>27.0</td>\n      <td>2017-08-03</td>\n      <td>...</td>\n      <td>FieldMain</td>\n      <td>26.0</td>\n      <td>27.0</td>\n      <td>2.0</td>\n      <td>1</td>\n      <td>NaN</td>\n      <td>NaN</td>\n      <td>NaN</td>\n      <td>NaN</td>\n      <td>NaN</td>\n    </tr>\n  </tbody>\n</table>\n<p>5 rows × 26 columns</p>\n</div>"
     },
     "execution_count": 3,
     "metadata": {},
     "output_type": "execute_result"
    }
   ],
   "source": [
    "df.head()"
   ],
   "metadata": {
    "collapsed": false,
    "pycharm": {
     "name": "#%%\n"
    }
   }
  },
  {
   "cell_type": "code",
   "execution_count": 4,
   "outputs": [
    {
     "data": {
      "text/plain": "grønngylt    3317\nbergnebb      116\nberggylt       16\nga              6\nName: species, dtype: int64"
     },
     "execution_count": 4,
     "metadata": {},
     "output_type": "execute_result"
    }
   ],
   "source": [
    "df['species'].value_counts()"
   ],
   "metadata": {
    "collapsed": false,
    "pycharm": {
     "name": "#%%\n"
    }
   }
  },
  {
   "cell_type": "code",
   "execution_count": 5,
   "outputs": [
    {
     "data": {
      "text/plain": "     RowNumber     pit species  length sex  spawning  recap  photostart  \\\n3061       901  421155      ga     148   f       0.0    NaN      1320.0   \n3066       949  421251      ga     127   f       0.0    NaN      1330.0   \n3162      1016  421435      ga     131   f       0.0    NaN      1522.0   \n3174       902  421155      ga     147   m       0.0    NaN       548.0   \n3387       948  421251      ga     123   m       0.0    NaN      1003.0   \n3415      1017  421435      ga     129   m       0.0    NaN      1063.0   \n\n      photostop       date  ...  dataset  photostart2 photostop2  nfotos  \\\n3061     1321.0 2020-05-02  ...  LabMain       1320.0     1321.0     2.0   \n3066     1331.0 2020-05-02  ...  LabMain       1330.0     1331.0     2.0   \n3162     1523.0 2020-05-02  ...  LabMain       1522.0     1523.0     2.0   \n3174      549.0 2019-10-28  ...  LabMain        548.0      549.0     2.0   \n3387     1004.0 2019-10-30  ...  LabMain       1003.0     1004.0     2.0   \n3415     1064.0 2019-10-30  ...  LabMain       1063.0     1064.0     2.0   \n\n      photoObs  Prefix photostartFull  photostopFull  photostartold  \\\n3061         2     NaN            NaN            NaN            NaN   \n3066         2     NaN            NaN            NaN            NaN   \n3162         2     NaN            NaN            NaN            NaN   \n3174         2     NaN            NaN            NaN            NaN   \n3387         2     NaN            NaN            NaN            NaN   \n3415         2     NaN            NaN            NaN            NaN   \n\n      photostopOld  \n3061           NaN  \n3066           NaN  \n3162           NaN  \n3174           NaN  \n3387           NaN  \n3415           NaN  \n\n[6 rows x 26 columns]",
      "text/html": "<div>\n<style scoped>\n    .dataframe tbody tr th:only-of-type {\n        vertical-align: middle;\n    }\n\n    .dataframe tbody tr th {\n        vertical-align: top;\n    }\n\n    .dataframe thead th {\n        text-align: right;\n    }\n</style>\n<table border=\"1\" class=\"dataframe\">\n  <thead>\n    <tr style=\"text-align: right;\">\n      <th></th>\n      <th>RowNumber</th>\n      <th>pit</th>\n      <th>species</th>\n      <th>length</th>\n      <th>sex</th>\n      <th>spawning</th>\n      <th>recap</th>\n      <th>photostart</th>\n      <th>photostop</th>\n      <th>date</th>\n      <th>...</th>\n      <th>dataset</th>\n      <th>photostart2</th>\n      <th>photostop2</th>\n      <th>nfotos</th>\n      <th>photoObs</th>\n      <th>Prefix</th>\n      <th>photostartFull</th>\n      <th>photostopFull</th>\n      <th>photostartold</th>\n      <th>photostopOld</th>\n    </tr>\n  </thead>\n  <tbody>\n    <tr>\n      <th>3061</th>\n      <td>901</td>\n      <td>421155</td>\n      <td>ga</td>\n      <td>148</td>\n      <td>f</td>\n      <td>0.0</td>\n      <td>NaN</td>\n      <td>1320.0</td>\n      <td>1321.0</td>\n      <td>2020-05-02</td>\n      <td>...</td>\n      <td>LabMain</td>\n      <td>1320.0</td>\n      <td>1321.0</td>\n      <td>2.0</td>\n      <td>2</td>\n      <td>NaN</td>\n      <td>NaN</td>\n      <td>NaN</td>\n      <td>NaN</td>\n      <td>NaN</td>\n    </tr>\n    <tr>\n      <th>3066</th>\n      <td>949</td>\n      <td>421251</td>\n      <td>ga</td>\n      <td>127</td>\n      <td>f</td>\n      <td>0.0</td>\n      <td>NaN</td>\n      <td>1330.0</td>\n      <td>1331.0</td>\n      <td>2020-05-02</td>\n      <td>...</td>\n      <td>LabMain</td>\n      <td>1330.0</td>\n      <td>1331.0</td>\n      <td>2.0</td>\n      <td>2</td>\n      <td>NaN</td>\n      <td>NaN</td>\n      <td>NaN</td>\n      <td>NaN</td>\n      <td>NaN</td>\n    </tr>\n    <tr>\n      <th>3162</th>\n      <td>1016</td>\n      <td>421435</td>\n      <td>ga</td>\n      <td>131</td>\n      <td>f</td>\n      <td>0.0</td>\n      <td>NaN</td>\n      <td>1522.0</td>\n      <td>1523.0</td>\n      <td>2020-05-02</td>\n      <td>...</td>\n      <td>LabMain</td>\n      <td>1522.0</td>\n      <td>1523.0</td>\n      <td>2.0</td>\n      <td>2</td>\n      <td>NaN</td>\n      <td>NaN</td>\n      <td>NaN</td>\n      <td>NaN</td>\n      <td>NaN</td>\n    </tr>\n    <tr>\n      <th>3174</th>\n      <td>902</td>\n      <td>421155</td>\n      <td>ga</td>\n      <td>147</td>\n      <td>m</td>\n      <td>0.0</td>\n      <td>NaN</td>\n      <td>548.0</td>\n      <td>549.0</td>\n      <td>2019-10-28</td>\n      <td>...</td>\n      <td>LabMain</td>\n      <td>548.0</td>\n      <td>549.0</td>\n      <td>2.0</td>\n      <td>2</td>\n      <td>NaN</td>\n      <td>NaN</td>\n      <td>NaN</td>\n      <td>NaN</td>\n      <td>NaN</td>\n    </tr>\n    <tr>\n      <th>3387</th>\n      <td>948</td>\n      <td>421251</td>\n      <td>ga</td>\n      <td>123</td>\n      <td>m</td>\n      <td>0.0</td>\n      <td>NaN</td>\n      <td>1003.0</td>\n      <td>1004.0</td>\n      <td>2019-10-30</td>\n      <td>...</td>\n      <td>LabMain</td>\n      <td>1003.0</td>\n      <td>1004.0</td>\n      <td>2.0</td>\n      <td>2</td>\n      <td>NaN</td>\n      <td>NaN</td>\n      <td>NaN</td>\n      <td>NaN</td>\n      <td>NaN</td>\n    </tr>\n    <tr>\n      <th>3415</th>\n      <td>1017</td>\n      <td>421435</td>\n      <td>ga</td>\n      <td>129</td>\n      <td>m</td>\n      <td>0.0</td>\n      <td>NaN</td>\n      <td>1063.0</td>\n      <td>1064.0</td>\n      <td>2019-10-30</td>\n      <td>...</td>\n      <td>LabMain</td>\n      <td>1063.0</td>\n      <td>1064.0</td>\n      <td>2.0</td>\n      <td>2</td>\n      <td>NaN</td>\n      <td>NaN</td>\n      <td>NaN</td>\n      <td>NaN</td>\n      <td>NaN</td>\n    </tr>\n  </tbody>\n</table>\n<p>6 rows × 26 columns</p>\n</div>"
     },
     "execution_count": 5,
     "metadata": {},
     "output_type": "execute_result"
    }
   ],
   "source": [
    "df[df['species'] == 'ga']"
   ],
   "metadata": {
    "collapsed": false,
    "pycharm": {
     "name": "#%%\n"
    }
   }
  },
  {
   "cell_type": "code",
   "execution_count": 6,
   "outputs": [
    {
     "data": {
      "text/plain": "  RowNumber     pit    species  length sex  spawning  recap  photostart  \\\n0        74  209144  grønngylt     153   m       NaN    0.0        18.0   \n1       112  209633  grønngylt     179   m       1.0    0.0        17.0   \n2       130  209814  grønngylt     189   m       NaN    0.0        19.0   \n3       149  209984  grønngylt     142   m       NaN    0.0        24.0   \n4       148  209983  grønngylt     187   m       NaN    0.0        26.0   \n\n   photostop       date  ... photostop2  nfotos photoObs  Prefix  \\\n0       19.0 2017-08-02  ...       19.0     2.0        2     NaN   \n1        NaN 2017-08-02  ...        NaN     NaN        1     NaN   \n2       21.0 2017-08-03  ...       21.0     3.0        1     NaN   \n3       25.0 2017-08-03  ...       25.0     2.0        1     NaN   \n4       27.0 2017-08-03  ...       27.0     2.0        1     NaN   \n\n   photostartFull  photostopFull photostartold  photostopOld  month  day  \n0             NaN            NaN           NaN           NaN      8    2  \n1             NaN            NaN           NaN           NaN      8    2  \n2             NaN            NaN           NaN           NaN      8    3  \n3             NaN            NaN           NaN           NaN      8    3  \n4             NaN            NaN           NaN           NaN      8    3  \n\n[5 rows x 28 columns]",
      "text/html": "<div>\n<style scoped>\n    .dataframe tbody tr th:only-of-type {\n        vertical-align: middle;\n    }\n\n    .dataframe tbody tr th {\n        vertical-align: top;\n    }\n\n    .dataframe thead th {\n        text-align: right;\n    }\n</style>\n<table border=\"1\" class=\"dataframe\">\n  <thead>\n    <tr style=\"text-align: right;\">\n      <th></th>\n      <th>RowNumber</th>\n      <th>pit</th>\n      <th>species</th>\n      <th>length</th>\n      <th>sex</th>\n      <th>spawning</th>\n      <th>recap</th>\n      <th>photostart</th>\n      <th>photostop</th>\n      <th>date</th>\n      <th>...</th>\n      <th>photostop2</th>\n      <th>nfotos</th>\n      <th>photoObs</th>\n      <th>Prefix</th>\n      <th>photostartFull</th>\n      <th>photostopFull</th>\n      <th>photostartold</th>\n      <th>photostopOld</th>\n      <th>month</th>\n      <th>day</th>\n    </tr>\n  </thead>\n  <tbody>\n    <tr>\n      <th>0</th>\n      <td>74</td>\n      <td>209144</td>\n      <td>grønngylt</td>\n      <td>153</td>\n      <td>m</td>\n      <td>NaN</td>\n      <td>0.0</td>\n      <td>18.0</td>\n      <td>19.0</td>\n      <td>2017-08-02</td>\n      <td>...</td>\n      <td>19.0</td>\n      <td>2.0</td>\n      <td>2</td>\n      <td>NaN</td>\n      <td>NaN</td>\n      <td>NaN</td>\n      <td>NaN</td>\n      <td>NaN</td>\n      <td>8</td>\n      <td>2</td>\n    </tr>\n    <tr>\n      <th>1</th>\n      <td>112</td>\n      <td>209633</td>\n      <td>grønngylt</td>\n      <td>179</td>\n      <td>m</td>\n      <td>1.0</td>\n      <td>0.0</td>\n      <td>17.0</td>\n      <td>NaN</td>\n      <td>2017-08-02</td>\n      <td>...</td>\n      <td>NaN</td>\n      <td>NaN</td>\n      <td>1</td>\n      <td>NaN</td>\n      <td>NaN</td>\n      <td>NaN</td>\n      <td>NaN</td>\n      <td>NaN</td>\n      <td>8</td>\n      <td>2</td>\n    </tr>\n    <tr>\n      <th>2</th>\n      <td>130</td>\n      <td>209814</td>\n      <td>grønngylt</td>\n      <td>189</td>\n      <td>m</td>\n      <td>NaN</td>\n      <td>0.0</td>\n      <td>19.0</td>\n      <td>21.0</td>\n      <td>2017-08-03</td>\n      <td>...</td>\n      <td>21.0</td>\n      <td>3.0</td>\n      <td>1</td>\n      <td>NaN</td>\n      <td>NaN</td>\n      <td>NaN</td>\n      <td>NaN</td>\n      <td>NaN</td>\n      <td>8</td>\n      <td>3</td>\n    </tr>\n    <tr>\n      <th>3</th>\n      <td>149</td>\n      <td>209984</td>\n      <td>grønngylt</td>\n      <td>142</td>\n      <td>m</td>\n      <td>NaN</td>\n      <td>0.0</td>\n      <td>24.0</td>\n      <td>25.0</td>\n      <td>2017-08-03</td>\n      <td>...</td>\n      <td>25.0</td>\n      <td>2.0</td>\n      <td>1</td>\n      <td>NaN</td>\n      <td>NaN</td>\n      <td>NaN</td>\n      <td>NaN</td>\n      <td>NaN</td>\n      <td>8</td>\n      <td>3</td>\n    </tr>\n    <tr>\n      <th>4</th>\n      <td>148</td>\n      <td>209983</td>\n      <td>grønngylt</td>\n      <td>187</td>\n      <td>m</td>\n      <td>NaN</td>\n      <td>0.0</td>\n      <td>26.0</td>\n      <td>27.0</td>\n      <td>2017-08-03</td>\n      <td>...</td>\n      <td>27.0</td>\n      <td>2.0</td>\n      <td>1</td>\n      <td>NaN</td>\n      <td>NaN</td>\n      <td>NaN</td>\n      <td>NaN</td>\n      <td>NaN</td>\n      <td>8</td>\n      <td>3</td>\n    </tr>\n  </tbody>\n</table>\n<p>5 rows × 28 columns</p>\n</div>"
     },
     "execution_count": 6,
     "metadata": {},
     "output_type": "execute_result"
    }
   ],
   "source": [
    "# Oprette kolonne for dag og måned\n",
    "df['month'] = pd.DatetimeIndex(df['date']).month\n",
    "df['day'] = pd.DatetimeIndex(df['date']).day\n",
    "df.head()"
   ],
   "metadata": {
    "collapsed": false,
    "pycharm": {
     "name": "#%%\n"
    }
   }
  },
  {
   "cell_type": "code",
   "execution_count": 7,
   "outputs": [
    {
     "name": "stdout",
     "output_type": "stream",
     "text": [
      "118\n",
      "176\n"
     ]
    }
   ],
   "source": [
    "# Kolonner må være float for å kunne håndtere nan\n",
    "print(df['photostart'].isna().sum())\n",
    "print(df['photostop'].isna().sum())"
   ],
   "metadata": {
    "collapsed": false,
    "pycharm": {
     "name": "#%%\n"
    }
   }
  },
  {
   "cell_type": "code",
   "execution_count": 8,
   "outputs": [
    {
     "data": {
      "text/plain": "  RowNumber     pit    species  length sex  spawning  recap  photostart  \\\n0        74  209144  grønngylt     153   m       NaN    0.0        18.0   \n1       112  209633  grønngylt     179   m       1.0    0.0        17.0   \n2       130  209814  grønngylt     189   m       NaN    0.0        19.0   \n3       149  209984  grønngylt     142   m       NaN    0.0        24.0   \n4       148  209983  grønngylt     187   m       NaN    0.0        26.0   \n\n   photostop       date  ... photostop2  nfotos photoObs  Prefix  \\\n0       19.0 2017-08-02  ...       19.0     2.0        2     NaN   \n1        NaN 2017-08-02  ...        NaN     NaN        1     NaN   \n2       21.0 2017-08-03  ...       21.0     3.0        1     NaN   \n3       25.0 2017-08-03  ...       25.0     2.0        1     NaN   \n4       27.0 2017-08-03  ...       27.0     2.0        1     NaN   \n\n   photostartFull  photostopFull photostartold  photostopOld  month  day  \n0             NaN            NaN           NaN           NaN      8    2  \n1             NaN            NaN           NaN           NaN      8    2  \n2             NaN            NaN           NaN           NaN      8    3  \n3             NaN            NaN           NaN           NaN      8    3  \n4             NaN            NaN           NaN           NaN      8    3  \n\n[5 rows x 28 columns]",
      "text/html": "<div>\n<style scoped>\n    .dataframe tbody tr th:only-of-type {\n        vertical-align: middle;\n    }\n\n    .dataframe tbody tr th {\n        vertical-align: top;\n    }\n\n    .dataframe thead th {\n        text-align: right;\n    }\n</style>\n<table border=\"1\" class=\"dataframe\">\n  <thead>\n    <tr style=\"text-align: right;\">\n      <th></th>\n      <th>RowNumber</th>\n      <th>pit</th>\n      <th>species</th>\n      <th>length</th>\n      <th>sex</th>\n      <th>spawning</th>\n      <th>recap</th>\n      <th>photostart</th>\n      <th>photostop</th>\n      <th>date</th>\n      <th>...</th>\n      <th>photostop2</th>\n      <th>nfotos</th>\n      <th>photoObs</th>\n      <th>Prefix</th>\n      <th>photostartFull</th>\n      <th>photostopFull</th>\n      <th>photostartold</th>\n      <th>photostopOld</th>\n      <th>month</th>\n      <th>day</th>\n    </tr>\n  </thead>\n  <tbody>\n    <tr>\n      <th>0</th>\n      <td>74</td>\n      <td>209144</td>\n      <td>grønngylt</td>\n      <td>153</td>\n      <td>m</td>\n      <td>NaN</td>\n      <td>0.0</td>\n      <td>18.0</td>\n      <td>19.0</td>\n      <td>2017-08-02</td>\n      <td>...</td>\n      <td>19.0</td>\n      <td>2.0</td>\n      <td>2</td>\n      <td>NaN</td>\n      <td>NaN</td>\n      <td>NaN</td>\n      <td>NaN</td>\n      <td>NaN</td>\n      <td>8</td>\n      <td>2</td>\n    </tr>\n    <tr>\n      <th>1</th>\n      <td>112</td>\n      <td>209633</td>\n      <td>grønngylt</td>\n      <td>179</td>\n      <td>m</td>\n      <td>1.0</td>\n      <td>0.0</td>\n      <td>17.0</td>\n      <td>NaN</td>\n      <td>2017-08-02</td>\n      <td>...</td>\n      <td>NaN</td>\n      <td>NaN</td>\n      <td>1</td>\n      <td>NaN</td>\n      <td>NaN</td>\n      <td>NaN</td>\n      <td>NaN</td>\n      <td>NaN</td>\n      <td>8</td>\n      <td>2</td>\n    </tr>\n    <tr>\n      <th>2</th>\n      <td>130</td>\n      <td>209814</td>\n      <td>grønngylt</td>\n      <td>189</td>\n      <td>m</td>\n      <td>NaN</td>\n      <td>0.0</td>\n      <td>19.0</td>\n      <td>21.0</td>\n      <td>2017-08-03</td>\n      <td>...</td>\n      <td>21.0</td>\n      <td>3.0</td>\n      <td>1</td>\n      <td>NaN</td>\n      <td>NaN</td>\n      <td>NaN</td>\n      <td>NaN</td>\n      <td>NaN</td>\n      <td>8</td>\n      <td>3</td>\n    </tr>\n    <tr>\n      <th>3</th>\n      <td>149</td>\n      <td>209984</td>\n      <td>grønngylt</td>\n      <td>142</td>\n      <td>m</td>\n      <td>NaN</td>\n      <td>0.0</td>\n      <td>24.0</td>\n      <td>25.0</td>\n      <td>2017-08-03</td>\n      <td>...</td>\n      <td>25.0</td>\n      <td>2.0</td>\n      <td>1</td>\n      <td>NaN</td>\n      <td>NaN</td>\n      <td>NaN</td>\n      <td>NaN</td>\n      <td>NaN</td>\n      <td>8</td>\n      <td>3</td>\n    </tr>\n    <tr>\n      <th>4</th>\n      <td>148</td>\n      <td>209983</td>\n      <td>grønngylt</td>\n      <td>187</td>\n      <td>m</td>\n      <td>NaN</td>\n      <td>0.0</td>\n      <td>26.0</td>\n      <td>27.0</td>\n      <td>2017-08-03</td>\n      <td>...</td>\n      <td>27.0</td>\n      <td>2.0</td>\n      <td>1</td>\n      <td>NaN</td>\n      <td>NaN</td>\n      <td>NaN</td>\n      <td>NaN</td>\n      <td>NaN</td>\n      <td>8</td>\n      <td>3</td>\n    </tr>\n  </tbody>\n</table>\n<p>5 rows × 28 columns</p>\n</div>"
     },
     "execution_count": 8,
     "metadata": {},
     "output_type": "execute_result"
    }
   ],
   "source": [
    "# Beholder bare grønngylt\n",
    "df_gg = df[df['species'] == 'grønngylt']\n",
    "df_gg.head()"
   ],
   "metadata": {
    "collapsed": false,
    "pycharm": {
     "name": "#%%\n"
    }
   }
  },
  {
   "cell_type": "code",
   "execution_count": 9,
   "outputs": [
    {
     "name": "stderr",
     "output_type": "stream",
     "text": [
      "<ipython-input-9-243e8204c4bb>:2: SettingWithCopyWarning: \n",
      "A value is trying to be set on a copy of a slice from a DataFrame.\n",
      "Try using .loc[row_indexer,col_indexer] = value instead\n",
      "\n",
      "See the caveats in the documentation: https://pandas.pydata.org/pandas-docs/stable/user_guide/indexing.html#returning-a-view-versus-a-copy\n",
      "  df_gg['images_count'] = df_gg['photostop'] - df_gg['photostart'] + 1\n"
     ]
    },
    {
     "data": {
      "text/plain": " 2.0      2997\n 3.0        49\n 4.0         3\n-198.0       1\n-298.0       1\n 102.0       1\n-271.0       1\n-16.0        1\n 1.0         1\n 11.0        1\n 5.0         1\nName: images_count, dtype: int64"
     },
     "execution_count": 9,
     "metadata": {},
     "output_type": "execute_result"
    }
   ],
   "source": [
    "# Mye feil her\n",
    "df_gg['images_count'] = df_gg['photostop'] - df_gg['photostart'] + 1\n",
    "df_gg['images_count'].value_counts()"
   ],
   "metadata": {
    "collapsed": false,
    "pycharm": {
     "name": "#%%\n"
    }
   }
  },
  {
   "cell_type": "code",
   "execution_count": 10,
   "outputs": [
    {
     "data": {
      "text/plain": "     RowNumber     pit    species  length sex  spawning  recap  photostart  \\\n144       2248  424810  grønngylt     169   m       0.0    0.0       998.0   \n160       2198  424680  grønngylt     113   m       0.0    0.0      1033.0   \n307       1843  423593  grønngylt     113   m       0.0    0.0       278.0   \n489       1806  423491  grønngylt     115   m       0.0    0.0       742.0   \n1704      2647  430788  grønngylt     162   m       0.0    0.0      1478.0   \n1855      2701  430913  grønngylt     143   f       0.0    0.0      1975.0   \n2470      3216  443787  grønngylt     122   m       0.0    0.0      1618.0   \n3171        18  201262  grønngylt     183   m       0.0    NaN       542.0   \n3177      1187  421761  grønngylt     138   m       0.0    NaN       554.0   \n3243      1252  421891  grønngylt     127   f       0.0    NaN       969.0   \n\n      photostop       date  ... nfotos  photoObs Prefix  photostartFull  \\\n144      1002.0 2018-05-16  ...    4.0         1  _1160        _1160998   \n160      1036.0 2018-05-16  ...    4.0         1    _11        _1170033   \n307       288.0 2018-05-30  ...   11.0         1  P5300        P5300278   \n489       725.0 2018-06-01  ...  -16.0         1  P6010        P6010742   \n1704     1579.0 2018-09-07  ...    2.0         1    NaN             NaN   \n1855     1776.0 2018-09-09  ... -198.0         1    NaN             NaN   \n2470     1621.0 2020-05-04  ...    4.0         1    NaN             NaN   \n3171      243.0 2019-10-28  ... -298.0         2    NaN             NaN   \n3177      557.0 2019-10-28  ...    3.0         3    NaN             NaN   \n3243      697.0 2019-10-28  ... -271.0         3    NaN             NaN   \n\n      photostopFull  photostartold photostopOld  month  day  images_count  \n144        _1170002            NaN            2      5   16           5.0  \n160        _1170036             33           36      5   16           4.0  \n307        P5300288            NaN          NaN      5   30          11.0  \n489        P6010725            NaN          NaN      6    1         -16.0  \n1704            NaN            NaN          NaN      9    7         102.0  \n1855            NaN            NaN          NaN      9    9        -198.0  \n2470            NaN            NaN          NaN      5    4           4.0  \n3171            NaN            NaN          NaN     10   28        -298.0  \n3177            NaN            NaN          NaN     10   28           4.0  \n3243            NaN            NaN          NaN     10   28        -271.0  \n\n[10 rows x 29 columns]",
      "text/html": "<div>\n<style scoped>\n    .dataframe tbody tr th:only-of-type {\n        vertical-align: middle;\n    }\n\n    .dataframe tbody tr th {\n        vertical-align: top;\n    }\n\n    .dataframe thead th {\n        text-align: right;\n    }\n</style>\n<table border=\"1\" class=\"dataframe\">\n  <thead>\n    <tr style=\"text-align: right;\">\n      <th></th>\n      <th>RowNumber</th>\n      <th>pit</th>\n      <th>species</th>\n      <th>length</th>\n      <th>sex</th>\n      <th>spawning</th>\n      <th>recap</th>\n      <th>photostart</th>\n      <th>photostop</th>\n      <th>date</th>\n      <th>...</th>\n      <th>nfotos</th>\n      <th>photoObs</th>\n      <th>Prefix</th>\n      <th>photostartFull</th>\n      <th>photostopFull</th>\n      <th>photostartold</th>\n      <th>photostopOld</th>\n      <th>month</th>\n      <th>day</th>\n      <th>images_count</th>\n    </tr>\n  </thead>\n  <tbody>\n    <tr>\n      <th>144</th>\n      <td>2248</td>\n      <td>424810</td>\n      <td>grønngylt</td>\n      <td>169</td>\n      <td>m</td>\n      <td>0.0</td>\n      <td>0.0</td>\n      <td>998.0</td>\n      <td>1002.0</td>\n      <td>2018-05-16</td>\n      <td>...</td>\n      <td>4.0</td>\n      <td>1</td>\n      <td>_1160</td>\n      <td>_1160998</td>\n      <td>_1170002</td>\n      <td>NaN</td>\n      <td>2</td>\n      <td>5</td>\n      <td>16</td>\n      <td>5.0</td>\n    </tr>\n    <tr>\n      <th>160</th>\n      <td>2198</td>\n      <td>424680</td>\n      <td>grønngylt</td>\n      <td>113</td>\n      <td>m</td>\n      <td>0.0</td>\n      <td>0.0</td>\n      <td>1033.0</td>\n      <td>1036.0</td>\n      <td>2018-05-16</td>\n      <td>...</td>\n      <td>4.0</td>\n      <td>1</td>\n      <td>_11</td>\n      <td>_1170033</td>\n      <td>_1170036</td>\n      <td>33</td>\n      <td>36</td>\n      <td>5</td>\n      <td>16</td>\n      <td>4.0</td>\n    </tr>\n    <tr>\n      <th>307</th>\n      <td>1843</td>\n      <td>423593</td>\n      <td>grønngylt</td>\n      <td>113</td>\n      <td>m</td>\n      <td>0.0</td>\n      <td>0.0</td>\n      <td>278.0</td>\n      <td>288.0</td>\n      <td>2018-05-30</td>\n      <td>...</td>\n      <td>11.0</td>\n      <td>1</td>\n      <td>P5300</td>\n      <td>P5300278</td>\n      <td>P5300288</td>\n      <td>NaN</td>\n      <td>NaN</td>\n      <td>5</td>\n      <td>30</td>\n      <td>11.0</td>\n    </tr>\n    <tr>\n      <th>489</th>\n      <td>1806</td>\n      <td>423491</td>\n      <td>grønngylt</td>\n      <td>115</td>\n      <td>m</td>\n      <td>0.0</td>\n      <td>0.0</td>\n      <td>742.0</td>\n      <td>725.0</td>\n      <td>2018-06-01</td>\n      <td>...</td>\n      <td>-16.0</td>\n      <td>1</td>\n      <td>P6010</td>\n      <td>P6010742</td>\n      <td>P6010725</td>\n      <td>NaN</td>\n      <td>NaN</td>\n      <td>6</td>\n      <td>1</td>\n      <td>-16.0</td>\n    </tr>\n    <tr>\n      <th>1704</th>\n      <td>2647</td>\n      <td>430788</td>\n      <td>grønngylt</td>\n      <td>162</td>\n      <td>m</td>\n      <td>0.0</td>\n      <td>0.0</td>\n      <td>1478.0</td>\n      <td>1579.0</td>\n      <td>2018-09-07</td>\n      <td>...</td>\n      <td>2.0</td>\n      <td>1</td>\n      <td>NaN</td>\n      <td>NaN</td>\n      <td>NaN</td>\n      <td>NaN</td>\n      <td>NaN</td>\n      <td>9</td>\n      <td>7</td>\n      <td>102.0</td>\n    </tr>\n    <tr>\n      <th>1855</th>\n      <td>2701</td>\n      <td>430913</td>\n      <td>grønngylt</td>\n      <td>143</td>\n      <td>f</td>\n      <td>0.0</td>\n      <td>0.0</td>\n      <td>1975.0</td>\n      <td>1776.0</td>\n      <td>2018-09-09</td>\n      <td>...</td>\n      <td>-198.0</td>\n      <td>1</td>\n      <td>NaN</td>\n      <td>NaN</td>\n      <td>NaN</td>\n      <td>NaN</td>\n      <td>NaN</td>\n      <td>9</td>\n      <td>9</td>\n      <td>-198.0</td>\n    </tr>\n    <tr>\n      <th>2470</th>\n      <td>3216</td>\n      <td>443787</td>\n      <td>grønngylt</td>\n      <td>122</td>\n      <td>m</td>\n      <td>0.0</td>\n      <td>0.0</td>\n      <td>1618.0</td>\n      <td>1621.0</td>\n      <td>2020-05-04</td>\n      <td>...</td>\n      <td>4.0</td>\n      <td>1</td>\n      <td>NaN</td>\n      <td>NaN</td>\n      <td>NaN</td>\n      <td>NaN</td>\n      <td>NaN</td>\n      <td>5</td>\n      <td>4</td>\n      <td>4.0</td>\n    </tr>\n    <tr>\n      <th>3171</th>\n      <td>18</td>\n      <td>201262</td>\n      <td>grønngylt</td>\n      <td>183</td>\n      <td>m</td>\n      <td>0.0</td>\n      <td>NaN</td>\n      <td>542.0</td>\n      <td>243.0</td>\n      <td>2019-10-28</td>\n      <td>...</td>\n      <td>-298.0</td>\n      <td>2</td>\n      <td>NaN</td>\n      <td>NaN</td>\n      <td>NaN</td>\n      <td>NaN</td>\n      <td>NaN</td>\n      <td>10</td>\n      <td>28</td>\n      <td>-298.0</td>\n    </tr>\n    <tr>\n      <th>3177</th>\n      <td>1187</td>\n      <td>421761</td>\n      <td>grønngylt</td>\n      <td>138</td>\n      <td>m</td>\n      <td>0.0</td>\n      <td>NaN</td>\n      <td>554.0</td>\n      <td>557.0</td>\n      <td>2019-10-28</td>\n      <td>...</td>\n      <td>3.0</td>\n      <td>3</td>\n      <td>NaN</td>\n      <td>NaN</td>\n      <td>NaN</td>\n      <td>NaN</td>\n      <td>NaN</td>\n      <td>10</td>\n      <td>28</td>\n      <td>4.0</td>\n    </tr>\n    <tr>\n      <th>3243</th>\n      <td>1252</td>\n      <td>421891</td>\n      <td>grønngylt</td>\n      <td>127</td>\n      <td>f</td>\n      <td>0.0</td>\n      <td>NaN</td>\n      <td>969.0</td>\n      <td>697.0</td>\n      <td>2019-10-28</td>\n      <td>...</td>\n      <td>-271.0</td>\n      <td>3</td>\n      <td>NaN</td>\n      <td>NaN</td>\n      <td>NaN</td>\n      <td>NaN</td>\n      <td>NaN</td>\n      <td>10</td>\n      <td>28</td>\n      <td>-271.0</td>\n    </tr>\n  </tbody>\n</table>\n<p>10 rows × 29 columns</p>\n</div>"
     },
     "execution_count": 10,
     "metadata": {},
     "output_type": "execute_result"
    }
   ],
   "source": [
    "# Rader som med høy sansynlighet er feil\n",
    "df_gg[(df_gg['images_count'] <= 0) | (df_gg['images_count'] >= 4)]\n"
   ],
   "metadata": {
    "collapsed": false,
    "pycharm": {
     "name": "#%%\n"
    }
   }
  },
  {
   "cell_type": "code",
   "execution_count": 11,
   "outputs": [],
   "source": [
    "# Checks whether there is overlap between photostart and photostop\n",
    "# Nevermind, duplicates are valid\n",
    "# indices = []\n",
    "# for i, r in df_gg.iterrows():\n",
    "#     for j, s in df_gg.iterrows():\n",
    "#\n",
    "#         rstart = int(r['photostart'])\n",
    "#         sstart = int(s['photostart'])\n",
    "#         if np.isnan(r['photostop']):\n",
    "#             rstop = rstart\n",
    "#         else:\n",
    "#             rstop = int(r['photostop'])\n",
    "#         if np.isnan(s['photostop']):\n",
    "#             sstop = sstart\n",
    "#         else:\n",
    "#             sstop = int(s['photostop'])\n",
    "#\n",
    "#         target = range(rstart, rstop)\n",
    "#         compare = range(sstart, sstop)\n",
    "#         match = np.any(np.in1d(target, compare))\n",
    "#\n",
    "#         if match:\n",
    "#             indices.append(i)\n",
    "#             indices.append(j)\n",
    "#\n",
    "# df_gg.iloc[indices,:]"
   ],
   "metadata": {
    "collapsed": false,
    "pycharm": {
     "name": "#%%\n"
    }
   }
  },
  {
   "cell_type": "code",
   "execution_count": 12,
   "outputs": [
    {
     "data": {
      "text/plain": "count    3230.000000\nmean     1398.377399\nstd       862.478485\nmin         1.000000\n25%       694.500000\n50%      1351.000000\n75%      1953.750000\nmax      4372.000000\nName: photostart, dtype: float64"
     },
     "execution_count": 12,
     "metadata": {},
     "output_type": "execute_result"
    }
   ],
   "source": [
    "df_gg['photostart'].describe()"
   ],
   "metadata": {
    "collapsed": false,
    "pycharm": {
     "name": "#%%\n"
    }
   }
  },
  {
   "cell_type": "code",
   "execution_count": 13,
   "outputs": [
    {
     "data": {
      "text/plain": "2.0    2997\n1.0       1\nName: images_count, dtype: int64"
     },
     "execution_count": 13,
     "metadata": {},
     "output_type": "execute_result"
    }
   ],
   "source": [
    "# Filtrerer ut de som kanskje er feil\n",
    "df_gg_f = df_gg[(df_gg['images_count'] > 0) & (df_gg['images_count'] <= 2)]\n",
    "df_gg_f['images_count'].value_counts()\n"
   ],
   "metadata": {
    "collapsed": false,
    "pycharm": {
     "name": "#%%\n"
    }
   }
  },
  {
   "cell_type": "code",
   "execution_count": 14,
   "outputs": [
    {
     "data": {
      "text/plain": "     RowNumber      pit    species  length sex  spawning  recap  photostart  \\\n3013      3452  TAGLOSS  grønngylt     138   m       0.0    NaN      1224.0   \n3025      3451  TAGLOSS  grønngylt     132   m       0.0    NaN      1248.0   \n\n      photostop       date  ... nfotos  photoObs Prefix  photostartFull  \\\n3013     1225.0 2020-05-01  ...    2.0         2    NaN             NaN   \n3025     1249.0 2020-05-01  ...    2.0         2    NaN             NaN   \n\n      photostopFull  photostartold photostopOld  month  day  images_count  \n3013            NaN            NaN          NaN      5    1           2.0  \n3025            NaN            NaN          NaN      5    1           2.0  \n\n[2 rows x 29 columns]",
      "text/html": "<div>\n<style scoped>\n    .dataframe tbody tr th:only-of-type {\n        vertical-align: middle;\n    }\n\n    .dataframe tbody tr th {\n        vertical-align: top;\n    }\n\n    .dataframe thead th {\n        text-align: right;\n    }\n</style>\n<table border=\"1\" class=\"dataframe\">\n  <thead>\n    <tr style=\"text-align: right;\">\n      <th></th>\n      <th>RowNumber</th>\n      <th>pit</th>\n      <th>species</th>\n      <th>length</th>\n      <th>sex</th>\n      <th>spawning</th>\n      <th>recap</th>\n      <th>photostart</th>\n      <th>photostop</th>\n      <th>date</th>\n      <th>...</th>\n      <th>nfotos</th>\n      <th>photoObs</th>\n      <th>Prefix</th>\n      <th>photostartFull</th>\n      <th>photostopFull</th>\n      <th>photostartold</th>\n      <th>photostopOld</th>\n      <th>month</th>\n      <th>day</th>\n      <th>images_count</th>\n    </tr>\n  </thead>\n  <tbody>\n    <tr>\n      <th>3013</th>\n      <td>3452</td>\n      <td>TAGLOSS</td>\n      <td>grønngylt</td>\n      <td>138</td>\n      <td>m</td>\n      <td>0.0</td>\n      <td>NaN</td>\n      <td>1224.0</td>\n      <td>1225.0</td>\n      <td>2020-05-01</td>\n      <td>...</td>\n      <td>2.0</td>\n      <td>2</td>\n      <td>NaN</td>\n      <td>NaN</td>\n      <td>NaN</td>\n      <td>NaN</td>\n      <td>NaN</td>\n      <td>5</td>\n      <td>1</td>\n      <td>2.0</td>\n    </tr>\n    <tr>\n      <th>3025</th>\n      <td>3451</td>\n      <td>TAGLOSS</td>\n      <td>grønngylt</td>\n      <td>132</td>\n      <td>m</td>\n      <td>0.0</td>\n      <td>NaN</td>\n      <td>1248.0</td>\n      <td>1249.0</td>\n      <td>2020-05-01</td>\n      <td>...</td>\n      <td>2.0</td>\n      <td>2</td>\n      <td>NaN</td>\n      <td>NaN</td>\n      <td>NaN</td>\n      <td>NaN</td>\n      <td>NaN</td>\n      <td>5</td>\n      <td>1</td>\n      <td>2.0</td>\n    </tr>\n  </tbody>\n</table>\n<p>2 rows × 29 columns</p>\n</div>"
     },
     "execution_count": 14,
     "metadata": {},
     "output_type": "execute_result"
    }
   ],
   "source": [
    "# Ikke numerisk pit\n",
    "df_gg_f[df_gg_f['pit'].apply(lambda x: not x.isnumeric())]"
   ],
   "metadata": {
    "collapsed": false,
    "pycharm": {
     "name": "#%%\n"
    }
   }
  },
  {
   "cell_type": "code",
   "execution_count": 15,
   "outputs": [
    {
     "data": {
      "text/plain": "RowNumber                 object\npit                        int64\nspecies                   object\nlength                     int64\nsex                       object\nspawning                 float64\nrecap                    float64\nphotostart               float64\nphotostop                float64\ndate              datetime64[ns]\nPeriod                    object\ndayseq                   float64\narea                      object\ncrypto                   float64\nskade                    float64\nløpernummer              float64\ndataset                   object\nphotostart2              float64\nphotostop2               float64\nnfotos                   float64\nphotoObs                   int64\nPrefix                    object\nphotostartFull            object\nphotostopFull             object\nphotostartold             object\nphotostopOld              object\nmonth                      int64\nday                        int64\nimages_count             float64\ndtype: object"
     },
     "execution_count": 15,
     "metadata": {},
     "output_type": "execute_result"
    }
   ],
   "source": [
    "# Fjerne ikke numeriske pit rader\n",
    "df_gg_f = df_gg_f[df_gg_f['pit'].apply(lambda x: x.isnumeric())]\n",
    "df_gg_f['pit'] = pd.to_numeric(df_gg_f['pit'])\n",
    "df_gg_f.dtypes"
   ],
   "metadata": {
    "collapsed": false,
    "pycharm": {
     "name": "#%%\n"
    }
   }
  },
  {
   "cell_type": "code",
   "execution_count": 16,
   "outputs": [
    {
     "data": {
      "text/plain": "count       2996.000000\nmean      405911.752003\nstd       105106.134126\nmin        40885.000000\n25%       420890.500000\n50%       423042.500000\n75%       430248.000000\nmax      4219725.000000\nName: pit, dtype: object"
     },
     "execution_count": 16,
     "metadata": {},
     "output_type": "execute_result"
    }
   ],
   "source": [
    "df_gg_f['pit'].describe().apply(lambda x: format(x, 'f'))"
   ],
   "metadata": {
    "collapsed": false,
    "pycharm": {
     "name": "#%%\n"
    }
   }
  },
  {
   "cell_type": "code",
   "execution_count": 17,
   "outputs": [
    {
     "data": {
      "text/plain": "1    2447\n2     227\n3      29\n4       2\nName: species, dtype: int64"
     },
     "execution_count": 17,
     "metadata": {},
     "output_type": "execute_result"
    }
   ],
   "source": [
    "# TODO: Her må det tas i betraktning hvor mange bilder som er oppført på hver record\n",
    "# Viser hvor mange individer har et vist antall bilder\n",
    "pit_group = df_gg_f.groupby(['pit'])['species']\n",
    "pit_group.count().value_counts()"
   ],
   "metadata": {
    "collapsed": false,
    "pycharm": {
     "name": "#%%\n"
    }
   }
  },
  {
   "cell_type": "code",
   "execution_count": 18,
   "outputs": [],
   "source": [
    "df_gg_f.to_csv(\"pandas.csv\",\n",
    "               sep=\";\",\n",
    "               encoding='utf-8',\n",
    "               index=False)"
   ],
   "metadata": {
    "collapsed": false,
    "pycharm": {
     "name": "#%%\n"
    }
   }
  },
  {
   "cell_type": "code",
   "execution_count": 18,
   "outputs": [],
   "source": [],
   "metadata": {
    "collapsed": false,
    "pycharm": {
     "name": "#%%\n"
    }
   }
  }
 ],
 "metadata": {
  "kernelspec": {
   "display_name": "Python 3",
   "language": "python",
   "name": "python3"
  },
  "language_info": {
   "codemirror_mode": {
    "name": "ipython",
    "version": 2
   },
   "file_extension": ".py",
   "mimetype": "text/x-python",
   "name": "python",
   "nbconvert_exporter": "python",
   "pygments_lexer": "ipython2",
   "version": "2.7.6"
  }
 },
 "nbformat": 4,
 "nbformat_minor": 0
}