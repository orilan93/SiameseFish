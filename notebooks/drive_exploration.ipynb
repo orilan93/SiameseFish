{
 "cells": [
  {
   "cell_type": "code",
   "execution_count": 139,
   "metadata": {
    "collapsed": true
   },
   "outputs": [
    {
     "name": "stderr",
     "output_type": "stream",
     "text": [
      "<ipython-input-139-8e3b57501b8e>:10: FutureWarning: The pandas.datetime class is deprecated and will be removed from pandas in a future version. Import from datetime module instead.\n",
      "  dateparser = lambda x: pd.datetime.strptime(x, '%d.%m.%Y')\n"
     ]
    },
    {
     "data": {
      "text/plain": "pit                    object\nløpernummer            object\nspecies                object\nlength                float64\nsex                    object\nspawning              float64\nrecap                 float64\nprefix                 object\nphotostart              int64\nphotostop             float64\ndate           datetime64[ns]\nPeriod                 object\ndayseq                float64\narea                   object\ncrypto                float64\nskade                 float64\nsexorig                object\ndataset                object\nnfotos                  int64\nphotoObs              float64\nTemp_løp              float64\ndtype: object"
     },
     "execution_count": 139,
     "metadata": {},
     "output_type": "execute_result"
    }
   ],
   "source": [
    "import pandas as pd\n",
    "import os\n",
    "import numpy as np\n",
    "\n",
    "SOURCE_DIR = 'G:\\\\Mugshots'\n",
    "DEST_DIR = '../../data'\n",
    "FILENAME1 = 'photoFeltGrønngylt_complete2020_addbrygga.csv'\n",
    "FILENAME2 = 'RecapPIerFlødevigen.csv'\n",
    "\n",
    "dateparser = lambda x: pd.datetime.strptime(x, '%d.%m.%Y')\n",
    "\n",
    "df1 = pd.read_csv(os.path.join(SOURCE_DIR, FILENAME1),\n",
    "                 encoding='utf-8',\n",
    "                 sep=';',\n",
    "                 parse_dates=['date'],\n",
    "                 date_parser=dateparser)\n",
    "\n",
    "df2 = pd.read_csv(os.path.join(SOURCE_DIR, FILENAME2),\n",
    "                 encoding='latin-1',\n",
    "                 sep=';',\n",
    "                 parse_dates=['date'],\n",
    "                 date_parser=dateparser)\n",
    "\n",
    "df = pd.concat([df1, df2], ignore_index=True)\n",
    "\n",
    "df.dtypes"
   ]
  },
  {
   "cell_type": "code",
   "execution_count": 140,
   "outputs": [
    {
     "data": {
      "text/plain": "      pit løpernummer    species  length sex  spawning  recap prefix  \\\n0  131073       25900  grønngylt   147.0   f       0.0    0.0   P702   \n1  201164       25403  grønngylt   210.0   m       2.0    1.0   P701   \n2  201179       10083  grønngylt   162.0   m       1.0    1.0   P707   \n3  201230       10432  grønngylt   136.0   f       0.0    1.0   P709   \n4  201262           1  grønngylt   183.0   m       0.0    NaN  PA280   \n\n   photostart  photostop  ... Period  dayseq  area crypto  skade  sexorig  \\\n0        4337     4338.0  ...     10  1279.0     B    NaN    NaN        f   \n1        3930     3931.0  ...     10  1278.0     B    NaN    NaN        m   \n2        1355     1356.0  ...      3   553.0     L    NaN    NaN        m   \n3        1573     1574.0  ...      3   555.0     L    NaN    NaN        f   \n4         542      543.0  ...    Oct     NaN   NaN    NaN    NaN      NaN   \n\n     dataset nfotos  photoObs  Temp_løp  \n0  FieldMain      2       1.0       NaN  \n1  FieldMain      2       1.0       NaN  \n2  FieldMain      2       1.0       NaN  \n3  FieldMain      2       1.0       NaN  \n4    LabMain      2       1.0       NaN  \n\n[5 rows x 21 columns]",
      "text/html": "<div>\n<style scoped>\n    .dataframe tbody tr th:only-of-type {\n        vertical-align: middle;\n    }\n\n    .dataframe tbody tr th {\n        vertical-align: top;\n    }\n\n    .dataframe thead th {\n        text-align: right;\n    }\n</style>\n<table border=\"1\" class=\"dataframe\">\n  <thead>\n    <tr style=\"text-align: right;\">\n      <th></th>\n      <th>pit</th>\n      <th>løpernummer</th>\n      <th>species</th>\n      <th>length</th>\n      <th>sex</th>\n      <th>spawning</th>\n      <th>recap</th>\n      <th>prefix</th>\n      <th>photostart</th>\n      <th>photostop</th>\n      <th>...</th>\n      <th>Period</th>\n      <th>dayseq</th>\n      <th>area</th>\n      <th>crypto</th>\n      <th>skade</th>\n      <th>sexorig</th>\n      <th>dataset</th>\n      <th>nfotos</th>\n      <th>photoObs</th>\n      <th>Temp_løp</th>\n    </tr>\n  </thead>\n  <tbody>\n    <tr>\n      <th>0</th>\n      <td>131073</td>\n      <td>25900</td>\n      <td>grønngylt</td>\n      <td>147.0</td>\n      <td>f</td>\n      <td>0.0</td>\n      <td>0.0</td>\n      <td>P702</td>\n      <td>4337</td>\n      <td>4338.0</td>\n      <td>...</td>\n      <td>10</td>\n      <td>1279.0</td>\n      <td>B</td>\n      <td>NaN</td>\n      <td>NaN</td>\n      <td>f</td>\n      <td>FieldMain</td>\n      <td>2</td>\n      <td>1.0</td>\n      <td>NaN</td>\n    </tr>\n    <tr>\n      <th>1</th>\n      <td>201164</td>\n      <td>25403</td>\n      <td>grønngylt</td>\n      <td>210.0</td>\n      <td>m</td>\n      <td>2.0</td>\n      <td>1.0</td>\n      <td>P701</td>\n      <td>3930</td>\n      <td>3931.0</td>\n      <td>...</td>\n      <td>10</td>\n      <td>1278.0</td>\n      <td>B</td>\n      <td>NaN</td>\n      <td>NaN</td>\n      <td>m</td>\n      <td>FieldMain</td>\n      <td>2</td>\n      <td>1.0</td>\n      <td>NaN</td>\n    </tr>\n    <tr>\n      <th>2</th>\n      <td>201179</td>\n      <td>10083</td>\n      <td>grønngylt</td>\n      <td>162.0</td>\n      <td>m</td>\n      <td>1.0</td>\n      <td>1.0</td>\n      <td>P707</td>\n      <td>1355</td>\n      <td>1356.0</td>\n      <td>...</td>\n      <td>3</td>\n      <td>553.0</td>\n      <td>L</td>\n      <td>NaN</td>\n      <td>NaN</td>\n      <td>m</td>\n      <td>FieldMain</td>\n      <td>2</td>\n      <td>1.0</td>\n      <td>NaN</td>\n    </tr>\n    <tr>\n      <th>3</th>\n      <td>201230</td>\n      <td>10432</td>\n      <td>grønngylt</td>\n      <td>136.0</td>\n      <td>f</td>\n      <td>0.0</td>\n      <td>1.0</td>\n      <td>P709</td>\n      <td>1573</td>\n      <td>1574.0</td>\n      <td>...</td>\n      <td>3</td>\n      <td>555.0</td>\n      <td>L</td>\n      <td>NaN</td>\n      <td>NaN</td>\n      <td>f</td>\n      <td>FieldMain</td>\n      <td>2</td>\n      <td>1.0</td>\n      <td>NaN</td>\n    </tr>\n    <tr>\n      <th>4</th>\n      <td>201262</td>\n      <td>1</td>\n      <td>grønngylt</td>\n      <td>183.0</td>\n      <td>m</td>\n      <td>0.0</td>\n      <td>NaN</td>\n      <td>PA280</td>\n      <td>542</td>\n      <td>543.0</td>\n      <td>...</td>\n      <td>Oct</td>\n      <td>NaN</td>\n      <td>NaN</td>\n      <td>NaN</td>\n      <td>NaN</td>\n      <td>NaN</td>\n      <td>LabMain</td>\n      <td>2</td>\n      <td>1.0</td>\n      <td>NaN</td>\n    </tr>\n  </tbody>\n</table>\n<p>5 rows × 21 columns</p>\n</div>"
     },
     "execution_count": 140,
     "metadata": {},
     "output_type": "execute_result"
    }
   ],
   "source": [
    "df.head()"
   ],
   "metadata": {
    "collapsed": false,
    "pycharm": {
     "name": "#%%\n"
    }
   }
  },
  {
   "cell_type": "code",
   "execution_count": 141,
   "outputs": [
    {
     "data": {
      "text/plain": "grønngylt    5181\nName: species, dtype: int64"
     },
     "execution_count": 141,
     "metadata": {},
     "output_type": "execute_result"
    }
   ],
   "source": [
    "df['species'] = df['species'].apply(lambda x: 'grønngylt' if x == 'Grønngylt' else x)\n",
    "df['species'].value_counts()"
   ],
   "metadata": {
    "collapsed": false,
    "pycharm": {
     "name": "#%%\n"
    }
   }
  },
  {
   "cell_type": "code",
   "execution_count": 142,
   "outputs": [
    {
     "data": {
      "text/plain": "      pit løpernummer    species  length sex  spawning  recap prefix  \\\n0  131073       25900  grønngylt   147.0   f       0.0    0.0   P702   \n1  201164       25403  grønngylt   210.0   m       2.0    1.0   P701   \n2  201179       10083  grønngylt   162.0   m       1.0    1.0   P707   \n3  201230       10432  grønngylt   136.0   f       0.0    1.0   P709   \n4  201262           1  grønngylt   183.0   m       0.0    NaN  PA280   \n\n   photostart  photostop  ... area crypto  skade sexorig    dataset  nfotos  \\\n0        4337     4338.0  ...    B    NaN    NaN       f  FieldMain       2   \n1        3930     3931.0  ...    B    NaN    NaN       m  FieldMain       2   \n2        1355     1356.0  ...    L    NaN    NaN       m  FieldMain       2   \n3        1573     1574.0  ...    L    NaN    NaN       f  FieldMain       2   \n4         542      543.0  ...  NaN    NaN    NaN     NaN    LabMain       2   \n\n  photoObs Temp_løp  month  day  \n0      1.0      NaN      7    2  \n1      1.0      NaN      7    1  \n2      1.0      NaN      7    7  \n3      1.0      NaN      7    9  \n4      1.0      NaN     10   28  \n\n[5 rows x 23 columns]",
      "text/html": "<div>\n<style scoped>\n    .dataframe tbody tr th:only-of-type {\n        vertical-align: middle;\n    }\n\n    .dataframe tbody tr th {\n        vertical-align: top;\n    }\n\n    .dataframe thead th {\n        text-align: right;\n    }\n</style>\n<table border=\"1\" class=\"dataframe\">\n  <thead>\n    <tr style=\"text-align: right;\">\n      <th></th>\n      <th>pit</th>\n      <th>løpernummer</th>\n      <th>species</th>\n      <th>length</th>\n      <th>sex</th>\n      <th>spawning</th>\n      <th>recap</th>\n      <th>prefix</th>\n      <th>photostart</th>\n      <th>photostop</th>\n      <th>...</th>\n      <th>area</th>\n      <th>crypto</th>\n      <th>skade</th>\n      <th>sexorig</th>\n      <th>dataset</th>\n      <th>nfotos</th>\n      <th>photoObs</th>\n      <th>Temp_løp</th>\n      <th>month</th>\n      <th>day</th>\n    </tr>\n  </thead>\n  <tbody>\n    <tr>\n      <th>0</th>\n      <td>131073</td>\n      <td>25900</td>\n      <td>grønngylt</td>\n      <td>147.0</td>\n      <td>f</td>\n      <td>0.0</td>\n      <td>0.0</td>\n      <td>P702</td>\n      <td>4337</td>\n      <td>4338.0</td>\n      <td>...</td>\n      <td>B</td>\n      <td>NaN</td>\n      <td>NaN</td>\n      <td>f</td>\n      <td>FieldMain</td>\n      <td>2</td>\n      <td>1.0</td>\n      <td>NaN</td>\n      <td>7</td>\n      <td>2</td>\n    </tr>\n    <tr>\n      <th>1</th>\n      <td>201164</td>\n      <td>25403</td>\n      <td>grønngylt</td>\n      <td>210.0</td>\n      <td>m</td>\n      <td>2.0</td>\n      <td>1.0</td>\n      <td>P701</td>\n      <td>3930</td>\n      <td>3931.0</td>\n      <td>...</td>\n      <td>B</td>\n      <td>NaN</td>\n      <td>NaN</td>\n      <td>m</td>\n      <td>FieldMain</td>\n      <td>2</td>\n      <td>1.0</td>\n      <td>NaN</td>\n      <td>7</td>\n      <td>1</td>\n    </tr>\n    <tr>\n      <th>2</th>\n      <td>201179</td>\n      <td>10083</td>\n      <td>grønngylt</td>\n      <td>162.0</td>\n      <td>m</td>\n      <td>1.0</td>\n      <td>1.0</td>\n      <td>P707</td>\n      <td>1355</td>\n      <td>1356.0</td>\n      <td>...</td>\n      <td>L</td>\n      <td>NaN</td>\n      <td>NaN</td>\n      <td>m</td>\n      <td>FieldMain</td>\n      <td>2</td>\n      <td>1.0</td>\n      <td>NaN</td>\n      <td>7</td>\n      <td>7</td>\n    </tr>\n    <tr>\n      <th>3</th>\n      <td>201230</td>\n      <td>10432</td>\n      <td>grønngylt</td>\n      <td>136.0</td>\n      <td>f</td>\n      <td>0.0</td>\n      <td>1.0</td>\n      <td>P709</td>\n      <td>1573</td>\n      <td>1574.0</td>\n      <td>...</td>\n      <td>L</td>\n      <td>NaN</td>\n      <td>NaN</td>\n      <td>f</td>\n      <td>FieldMain</td>\n      <td>2</td>\n      <td>1.0</td>\n      <td>NaN</td>\n      <td>7</td>\n      <td>9</td>\n    </tr>\n    <tr>\n      <th>4</th>\n      <td>201262</td>\n      <td>1</td>\n      <td>grønngylt</td>\n      <td>183.0</td>\n      <td>m</td>\n      <td>0.0</td>\n      <td>NaN</td>\n      <td>PA280</td>\n      <td>542</td>\n      <td>543.0</td>\n      <td>...</td>\n      <td>NaN</td>\n      <td>NaN</td>\n      <td>NaN</td>\n      <td>NaN</td>\n      <td>LabMain</td>\n      <td>2</td>\n      <td>1.0</td>\n      <td>NaN</td>\n      <td>10</td>\n      <td>28</td>\n    </tr>\n  </tbody>\n</table>\n<p>5 rows × 23 columns</p>\n</div>"
     },
     "execution_count": 142,
     "metadata": {},
     "output_type": "execute_result"
    }
   ],
   "source": [
    "# Oprette kolonne for dag og måned\n",
    "df['month'] = pd.DatetimeIndex(df['date']).month\n",
    "df['day'] = pd.DatetimeIndex(df['date']).day\n",
    "df.head()"
   ],
   "metadata": {
    "collapsed": false,
    "pycharm": {
     "name": "#%%\n"
    }
   }
  },
  {
   "cell_type": "code",
   "execution_count": 143,
   "outputs": [
    {
     "name": "stdout",
     "output_type": "stream",
     "text": [
      "0\n",
      "184\n"
     ]
    }
   ],
   "source": [
    "# Kolonner må være float for å kunne håndtere nan\n",
    "print(df['photostart'].isna().sum())\n",
    "print(df['photostop'].isna().sum())"
   ],
   "metadata": {
    "collapsed": false,
    "pycharm": {
     "name": "#%%\n"
    }
   }
  },
  {
   "cell_type": "code",
   "execution_count": 144,
   "outputs": [
    {
     "data": {
      "text/plain": "2.0     4745\n1.0      293\n3.0      115\n10.0      19\n4.0        7\n5.0        1\n11.0       1\nName: images_count, dtype: int64"
     },
     "execution_count": 144,
     "metadata": {},
     "output_type": "execute_result"
    }
   ],
   "source": [
    "def count_images(row):\n",
    "    return 1 if pd.isna(row['photostop']) else row['photostop'] - row['photostart'] + 1\n",
    "\n",
    "df['images_count'] = df.apply(lambda row: count_images(row), axis=1)\n",
    "df['images_count'].value_counts()"
   ],
   "metadata": {
    "collapsed": false,
    "pycharm": {
     "name": "#%%\n"
    }
   }
  },
  {
   "cell_type": "code",
   "execution_count": 145,
   "outputs": [
    {
     "data": {
      "text/plain": "Empty DataFrame\nColumns: [pit, løpernummer, species, length, sex, spawning, recap, prefix, photostart, photostop, date, Period, dayseq, area, crypto, skade, sexorig, dataset, nfotos, photoObs, Temp_løp, month, day, images_count]\nIndex: []\n\n[0 rows x 24 columns]",
      "text/html": "<div>\n<style scoped>\n    .dataframe tbody tr th:only-of-type {\n        vertical-align: middle;\n    }\n\n    .dataframe tbody tr th {\n        vertical-align: top;\n    }\n\n    .dataframe thead th {\n        text-align: right;\n    }\n</style>\n<table border=\"1\" class=\"dataframe\">\n  <thead>\n    <tr style=\"text-align: right;\">\n      <th></th>\n      <th>pit</th>\n      <th>løpernummer</th>\n      <th>species</th>\n      <th>length</th>\n      <th>sex</th>\n      <th>spawning</th>\n      <th>recap</th>\n      <th>prefix</th>\n      <th>photostart</th>\n      <th>photostop</th>\n      <th>...</th>\n      <th>crypto</th>\n      <th>skade</th>\n      <th>sexorig</th>\n      <th>dataset</th>\n      <th>nfotos</th>\n      <th>photoObs</th>\n      <th>Temp_løp</th>\n      <th>month</th>\n      <th>day</th>\n      <th>images_count</th>\n    </tr>\n  </thead>\n  <tbody>\n  </tbody>\n</table>\n<p>0 rows × 24 columns</p>\n</div>"
     },
     "execution_count": 145,
     "metadata": {},
     "output_type": "execute_result"
    }
   ],
   "source": [
    "# Are nfotos and images_count the same?\n",
    "df.loc[~(df['nfotos'] == df['images_count'])]"
   ],
   "metadata": {
    "collapsed": false,
    "pycharm": {
     "name": "#%%\n"
    }
   }
  },
  {
   "cell_type": "code",
   "execution_count": 146,
   "outputs": [
    {
     "data": {
      "text/plain": "      pit løpernummer    species  length sex  spawning  recap prefix  \\\n4991  NaN          55  grønngylt   132.0   m       0.0    NaN   P501   \n4992  NaN          43  grønngylt   138.0   m       0.0    NaN   P501   \n\n      photostart  photostop  ... crypto skade  sexorig  dataset  nfotos  \\\n4991        1248     1249.0  ...    NaN   NaN      NaN  LabMain       2   \n4992        1224     1225.0  ...    NaN   NaN      NaN  LabMain       2   \n\n      photoObs Temp_løp month  day  images_count  \n4991       2.0      NaN     5    1           2.0  \n4992       2.0      NaN     5    1           2.0  \n\n[2 rows x 24 columns]",
      "text/html": "<div>\n<style scoped>\n    .dataframe tbody tr th:only-of-type {\n        vertical-align: middle;\n    }\n\n    .dataframe tbody tr th {\n        vertical-align: top;\n    }\n\n    .dataframe thead th {\n        text-align: right;\n    }\n</style>\n<table border=\"1\" class=\"dataframe\">\n  <thead>\n    <tr style=\"text-align: right;\">\n      <th></th>\n      <th>pit</th>\n      <th>løpernummer</th>\n      <th>species</th>\n      <th>length</th>\n      <th>sex</th>\n      <th>spawning</th>\n      <th>recap</th>\n      <th>prefix</th>\n      <th>photostart</th>\n      <th>photostop</th>\n      <th>...</th>\n      <th>crypto</th>\n      <th>skade</th>\n      <th>sexorig</th>\n      <th>dataset</th>\n      <th>nfotos</th>\n      <th>photoObs</th>\n      <th>Temp_løp</th>\n      <th>month</th>\n      <th>day</th>\n      <th>images_count</th>\n    </tr>\n  </thead>\n  <tbody>\n    <tr>\n      <th>4991</th>\n      <td>NaN</td>\n      <td>55</td>\n      <td>grønngylt</td>\n      <td>132.0</td>\n      <td>m</td>\n      <td>0.0</td>\n      <td>NaN</td>\n      <td>P501</td>\n      <td>1248</td>\n      <td>1249.0</td>\n      <td>...</td>\n      <td>NaN</td>\n      <td>NaN</td>\n      <td>NaN</td>\n      <td>LabMain</td>\n      <td>2</td>\n      <td>2.0</td>\n      <td>NaN</td>\n      <td>5</td>\n      <td>1</td>\n      <td>2.0</td>\n    </tr>\n    <tr>\n      <th>4992</th>\n      <td>NaN</td>\n      <td>43</td>\n      <td>grønngylt</td>\n      <td>138.0</td>\n      <td>m</td>\n      <td>0.0</td>\n      <td>NaN</td>\n      <td>P501</td>\n      <td>1224</td>\n      <td>1225.0</td>\n      <td>...</td>\n      <td>NaN</td>\n      <td>NaN</td>\n      <td>NaN</td>\n      <td>LabMain</td>\n      <td>2</td>\n      <td>2.0</td>\n      <td>NaN</td>\n      <td>5</td>\n      <td>1</td>\n      <td>2.0</td>\n    </tr>\n  </tbody>\n</table>\n<p>2 rows × 24 columns</p>\n</div>"
     },
     "execution_count": 146,
     "metadata": {},
     "output_type": "execute_result"
    }
   ],
   "source": [
    "# Finne ikke numeriske pit rader\n",
    "df['pit'] = pd.to_numeric(df['pit'], errors='coerce')\n",
    "df[df['pit'].apply(pd.isna)]"
   ],
   "metadata": {
    "collapsed": false,
    "pycharm": {
     "name": "#%%\n"
    }
   }
  },
  {
   "cell_type": "code",
   "execution_count": 147,
   "outputs": [
    {
     "data": {
      "text/plain": "pit                    float64\nløpernummer             object\nspecies                 object\nlength                 float64\nsex                     object\nspawning               float64\nrecap                  float64\nprefix                  object\nphotostart               int64\nphotostop              float64\ndate            datetime64[ns]\nPeriod                  object\ndayseq                 float64\narea                    object\ncrypto                 float64\nskade                  float64\nsexorig                 object\ndataset                 object\nnfotos                   int64\nphotoObs               float64\nTemp_løp               float64\nmonth                    int64\nday                      int64\nimages_count           float64\ndtype: object"
     },
     "execution_count": 147,
     "metadata": {},
     "output_type": "execute_result"
    }
   ],
   "source": [
    "df = df[df['pit'].apply(lambda x: not pd.isna(x))]\n",
    "df.dtypes"
   ],
   "metadata": {
    "collapsed": false,
    "pycharm": {
     "name": "#%%\n"
    }
   }
  },
  {
   "cell_type": "code",
   "execution_count": 148,
   "outputs": [
    {
     "data": {
      "text/plain": "2     3758\n4      410\n1      229\n3      102\n6       45\n5       28\n10      17\n7        4\n8        3\n12       2\n11       1\nName: nfotos, dtype: int64"
     },
     "execution_count": 148,
     "metadata": {},
     "output_type": "execute_result"
    }
   ],
   "source": [
    "# Hvor mange bilder det er på hvert individ\n",
    "pit_group = df.groupby(['pit'])['nfotos']\n",
    "pit_group.sum().value_counts()"
   ],
   "metadata": {
    "collapsed": false,
    "pycharm": {
     "name": "#%%\n"
    }
   }
  },
  {
   "cell_type": "code",
   "execution_count": 149,
   "outputs": [
    {
     "data": {
      "text/plain": "prefix\nP1160        2\nP5110       13\nP51100       8\n_1160      197\n_11700      28\n_117000      4\nName: prefix, dtype: int64"
     },
     "execution_count": 149,
     "metadata": {},
     "output_type": "execute_result"
    }
   ],
   "source": [
    "df[df['Period'] == '2'].groupby(['prefix'])['prefix'].count()"
   ],
   "metadata": {
    "collapsed": false,
    "pycharm": {
     "name": "#%%\n"
    }
   }
  },
  {
   "cell_type": "code",
   "execution_count": 160,
   "outputs": [
    {
     "data": {
      "text/plain": "           pit løpernummer    species  length sex  spawning  recap  prefix  \\\n0     131073.0       25900  grønngylt   147.0   f       0.0    0.0    P702   \n1     201164.0       25403  grønngylt   210.0   m       2.0    1.0    P701   \n2     201179.0       10083  grønngylt   162.0   m       1.0    1.0    P707   \n3     201230.0       10432  grønngylt   136.0   f       0.0    1.0    P709   \n4     201262.0           1  grønngylt   183.0   m       0.0    NaN   PA280   \n...        ...         ...        ...     ...  ..       ...    ...     ...   \n5176  434128.0         NaN  grønngylt   174.0   m       NaN    NaN  P82400   \n5177  434807.0         NaN  grønngylt   175.0   f       NaN    NaN   P8250   \n5178  434189.0         NaN  grønngylt   102.0   f       NaN    NaN   P8250   \n5179  434322.0         NaN  grønngylt   117.0   f       NaN    NaN   P8250   \n5180  434827.0         NaN  grønngylt   129.0   f       NaN    NaN   P8250   \n\n      photostart  photostop  ... skade sexorig    dataset nfotos  photoObs  \\\n0           4337     4338.0  ...   NaN       f  FieldMain      2       1.0   \n1           3930     3931.0  ...   NaN       m  FieldMain      2       1.0   \n2           1355     1356.0  ...   NaN       m  FieldMain      2       1.0   \n3           1573     1574.0  ...   NaN       f  FieldMain      2       1.0   \n4            542      543.0  ...   NaN     NaN    LabMain      2       1.0   \n...          ...        ...  ...   ...     ...        ...    ...       ...   \n5176          75        NaN  ...   NaN     NaN        NaN      1       NaN   \n5177         112        NaN  ...   NaN     NaN        NaN      1       NaN   \n5178         115        NaN  ...   NaN     NaN        NaN      1       NaN   \n5179         122        NaN  ...   NaN     NaN        NaN      1       NaN   \n5180         140        NaN  ...   NaN     NaN        NaN      1       NaN   \n\n      Temp_løp month day  images_count  pit_occurance  \n0          NaN     7   2           2.0              1  \n1          NaN     7   1           2.0              1  \n2          NaN     7   7           2.0              1  \n3          NaN     7   9           2.0              1  \n4          NaN    10  28           2.0              1  \n...        ...   ...  ..           ...            ...  \n5176       6.0     8  24           1.0              2  \n5177      14.0     8  25           1.0              3  \n5178       7.0     8  25           1.0              2  \n5179      11.0     8  25           1.0              3  \n5180      15.0     8  25           1.0              2  \n\n[5179 rows x 25 columns]",
      "text/html": "<div>\n<style scoped>\n    .dataframe tbody tr th:only-of-type {\n        vertical-align: middle;\n    }\n\n    .dataframe tbody tr th {\n        vertical-align: top;\n    }\n\n    .dataframe thead th {\n        text-align: right;\n    }\n</style>\n<table border=\"1\" class=\"dataframe\">\n  <thead>\n    <tr style=\"text-align: right;\">\n      <th></th>\n      <th>pit</th>\n      <th>løpernummer</th>\n      <th>species</th>\n      <th>length</th>\n      <th>sex</th>\n      <th>spawning</th>\n      <th>recap</th>\n      <th>prefix</th>\n      <th>photostart</th>\n      <th>photostop</th>\n      <th>...</th>\n      <th>skade</th>\n      <th>sexorig</th>\n      <th>dataset</th>\n      <th>nfotos</th>\n      <th>photoObs</th>\n      <th>Temp_løp</th>\n      <th>month</th>\n      <th>day</th>\n      <th>images_count</th>\n      <th>pit_occurance</th>\n    </tr>\n  </thead>\n  <tbody>\n    <tr>\n      <th>0</th>\n      <td>131073.0</td>\n      <td>25900</td>\n      <td>grønngylt</td>\n      <td>147.0</td>\n      <td>f</td>\n      <td>0.0</td>\n      <td>0.0</td>\n      <td>P702</td>\n      <td>4337</td>\n      <td>4338.0</td>\n      <td>...</td>\n      <td>NaN</td>\n      <td>f</td>\n      <td>FieldMain</td>\n      <td>2</td>\n      <td>1.0</td>\n      <td>NaN</td>\n      <td>7</td>\n      <td>2</td>\n      <td>2.0</td>\n      <td>1</td>\n    </tr>\n    <tr>\n      <th>1</th>\n      <td>201164.0</td>\n      <td>25403</td>\n      <td>grønngylt</td>\n      <td>210.0</td>\n      <td>m</td>\n      <td>2.0</td>\n      <td>1.0</td>\n      <td>P701</td>\n      <td>3930</td>\n      <td>3931.0</td>\n      <td>...</td>\n      <td>NaN</td>\n      <td>m</td>\n      <td>FieldMain</td>\n      <td>2</td>\n      <td>1.0</td>\n      <td>NaN</td>\n      <td>7</td>\n      <td>1</td>\n      <td>2.0</td>\n      <td>1</td>\n    </tr>\n    <tr>\n      <th>2</th>\n      <td>201179.0</td>\n      <td>10083</td>\n      <td>grønngylt</td>\n      <td>162.0</td>\n      <td>m</td>\n      <td>1.0</td>\n      <td>1.0</td>\n      <td>P707</td>\n      <td>1355</td>\n      <td>1356.0</td>\n      <td>...</td>\n      <td>NaN</td>\n      <td>m</td>\n      <td>FieldMain</td>\n      <td>2</td>\n      <td>1.0</td>\n      <td>NaN</td>\n      <td>7</td>\n      <td>7</td>\n      <td>2.0</td>\n      <td>1</td>\n    </tr>\n    <tr>\n      <th>3</th>\n      <td>201230.0</td>\n      <td>10432</td>\n      <td>grønngylt</td>\n      <td>136.0</td>\n      <td>f</td>\n      <td>0.0</td>\n      <td>1.0</td>\n      <td>P709</td>\n      <td>1573</td>\n      <td>1574.0</td>\n      <td>...</td>\n      <td>NaN</td>\n      <td>f</td>\n      <td>FieldMain</td>\n      <td>2</td>\n      <td>1.0</td>\n      <td>NaN</td>\n      <td>7</td>\n      <td>9</td>\n      <td>2.0</td>\n      <td>1</td>\n    </tr>\n    <tr>\n      <th>4</th>\n      <td>201262.0</td>\n      <td>1</td>\n      <td>grønngylt</td>\n      <td>183.0</td>\n      <td>m</td>\n      <td>0.0</td>\n      <td>NaN</td>\n      <td>PA280</td>\n      <td>542</td>\n      <td>543.0</td>\n      <td>...</td>\n      <td>NaN</td>\n      <td>NaN</td>\n      <td>LabMain</td>\n      <td>2</td>\n      <td>1.0</td>\n      <td>NaN</td>\n      <td>10</td>\n      <td>28</td>\n      <td>2.0</td>\n      <td>1</td>\n    </tr>\n    <tr>\n      <th>...</th>\n      <td>...</td>\n      <td>...</td>\n      <td>...</td>\n      <td>...</td>\n      <td>...</td>\n      <td>...</td>\n      <td>...</td>\n      <td>...</td>\n      <td>...</td>\n      <td>...</td>\n      <td>...</td>\n      <td>...</td>\n      <td>...</td>\n      <td>...</td>\n      <td>...</td>\n      <td>...</td>\n      <td>...</td>\n      <td>...</td>\n      <td>...</td>\n      <td>...</td>\n      <td>...</td>\n    </tr>\n    <tr>\n      <th>5176</th>\n      <td>434128.0</td>\n      <td>NaN</td>\n      <td>grønngylt</td>\n      <td>174.0</td>\n      <td>m</td>\n      <td>NaN</td>\n      <td>NaN</td>\n      <td>P82400</td>\n      <td>75</td>\n      <td>NaN</td>\n      <td>...</td>\n      <td>NaN</td>\n      <td>NaN</td>\n      <td>NaN</td>\n      <td>1</td>\n      <td>NaN</td>\n      <td>6.0</td>\n      <td>8</td>\n      <td>24</td>\n      <td>1.0</td>\n      <td>2</td>\n    </tr>\n    <tr>\n      <th>5177</th>\n      <td>434807.0</td>\n      <td>NaN</td>\n      <td>grønngylt</td>\n      <td>175.0</td>\n      <td>f</td>\n      <td>NaN</td>\n      <td>NaN</td>\n      <td>P8250</td>\n      <td>112</td>\n      <td>NaN</td>\n      <td>...</td>\n      <td>NaN</td>\n      <td>NaN</td>\n      <td>NaN</td>\n      <td>1</td>\n      <td>NaN</td>\n      <td>14.0</td>\n      <td>8</td>\n      <td>25</td>\n      <td>1.0</td>\n      <td>3</td>\n    </tr>\n    <tr>\n      <th>5178</th>\n      <td>434189.0</td>\n      <td>NaN</td>\n      <td>grønngylt</td>\n      <td>102.0</td>\n      <td>f</td>\n      <td>NaN</td>\n      <td>NaN</td>\n      <td>P8250</td>\n      <td>115</td>\n      <td>NaN</td>\n      <td>...</td>\n      <td>NaN</td>\n      <td>NaN</td>\n      <td>NaN</td>\n      <td>1</td>\n      <td>NaN</td>\n      <td>7.0</td>\n      <td>8</td>\n      <td>25</td>\n      <td>1.0</td>\n      <td>2</td>\n    </tr>\n    <tr>\n      <th>5179</th>\n      <td>434322.0</td>\n      <td>NaN</td>\n      <td>grønngylt</td>\n      <td>117.0</td>\n      <td>f</td>\n      <td>NaN</td>\n      <td>NaN</td>\n      <td>P8250</td>\n      <td>122</td>\n      <td>NaN</td>\n      <td>...</td>\n      <td>NaN</td>\n      <td>NaN</td>\n      <td>NaN</td>\n      <td>1</td>\n      <td>NaN</td>\n      <td>11.0</td>\n      <td>8</td>\n      <td>25</td>\n      <td>1.0</td>\n      <td>3</td>\n    </tr>\n    <tr>\n      <th>5180</th>\n      <td>434827.0</td>\n      <td>NaN</td>\n      <td>grønngylt</td>\n      <td>129.0</td>\n      <td>f</td>\n      <td>NaN</td>\n      <td>NaN</td>\n      <td>P8250</td>\n      <td>140</td>\n      <td>NaN</td>\n      <td>...</td>\n      <td>NaN</td>\n      <td>NaN</td>\n      <td>NaN</td>\n      <td>1</td>\n      <td>NaN</td>\n      <td>15.0</td>\n      <td>8</td>\n      <td>25</td>\n      <td>1.0</td>\n      <td>2</td>\n    </tr>\n  </tbody>\n</table>\n<p>5179 rows × 25 columns</p>\n</div>"
     },
     "execution_count": 160,
     "metadata": {},
     "output_type": "execute_result"
    }
   ],
   "source": [
    "# Hvor mange gange gjenfangster?\n",
    "pit_count = df['pit'].value_counts()\n",
    "pit_count = pit_count.to_dict()\n",
    "df['pit_occurance'] = df.apply(lambda row: pit_count[row['pit']], axis=1)\n",
    "df"
   ],
   "metadata": {
    "collapsed": false,
    "pycharm": {
     "name": "#%%\n"
    }
   }
  },
  {
   "cell_type": "code",
   "execution_count": 161,
   "outputs": [
    {
     "data": {
      "text/plain": "           pit løpernummer    species  length sex  spawning  recap  prefix  \\\n10    201506.0         194  grønngylt   137.0   f       0.0    NaN   PA290   \n11    201506.0         127  grønngylt   138.0   f       0.0    NaN    P502   \n21    202037.0        7355  grønngylt   120.0   m       0.0    1.0   _1160   \n22    202037.0        9425  grønngylt   131.0   m       0.0    1.0    P704   \n24    204295.0        9216  grønngylt   132.0   m       0.0    1.0    P703   \n...        ...         ...        ...     ...  ..       ...    ...     ...   \n5176  434128.0         NaN  grønngylt   174.0   m       NaN    NaN  P82400   \n5177  434807.0         NaN  grønngylt   175.0   f       NaN    NaN   P8250   \n5178  434189.0         NaN  grønngylt   102.0   f       NaN    NaN   P8250   \n5179  434322.0         NaN  grønngylt   117.0   f       NaN    NaN   P8250   \n5180  434827.0         NaN  grønngylt   129.0   f       NaN    NaN   P8250   \n\n      photostart  photostop  ... skade sexorig    dataset nfotos  photoObs  \\\n10           934      935.0  ...   NaN     NaN    LabMain      2       2.0   \n11          1391     1392.0  ...   NaN     NaN    LabMain      2       2.0   \n21           801      802.0  ...   NaN       m  FieldMain      2       2.0   \n22          1637     1638.0  ...   NaN       m  FieldMain      2       2.0   \n24          1554     1555.0  ...   NaN       m  FieldMain      2       2.0   \n...          ...        ...  ...   ...     ...        ...    ...       ...   \n5176          75        NaN  ...   NaN     NaN        NaN      1       NaN   \n5177         112        NaN  ...   NaN     NaN        NaN      1       NaN   \n5178         115        NaN  ...   NaN     NaN        NaN      1       NaN   \n5179         122        NaN  ...   NaN     NaN        NaN      1       NaN   \n5180         140        NaN  ...   NaN     NaN        NaN      1       NaN   \n\n      Temp_løp month day  images_count  pit_occurance  \n10         NaN    10  29           2.0              2  \n11         NaN     5   2           2.0              2  \n21         NaN     5  16           2.0              2  \n22         NaN     7   4           2.0              2  \n24         NaN     7   3           2.0              2  \n...        ...   ...  ..           ...            ...  \n5176       6.0     8  24           1.0              2  \n5177      14.0     8  25           1.0              3  \n5178       7.0     8  25           1.0              2  \n5179      11.0     8  25           1.0              3  \n5180      15.0     8  25           1.0              2  \n\n[1093 rows x 25 columns]",
      "text/html": "<div>\n<style scoped>\n    .dataframe tbody tr th:only-of-type {\n        vertical-align: middle;\n    }\n\n    .dataframe tbody tr th {\n        vertical-align: top;\n    }\n\n    .dataframe thead th {\n        text-align: right;\n    }\n</style>\n<table border=\"1\" class=\"dataframe\">\n  <thead>\n    <tr style=\"text-align: right;\">\n      <th></th>\n      <th>pit</th>\n      <th>løpernummer</th>\n      <th>species</th>\n      <th>length</th>\n      <th>sex</th>\n      <th>spawning</th>\n      <th>recap</th>\n      <th>prefix</th>\n      <th>photostart</th>\n      <th>photostop</th>\n      <th>...</th>\n      <th>skade</th>\n      <th>sexorig</th>\n      <th>dataset</th>\n      <th>nfotos</th>\n      <th>photoObs</th>\n      <th>Temp_løp</th>\n      <th>month</th>\n      <th>day</th>\n      <th>images_count</th>\n      <th>pit_occurance</th>\n    </tr>\n  </thead>\n  <tbody>\n    <tr>\n      <th>10</th>\n      <td>201506.0</td>\n      <td>194</td>\n      <td>grønngylt</td>\n      <td>137.0</td>\n      <td>f</td>\n      <td>0.0</td>\n      <td>NaN</td>\n      <td>PA290</td>\n      <td>934</td>\n      <td>935.0</td>\n      <td>...</td>\n      <td>NaN</td>\n      <td>NaN</td>\n      <td>LabMain</td>\n      <td>2</td>\n      <td>2.0</td>\n      <td>NaN</td>\n      <td>10</td>\n      <td>29</td>\n      <td>2.0</td>\n      <td>2</td>\n    </tr>\n    <tr>\n      <th>11</th>\n      <td>201506.0</td>\n      <td>127</td>\n      <td>grønngylt</td>\n      <td>138.0</td>\n      <td>f</td>\n      <td>0.0</td>\n      <td>NaN</td>\n      <td>P502</td>\n      <td>1391</td>\n      <td>1392.0</td>\n      <td>...</td>\n      <td>NaN</td>\n      <td>NaN</td>\n      <td>LabMain</td>\n      <td>2</td>\n      <td>2.0</td>\n      <td>NaN</td>\n      <td>5</td>\n      <td>2</td>\n      <td>2.0</td>\n      <td>2</td>\n    </tr>\n    <tr>\n      <th>21</th>\n      <td>202037.0</td>\n      <td>7355</td>\n      <td>grønngylt</td>\n      <td>120.0</td>\n      <td>m</td>\n      <td>0.0</td>\n      <td>1.0</td>\n      <td>_1160</td>\n      <td>801</td>\n      <td>802.0</td>\n      <td>...</td>\n      <td>NaN</td>\n      <td>m</td>\n      <td>FieldMain</td>\n      <td>2</td>\n      <td>2.0</td>\n      <td>NaN</td>\n      <td>5</td>\n      <td>16</td>\n      <td>2.0</td>\n      <td>2</td>\n    </tr>\n    <tr>\n      <th>22</th>\n      <td>202037.0</td>\n      <td>9425</td>\n      <td>grønngylt</td>\n      <td>131.0</td>\n      <td>m</td>\n      <td>0.0</td>\n      <td>1.0</td>\n      <td>P704</td>\n      <td>1637</td>\n      <td>1638.0</td>\n      <td>...</td>\n      <td>NaN</td>\n      <td>m</td>\n      <td>FieldMain</td>\n      <td>2</td>\n      <td>2.0</td>\n      <td>NaN</td>\n      <td>7</td>\n      <td>4</td>\n      <td>2.0</td>\n      <td>2</td>\n    </tr>\n    <tr>\n      <th>24</th>\n      <td>204295.0</td>\n      <td>9216</td>\n      <td>grønngylt</td>\n      <td>132.0</td>\n      <td>m</td>\n      <td>0.0</td>\n      <td>1.0</td>\n      <td>P703</td>\n      <td>1554</td>\n      <td>1555.0</td>\n      <td>...</td>\n      <td>NaN</td>\n      <td>m</td>\n      <td>FieldMain</td>\n      <td>2</td>\n      <td>2.0</td>\n      <td>NaN</td>\n      <td>7</td>\n      <td>3</td>\n      <td>2.0</td>\n      <td>2</td>\n    </tr>\n    <tr>\n      <th>...</th>\n      <td>...</td>\n      <td>...</td>\n      <td>...</td>\n      <td>...</td>\n      <td>...</td>\n      <td>...</td>\n      <td>...</td>\n      <td>...</td>\n      <td>...</td>\n      <td>...</td>\n      <td>...</td>\n      <td>...</td>\n      <td>...</td>\n      <td>...</td>\n      <td>...</td>\n      <td>...</td>\n      <td>...</td>\n      <td>...</td>\n      <td>...</td>\n      <td>...</td>\n      <td>...</td>\n    </tr>\n    <tr>\n      <th>5176</th>\n      <td>434128.0</td>\n      <td>NaN</td>\n      <td>grønngylt</td>\n      <td>174.0</td>\n      <td>m</td>\n      <td>NaN</td>\n      <td>NaN</td>\n      <td>P82400</td>\n      <td>75</td>\n      <td>NaN</td>\n      <td>...</td>\n      <td>NaN</td>\n      <td>NaN</td>\n      <td>NaN</td>\n      <td>1</td>\n      <td>NaN</td>\n      <td>6.0</td>\n      <td>8</td>\n      <td>24</td>\n      <td>1.0</td>\n      <td>2</td>\n    </tr>\n    <tr>\n      <th>5177</th>\n      <td>434807.0</td>\n      <td>NaN</td>\n      <td>grønngylt</td>\n      <td>175.0</td>\n      <td>f</td>\n      <td>NaN</td>\n      <td>NaN</td>\n      <td>P8250</td>\n      <td>112</td>\n      <td>NaN</td>\n      <td>...</td>\n      <td>NaN</td>\n      <td>NaN</td>\n      <td>NaN</td>\n      <td>1</td>\n      <td>NaN</td>\n      <td>14.0</td>\n      <td>8</td>\n      <td>25</td>\n      <td>1.0</td>\n      <td>3</td>\n    </tr>\n    <tr>\n      <th>5178</th>\n      <td>434189.0</td>\n      <td>NaN</td>\n      <td>grønngylt</td>\n      <td>102.0</td>\n      <td>f</td>\n      <td>NaN</td>\n      <td>NaN</td>\n      <td>P8250</td>\n      <td>115</td>\n      <td>NaN</td>\n      <td>...</td>\n      <td>NaN</td>\n      <td>NaN</td>\n      <td>NaN</td>\n      <td>1</td>\n      <td>NaN</td>\n      <td>7.0</td>\n      <td>8</td>\n      <td>25</td>\n      <td>1.0</td>\n      <td>2</td>\n    </tr>\n    <tr>\n      <th>5179</th>\n      <td>434322.0</td>\n      <td>NaN</td>\n      <td>grønngylt</td>\n      <td>117.0</td>\n      <td>f</td>\n      <td>NaN</td>\n      <td>NaN</td>\n      <td>P8250</td>\n      <td>122</td>\n      <td>NaN</td>\n      <td>...</td>\n      <td>NaN</td>\n      <td>NaN</td>\n      <td>NaN</td>\n      <td>1</td>\n      <td>NaN</td>\n      <td>11.0</td>\n      <td>8</td>\n      <td>25</td>\n      <td>1.0</td>\n      <td>3</td>\n    </tr>\n    <tr>\n      <th>5180</th>\n      <td>434827.0</td>\n      <td>NaN</td>\n      <td>grønngylt</td>\n      <td>129.0</td>\n      <td>f</td>\n      <td>NaN</td>\n      <td>NaN</td>\n      <td>P8250</td>\n      <td>140</td>\n      <td>NaN</td>\n      <td>...</td>\n      <td>NaN</td>\n      <td>NaN</td>\n      <td>NaN</td>\n      <td>1</td>\n      <td>NaN</td>\n      <td>15.0</td>\n      <td>8</td>\n      <td>25</td>\n      <td>1.0</td>\n      <td>2</td>\n    </tr>\n  </tbody>\n</table>\n<p>1093 rows × 25 columns</p>\n</div>"
     },
     "execution_count": 161,
     "metadata": {},
     "output_type": "execute_result"
    }
   ],
   "source": [
    "# Bare beholde de med flere gjenfangster\n",
    "df[df['pit_occurance'] >= 2]"
   ],
   "metadata": {
    "collapsed": false,
    "pycharm": {
     "name": "#%%\n"
    }
   }
  },
  {
   "cell_type": "code",
   "execution_count": null,
   "outputs": [],
   "source": [],
   "metadata": {
    "collapsed": false,
    "pycharm": {
     "name": "#%%\n"
    }
   }
  }
 ],
 "metadata": {
  "kernelspec": {
   "display_name": "Python 3",
   "language": "python",
   "name": "python3"
  },
  "language_info": {
   "codemirror_mode": {
    "name": "ipython",
    "version": 2
   },
   "file_extension": ".py",
   "mimetype": "text/x-python",
   "name": "python",
   "nbconvert_exporter": "python",
   "pygments_lexer": "ipython2",
   "version": "2.7.6"
  }
 },
 "nbformat": 4,
 "nbformat_minor": 0
}