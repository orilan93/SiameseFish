{
 "cells": [
  {
   "cell_type": "code",
   "execution_count": 1,
   "outputs": [],
   "source": [
    "import pandas as pd\n",
    "import numpy as np\n",
    "import matplotlib.pyplot as plt\n",
    "import random\n"
   ],
   "metadata": {
    "collapsed": false,
    "pycharm": {
     "name": "#%%\n"
    }
   }
  },
  {
   "cell_type": "code",
   "execution_count": 2,
   "outputs": [
    {
     "data": {
      "text/plain": "          x0        x1  y\n0   0.061523  0.998106  0\n1   0.896494 -0.443055  0\n2   0.073455  0.997299  0\n3   0.066758  0.997769  0\n4   0.953832  0.300342  3\n5   0.944404  0.328788  3\n6   0.999564 -0.029530  3\n7   0.970392  0.241535  3\n8   0.330199 -0.943911  4\n9  -0.315449 -0.948943  4\n10 -0.031744 -0.999496  4\n11 -0.361667 -0.932307  4\n12 -0.992586  0.121544  1\n13 -0.973564 -0.228416  1\n14 -0.991464  0.130384  1\n15 -0.999732  0.023168  1\n16  0.562972 -0.826476  2\n17  0.855145 -0.518389  2\n18 -0.024032 -0.999711  2\n19  0.623289 -0.781991  2",
      "text/html": "<div>\n<style scoped>\n    .dataframe tbody tr th:only-of-type {\n        vertical-align: middle;\n    }\n\n    .dataframe tbody tr th {\n        vertical-align: top;\n    }\n\n    .dataframe thead th {\n        text-align: right;\n    }\n</style>\n<table border=\"1\" class=\"dataframe\">\n  <thead>\n    <tr style=\"text-align: right;\">\n      <th></th>\n      <th>x0</th>\n      <th>x1</th>\n      <th>y</th>\n    </tr>\n  </thead>\n  <tbody>\n    <tr>\n      <th>0</th>\n      <td>0.061523</td>\n      <td>0.998106</td>\n      <td>0</td>\n    </tr>\n    <tr>\n      <th>1</th>\n      <td>0.896494</td>\n      <td>-0.443055</td>\n      <td>0</td>\n    </tr>\n    <tr>\n      <th>2</th>\n      <td>0.073455</td>\n      <td>0.997299</td>\n      <td>0</td>\n    </tr>\n    <tr>\n      <th>3</th>\n      <td>0.066758</td>\n      <td>0.997769</td>\n      <td>0</td>\n    </tr>\n    <tr>\n      <th>4</th>\n      <td>0.953832</td>\n      <td>0.300342</td>\n      <td>3</td>\n    </tr>\n    <tr>\n      <th>5</th>\n      <td>0.944404</td>\n      <td>0.328788</td>\n      <td>3</td>\n    </tr>\n    <tr>\n      <th>6</th>\n      <td>0.999564</td>\n      <td>-0.029530</td>\n      <td>3</td>\n    </tr>\n    <tr>\n      <th>7</th>\n      <td>0.970392</td>\n      <td>0.241535</td>\n      <td>3</td>\n    </tr>\n    <tr>\n      <th>8</th>\n      <td>0.330199</td>\n      <td>-0.943911</td>\n      <td>4</td>\n    </tr>\n    <tr>\n      <th>9</th>\n      <td>-0.315449</td>\n      <td>-0.948943</td>\n      <td>4</td>\n    </tr>\n    <tr>\n      <th>10</th>\n      <td>-0.031744</td>\n      <td>-0.999496</td>\n      <td>4</td>\n    </tr>\n    <tr>\n      <th>11</th>\n      <td>-0.361667</td>\n      <td>-0.932307</td>\n      <td>4</td>\n    </tr>\n    <tr>\n      <th>12</th>\n      <td>-0.992586</td>\n      <td>0.121544</td>\n      <td>1</td>\n    </tr>\n    <tr>\n      <th>13</th>\n      <td>-0.973564</td>\n      <td>-0.228416</td>\n      <td>1</td>\n    </tr>\n    <tr>\n      <th>14</th>\n      <td>-0.991464</td>\n      <td>0.130384</td>\n      <td>1</td>\n    </tr>\n    <tr>\n      <th>15</th>\n      <td>-0.999732</td>\n      <td>0.023168</td>\n      <td>1</td>\n    </tr>\n    <tr>\n      <th>16</th>\n      <td>0.562972</td>\n      <td>-0.826476</td>\n      <td>2</td>\n    </tr>\n    <tr>\n      <th>17</th>\n      <td>0.855145</td>\n      <td>-0.518389</td>\n      <td>2</td>\n    </tr>\n    <tr>\n      <th>18</th>\n      <td>-0.024032</td>\n      <td>-0.999711</td>\n      <td>2</td>\n    </tr>\n    <tr>\n      <th>19</th>\n      <td>0.623289</td>\n      <td>-0.781991</td>\n      <td>2</td>\n    </tr>\n  </tbody>\n</table>\n</div>"
     },
     "execution_count": 2,
     "metadata": {},
     "output_type": "execute_result"
    }
   ],
   "source": [
    "from config import DESCRIPTOR_SIZE\n",
    "from data import get_images, IMG_SIZE\n",
    "from classification import get_embeddings\n",
    "import models\n",
    "import tensorflow as tf\n",
    "\n",
    "DATASET_DIR = \"../../data/fruit\"\n",
    "\n",
    "with open(\"../../data/classes_fruit.txt\") as file:\n",
    "    classes = [line.strip() for line in file]\n",
    "\n",
    "X, y = get_images(DATASET_DIR, classes, IMG_SIZE)\n",
    "\n",
    "X = np.array(X)\n",
    "X = tf.keras.applications.inception_v3.preprocess_input(X)\n",
    "y = np.array(y)\n",
    "\n",
    "embedding_model = models.triplet_network_ohnm\n",
    "embedding_model.load_weights('../models/embedding')\n",
    "X_embeddings, y_embeddings = get_embeddings(embedding_model, X, y)\n",
    "\n",
    "columns = [\"x\" + str(i) for i in range(DESCRIPTOR_SIZE)] + [\"y\"]\n",
    "df = pd.DataFrame(np.column_stack([X_embeddings, y_embeddings]), columns=columns)\n",
    "df = df.astype({\"y\": int})\n",
    "df"
   ],
   "metadata": {
    "collapsed": false,
    "pycharm": {
     "name": "#%%\n"
    }
   }
  },
  {
   "cell_type": "code",
   "execution_count": 3,
   "outputs": [
    {
     "data": {
      "text/plain": "              x0         x1          y\ncount  20.000000  20.000000  20.000000\nmean    0.132390  -0.175665   2.000000\nstd     0.721928   0.693195   1.450953\nmin    -0.999732  -0.999711   0.000000\n25%    -0.327003  -0.852934   1.000000\n50%     0.070106  -0.128973   2.000000\n75%     0.865482   0.256237   3.000000\nmax     0.999564   0.998106   4.000000",
      "text/html": "<div>\n<style scoped>\n    .dataframe tbody tr th:only-of-type {\n        vertical-align: middle;\n    }\n\n    .dataframe tbody tr th {\n        vertical-align: top;\n    }\n\n    .dataframe thead th {\n        text-align: right;\n    }\n</style>\n<table border=\"1\" class=\"dataframe\">\n  <thead>\n    <tr style=\"text-align: right;\">\n      <th></th>\n      <th>x0</th>\n      <th>x1</th>\n      <th>y</th>\n    </tr>\n  </thead>\n  <tbody>\n    <tr>\n      <th>count</th>\n      <td>20.000000</td>\n      <td>20.000000</td>\n      <td>20.000000</td>\n    </tr>\n    <tr>\n      <th>mean</th>\n      <td>0.132390</td>\n      <td>-0.175665</td>\n      <td>2.000000</td>\n    </tr>\n    <tr>\n      <th>std</th>\n      <td>0.721928</td>\n      <td>0.693195</td>\n      <td>1.450953</td>\n    </tr>\n    <tr>\n      <th>min</th>\n      <td>-0.999732</td>\n      <td>-0.999711</td>\n      <td>0.000000</td>\n    </tr>\n    <tr>\n      <th>25%</th>\n      <td>-0.327003</td>\n      <td>-0.852934</td>\n      <td>1.000000</td>\n    </tr>\n    <tr>\n      <th>50%</th>\n      <td>0.070106</td>\n      <td>-0.128973</td>\n      <td>2.000000</td>\n    </tr>\n    <tr>\n      <th>75%</th>\n      <td>0.865482</td>\n      <td>0.256237</td>\n      <td>3.000000</td>\n    </tr>\n    <tr>\n      <th>max</th>\n      <td>0.999564</td>\n      <td>0.998106</td>\n      <td>4.000000</td>\n    </tr>\n  </tbody>\n</table>\n</div>"
     },
     "execution_count": 3,
     "metadata": {},
     "output_type": "execute_result"
    }
   ],
   "source": [
    "df = df.astype({\"y\": int})\n",
    "df.describe()"
   ],
   "metadata": {
    "collapsed": false,
    "pycharm": {
     "name": "#%%\n"
    }
   }
  },
  {
   "cell_type": "code",
   "execution_count": 7,
   "outputs": [
    {
     "data": {
      "text/plain": "array([-0.99146354,  0.13038407,  1.        ])"
     },
     "execution_count": 7,
     "metadata": {},
     "output_type": "execute_result"
    }
   ],
   "source": [
    "random_sample = random.randrange(len(df))\n",
    "test = df.iloc[random_sample].to_numpy()\n",
    "test"
   ],
   "metadata": {
    "collapsed": false,
    "pycharm": {
     "name": "#%%\n"
    }
   }
  },
  {
   "cell_type": "code",
   "execution_count": 8,
   "outputs": [
    {
     "data": {
      "text/plain": "          x0        x1  y  distance    cosine\n12 -0.992586  0.121544  1  0.008911  0.000040\n15 -0.999732  0.023168  1  0.107534  0.005782\n13 -0.973564 -0.228416  1  0.359246  0.064529\n11 -0.361667 -0.932307  4  1.235296  0.762978\n9  -0.315449 -0.948943  4  1.273555  0.810971\n0   0.061523  0.998106  0  1.364449  0.930861\n3   0.066758  0.997769  0  1.368280  0.936095\n2   0.073455  0.997299  0  1.373169  0.942796\n10 -0.031744 -0.999496  4  1.482461  1.098845\n18 -0.024032 -0.999711  2  1.487629  1.106520\n8   0.330199 -0.943911  4  1.703204  1.450451\n16  0.562972 -0.826476  2  1.825336  1.665925\n19  0.623289 -0.781991  2  1.854685  1.719928\n5   0.944404  0.328788  3  1.946008  1.893473\n4   0.953832  0.300342  3  1.952706  1.906530\n17  0.855145 -0.518389  2  1.957261  1.915435\n7   0.970392  0.241535  3  1.965002  1.930616\n1   0.896494 -0.443055  0  1.973124  1.946609\n6   0.999564 -0.029530  3  1.997439  1.994881",
      "text/html": "<div>\n<style scoped>\n    .dataframe tbody tr th:only-of-type {\n        vertical-align: middle;\n    }\n\n    .dataframe tbody tr th {\n        vertical-align: top;\n    }\n\n    .dataframe thead th {\n        text-align: right;\n    }\n</style>\n<table border=\"1\" class=\"dataframe\">\n  <thead>\n    <tr style=\"text-align: right;\">\n      <th></th>\n      <th>x0</th>\n      <th>x1</th>\n      <th>y</th>\n      <th>distance</th>\n      <th>cosine</th>\n    </tr>\n  </thead>\n  <tbody>\n    <tr>\n      <th>12</th>\n      <td>-0.992586</td>\n      <td>0.121544</td>\n      <td>1</td>\n      <td>0.008911</td>\n      <td>0.000040</td>\n    </tr>\n    <tr>\n      <th>15</th>\n      <td>-0.999732</td>\n      <td>0.023168</td>\n      <td>1</td>\n      <td>0.107534</td>\n      <td>0.005782</td>\n    </tr>\n    <tr>\n      <th>13</th>\n      <td>-0.973564</td>\n      <td>-0.228416</td>\n      <td>1</td>\n      <td>0.359246</td>\n      <td>0.064529</td>\n    </tr>\n    <tr>\n      <th>11</th>\n      <td>-0.361667</td>\n      <td>-0.932307</td>\n      <td>4</td>\n      <td>1.235296</td>\n      <td>0.762978</td>\n    </tr>\n    <tr>\n      <th>9</th>\n      <td>-0.315449</td>\n      <td>-0.948943</td>\n      <td>4</td>\n      <td>1.273555</td>\n      <td>0.810971</td>\n    </tr>\n    <tr>\n      <th>0</th>\n      <td>0.061523</td>\n      <td>0.998106</td>\n      <td>0</td>\n      <td>1.364449</td>\n      <td>0.930861</td>\n    </tr>\n    <tr>\n      <th>3</th>\n      <td>0.066758</td>\n      <td>0.997769</td>\n      <td>0</td>\n      <td>1.368280</td>\n      <td>0.936095</td>\n    </tr>\n    <tr>\n      <th>2</th>\n      <td>0.073455</td>\n      <td>0.997299</td>\n      <td>0</td>\n      <td>1.373169</td>\n      <td>0.942796</td>\n    </tr>\n    <tr>\n      <th>10</th>\n      <td>-0.031744</td>\n      <td>-0.999496</td>\n      <td>4</td>\n      <td>1.482461</td>\n      <td>1.098845</td>\n    </tr>\n    <tr>\n      <th>18</th>\n      <td>-0.024032</td>\n      <td>-0.999711</td>\n      <td>2</td>\n      <td>1.487629</td>\n      <td>1.106520</td>\n    </tr>\n    <tr>\n      <th>8</th>\n      <td>0.330199</td>\n      <td>-0.943911</td>\n      <td>4</td>\n      <td>1.703204</td>\n      <td>1.450451</td>\n    </tr>\n    <tr>\n      <th>16</th>\n      <td>0.562972</td>\n      <td>-0.826476</td>\n      <td>2</td>\n      <td>1.825336</td>\n      <td>1.665925</td>\n    </tr>\n    <tr>\n      <th>19</th>\n      <td>0.623289</td>\n      <td>-0.781991</td>\n      <td>2</td>\n      <td>1.854685</td>\n      <td>1.719928</td>\n    </tr>\n    <tr>\n      <th>5</th>\n      <td>0.944404</td>\n      <td>0.328788</td>\n      <td>3</td>\n      <td>1.946008</td>\n      <td>1.893473</td>\n    </tr>\n    <tr>\n      <th>4</th>\n      <td>0.953832</td>\n      <td>0.300342</td>\n      <td>3</td>\n      <td>1.952706</td>\n      <td>1.906530</td>\n    </tr>\n    <tr>\n      <th>17</th>\n      <td>0.855145</td>\n      <td>-0.518389</td>\n      <td>2</td>\n      <td>1.957261</td>\n      <td>1.915435</td>\n    </tr>\n    <tr>\n      <th>7</th>\n      <td>0.970392</td>\n      <td>0.241535</td>\n      <td>3</td>\n      <td>1.965002</td>\n      <td>1.930616</td>\n    </tr>\n    <tr>\n      <th>1</th>\n      <td>0.896494</td>\n      <td>-0.443055</td>\n      <td>0</td>\n      <td>1.973124</td>\n      <td>1.946609</td>\n    </tr>\n    <tr>\n      <th>6</th>\n      <td>0.999564</td>\n      <td>-0.029530</td>\n      <td>3</td>\n      <td>1.997439</td>\n      <td>1.994881</td>\n    </tr>\n  </tbody>\n</table>\n</div>"
     },
     "execution_count": 8,
     "metadata": {},
     "output_type": "execute_result"
    }
   ],
   "source": [
    "from scipy.spatial import distance\n",
    "\n",
    "df_distance = df.drop(random_sample)\n",
    "X_support = df_distance.iloc[:, :DESCRIPTOR_SIZE]\n",
    "X_query = test[:-1]\n",
    "diff = X_support.sub(X_query)\n",
    "df_distance['distance'] = np.linalg.norm(diff, axis=1)\n",
    "df_distance['cosine'] = df_distance.apply(lambda row: distance.cosine(row[:2], X_query), axis=1)\n",
    "df_distance = df_distance.sort_values(by='cosine')\n",
    "closest = df_distance.iloc[0].to_numpy()\n",
    "df_distance"
   ],
   "metadata": {
    "collapsed": false,
    "pycharm": {
     "name": "#%%\n"
    }
   }
  },
  {
   "cell_type": "code",
   "execution_count": 9,
   "outputs": [
    {
     "data": {
      "text/plain": "<matplotlib.patches.Circle at 0x1b44f4945b0>"
     },
     "execution_count": 9,
     "metadata": {},
     "output_type": "execute_result"
    },
    {
     "data": {
      "text/plain": "<Figure size 432x288 with 2 Axes>",
      "image/png": "[encoded data removed]"
     },
     "metadata": {
      "needs_background": "light"
     },
     "output_type": "display_data"
    }
   ],
   "source": [
    "df.plot.scatter(x='x0', y='x1', c='y', colormap='Set1', sharex=False)\n",
    "circle_true = plt.Circle((closest[0], closest[1]), 0.05, color='b', fill=False)\n",
    "circle_test = plt.Circle((test[0], test[1]), 0.05, color='g', fill=False)\n",
    "#circle_debug = plt.Circle((df_distance['x0'][12], df_distance['x1'][12]), 0.05, color='r', fill=False)\n",
    "ax = plt.gca()\n",
    "ax.add_artist(circle_test)\n",
    "ax.add_artist(circle_true)\n",
    "#ax.add_artist(circle_debug)"
   ],
   "metadata": {
    "collapsed": false,
    "pycharm": {
     "name": "#%%\n"
    }
   }
  },
  {
   "cell_type": "code",
   "execution_count": 6,
   "outputs": [],
   "source": [],
   "metadata": {
    "collapsed": false,
    "pycharm": {
     "name": "#%%\n"
    }
   }
  }
 ],
 "metadata": {
  "kernelspec": {
   "display_name": "Python 3",
   "language": "python",
   "name": "python3"
  },
  "language_info": {
   "codemirror_mode": {
    "name": "ipython",
    "version": 2
   },
   "file_extension": ".py",
   "mimetype": "text/x-python",
   "name": "python",
   "nbconvert_exporter": "python",
   "pygments_lexer": "ipython2",
   "version": "2.7.6"
  }
 },
 "nbformat": 4,
 "nbformat_minor": 0
}